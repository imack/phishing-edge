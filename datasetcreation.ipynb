{
 "cells": [
  {
   "cell_type": "code",
   "id": "initial_id",
   "metadata": {
    "collapsed": true,
    "ExecuteTime": {
     "end_time": "2024-10-18T22:51:29.656077Z",
     "start_time": "2024-10-18T22:51:29.652110Z"
    }
   },
   "source": [
    "import psycopg2\n",
    "import boto3\n",
    "import h5py\n",
    "import os\n",
    "import numpy as np\n",
    "from PIL import Image\n",
    "import requests\n",
    "from bs4 import BeautifulSoup\n",
    "from io import BytesIO\n",
    "import matplotlib.pyplot as plt\n"
   ],
   "outputs": [],
   "execution_count": 7
  },
  {
   "metadata": {
    "ExecuteTime": {
     "end_time": "2024-10-18T22:51:29.666900Z",
     "start_time": "2024-10-18T22:51:29.664189Z"
    }
   },
   "cell_type": "code",
   "source": [
    "# Database and AWS configuration\n",
    "AWS_S3_BUCKET = 'stingray-phishing-dataset'\n",
    "HDF5_FILE_PATH = 'phishing.h5.nosync'"
   ],
   "id": "e6feaa922ed00a86",
   "outputs": [],
   "execution_count": 8
  },
  {
   "metadata": {
    "ExecuteTime": {
     "end_time": "2024-10-18T22:51:29.676819Z",
     "start_time": "2024-10-18T22:51:29.674291Z"
    }
   },
   "cell_type": "code",
   "source": [
    "# Connect to the database\n",
    "def get_db_connection():\n",
    "    db_string = os.getenv('RDS_CONNECTION')\n",
    "    return psycopg2.connect(db_string)"
   ],
   "id": "9022bec0842dae06",
   "outputs": [],
   "execution_count": 9
  },
  {
   "metadata": {
    "ExecuteTime": {
     "end_time": "2024-10-18T22:51:29.685881Z",
     "start_time": "2024-10-18T22:51:29.683203Z"
    }
   },
   "cell_type": "code",
   "source": [
    "# Helper function to check if an image is mostly white\n",
    "def is_mostly_white(image):\n",
    "    grayscale_image = image.convert('L')\n",
    "    histogram = grayscale_image.histogram()\n",
    "    white_pixels = sum(histogram[230:])\n",
    "    total_pixels = sum(histogram)\n",
    "    return (white_pixels / total_pixels) > 0.9"
   ],
   "id": "ed09371ac0d47946",
   "outputs": [],
   "execution_count": 10
  },
  {
   "metadata": {
    "ExecuteTime": {
     "end_time": "2024-10-18T22:51:29.694361Z",
     "start_time": "2024-10-18T22:51:29.691810Z"
    }
   },
   "cell_type": "code",
   "source": [
    "# Fetch entries from the database\n",
    "def fetch_entries():\n",
    "    with get_db_connection() as conn:\n",
    "        with conn.cursor() as cur:\n",
    "            cur.execute(\"\"\"\n",
    "                SELECT id, full_url, s3_html_key, s3_screenshot_key, source, status\n",
    "                FROM urls\n",
    "                WHERE s3_html_key IS NOT NULL AND s3_screenshot_key IS NOT NULL\n",
    "            \"\"\")\n",
    "            return cur.fetchall()"
   ],
   "id": "2a810fe02172449b",
   "outputs": [],
   "execution_count": 11
  },
  {
   "metadata": {
    "ExecuteTime": {
     "end_time": "2024-10-18T22:51:29.705007Z",
     "start_time": "2024-10-18T22:51:29.700348Z"
    }
   },
   "cell_type": "code",
   "source": [
    "# Create or open the HDF5 file\n",
    "h5_file = h5py.File(HDF5_FILE_PATH, 'a')\n",
    "\n",
    "if 'urls' not in h5_file:\n",
    "    h5_file.create_dataset('urls', (0,), maxshape=(None,), dtype=h5py.string_dtype())\n",
    "if 'screenshots' not in h5_file:\n",
    "    h5_file.create_dataset('screenshots', (0, 340, 680, 3), maxshape=(None, 340, 680, 3), dtype='uint8')\n",
    "if 'html_content' not in h5_file:\n",
    "    h5_file.create_dataset('html_content', (0,), maxshape=(None,), dtype=h5py.string_dtype())\n",
    "if 'status' not in h5_file:\n",
    "    h5_file.create_dataset('status', (0,), maxshape=(None,), dtype='i')\n",
    "if 'source' not in h5_file:\n",
    "    h5_file.create_dataset('source', (0,), maxshape=(None,), dtype='i')\n",
    "        \n"
   ],
   "id": "3773d986896376e1",
   "outputs": [],
   "execution_count": 12
  },
  {
   "metadata": {
    "ExecuteTime": {
     "end_time": "2024-10-18T22:51:29.829836Z",
     "start_time": "2024-10-18T22:51:29.711017Z"
    }
   },
   "cell_type": "code",
   "source": [
    "s3_client = boto3.client('s3')\n",
    "\n",
    "def generate_presigned_url(object_key, expiration=3600):\n",
    "    # Generate the presigned URL\n",
    "    response = s3_client.generate_presigned_url('get_object',\n",
    "                                                Params={\n",
    "                                                    'Bucket': AWS_S3_BUCKET,\n",
    "                                                    'Key': object_key\n",
    "                                                },\n",
    "                                                ExpiresIn=expiration)\n",
    "    return response"
   ],
   "id": "5913fd50989e98de",
   "outputs": [],
   "execution_count": 13
  },
  {
   "metadata": {
    "jupyter": {
     "is_executing": true
    },
    "ExecuteTime": {
     "start_time": "2024-10-18T22:51:29.836915Z"
    }
   },
   "cell_type": "code",
   "source": [
    "import time \n",
    "\n",
    "urls_dataset = h5_file['urls']\n",
    "screenshots_dataset = h5_file['screenshots']\n",
    "html_content_dataset = h5_file['html_content']\n",
    "status_dataset = h5_file['status']\n",
    "source_dataset = h5_file['source']\n",
    "\n",
    "good = 0\n",
    "count = 0\n",
    "# Process entries\n",
    "for entry in fetch_entries():\n",
    "    url_id, full_url, s3_html_key, s3_screenshot_key, status, source = entry\n",
    "    count += 1\n",
    "    if count % 100 == 0:\n",
    "        h5_file.flush()\n",
    "        print(f\"{good}/{count} = {good/count}\")\n",
    "        time.sleep(5)\n",
    "    \n",
    "    # Check if URL is already in HDF5 dataset\n",
    "    if full_url in h5_file['urls']:\n",
    "        continue\n",
    "    \n",
    "    # Download screenshot from S3\n",
    "    try:\n",
    "        screenshot_obj = s3_client.get_object(Bucket=AWS_S3_BUCKET, Key=s3_screenshot_key)\n",
    "        screenshot_image = Image.open(BytesIO(screenshot_obj['Body'].read()))\n",
    "        screenshot_image = screenshot_image.resize((680, 340))  # Resize image to 680x340\n",
    "        screenshot_array = np.array(screenshot_image)\n",
    "    except Exception as e:\n",
    "        print(f\"Error fetching screenshot for URL {full_url}: {e}\")\n",
    "        continue\n",
    "        \n",
    "    # Check if screenshot is mostly white\n",
    "    if is_mostly_white(screenshot_image):\n",
    "        # signed_url = generate_presigned_url(s3_screenshot_key)\n",
    "        # print(signed_url)\n",
    "        continue\n",
    "    \n",
    "    # Download and parse HTML from S3\n",
    "    try:\n",
    "        html_obj = s3_client.get_object(Bucket=AWS_S3_BUCKET, Key=s3_html_key)\n",
    "        html_content = html_obj['Body'].read().decode('utf-8')\n",
    "        soup = BeautifulSoup(html_content, 'html.parser')\n",
    "        main_html_content = soup.prettify()\n",
    "    except Exception as e:\n",
    "        print(f\"Error fetching HTML for URL {full_url}: {e}\")\n",
    "        continue\n",
    "    \n",
    "    new_index = urls_dataset.shape[0]\n",
    "    urls_dataset.resize((new_index + 1,))\n",
    "    urls_dataset[new_index] = full_url\n",
    "    \n",
    "    screenshots_dataset.resize((new_index + 1, 340, 680, 3))\n",
    "    screenshots_dataset[new_index] = screenshot_array\n",
    "\n",
    "    html_content_dataset.resize((new_index + 1,))\n",
    "    html_content_dataset[new_index] = main_html_content\n",
    "\n",
    "    status_dataset.resize((new_index + 1,))\n",
    "    status_dataset[new_index] = status\n",
    "    \n",
    "    source_dataset.resize((new_index + 1,))\n",
    "    source_dataset[new_index] = source\n",
    "    good +=1\n",
    "\n",
    "# Close HDF5 file\n",
    "h5_file.close()\n"
   ],
   "id": "58f6ec9229270d33",
   "outputs": [
    {
     "name": "stdout",
     "output_type": "stream",
     "text": [
      "Error fetching screenshot for URL https://bafybeicxz3kv7i5gquunkseoaygbe3chazinh42at7drfuwkcpnromc4o4.ipfs.dweb.link/: An error occurred (NoSuchKey) when calling the GetObject operation: The specified key does not exist.\n"
     ]
    }
   ],
   "execution_count": null
  }
 ],
 "metadata": {
  "kernelspec": {
   "display_name": "Python 3",
   "language": "python",
   "name": "python3"
  },
  "language_info": {
   "codemirror_mode": {
    "name": "ipython",
    "version": 2
   },
   "file_extension": ".py",
   "mimetype": "text/x-python",
   "name": "python",
   "nbconvert_exporter": "python",
   "pygments_lexer": "ipython2",
   "version": "2.7.6"
  }
 },
 "nbformat": 4,
 "nbformat_minor": 5
}
