{
 "cells": [
  {
   "metadata": {
    "ExecuteTime": {
     "end_time": "2024-11-19T02:41:22.543464Z",
     "start_time": "2024-11-19T01:40:25.357549Z"
    }
   },
   "cell_type": "code",
   "source": [
    "import h5py\n",
    "from transformers import DistilBertTokenizer\n",
    "import matplotlib.pyplot as plt\n",
    "from tqdm import tqdm\n",
    "\n",
    "tokenizer = DistilBertTokenizer.from_pretrained('distilbert-base-uncased')\n",
    "\n",
    "# Path to the h5py file\n",
    "file_path = '/Users/imack/transfer/phishing_output.h5'\n",
    "\n",
    "with h5py.File(file_path, 'r') as h5_file:\n",
    "    html_content_dataset = h5_file['dev/html_content']\n",
    "    \n",
    "    token_lengths = []\n",
    "    \n",
    "    for idx in tqdm(range(len(html_content_dataset)), desc=f'Tokenizing', unit='entry'):\n",
    "        content = html_content_dataset[idx]\n",
    "        token_lengths.append(len(tokenizer.tokenize(str(content.decode('utf-8')))))\n"
   ],
   "id": "59792413b0be55f7",
   "outputs": [
    {
     "name": "stderr",
     "output_type": "stream",
     "text": [
      "/opt/homebrew/Caskroom/miniforge/base/envs/phishing-edge/lib/python3.10/site-packages/huggingface_hub/file_download.py:797: FutureWarning: `resume_download` is deprecated and will be removed in version 1.0.0. Downloads always resume when possible. If you want to force a new download, use `force_download=True`.\n",
      "  warnings.warn(\n",
      "Tokenizing: 100%|██████████| 7126/7126 [1:00:56<00:00,  1.95entry/s]\n"
     ]
    }
   ],
   "execution_count": 6
  },
  {
   "metadata": {
    "ExecuteTime": {
     "end_time": "2024-11-19T02:55:58.373357Z",
     "start_time": "2024-11-19T02:55:58.253764Z"
    }
   },
   "cell_type": "code",
   "source": [
    "import numpy as np\n",
    "print(sum(token_lengths)/len(token_lengths))\n",
    "token_lengths_np = np.array(token_lengths)\n",
    "filtered_lengths = token_lengths_np[token_lengths_np <= 1000_000]\n",
    "print(sum(filtered_lengths)/len(filtered_lengths))\n",
    "\n",
    "plt.figure(figsize=(10, 6))\n",
    "plt.hist(filtered_lengths, bins=50, alpha=0.75, edgecolor='black')\n",
    "plt.xlabel(\"Number of Tokens\", fontsize=12)\n",
    "plt.ylabel(\"Frequency\", fontsize=12)\n",
    "plt.grid(axis='y', linestyle='--', alpha=0.7)\n",
    "plt.show()"
   ],
   "id": "21393b3bb9b36121",
   "outputs": [
    {
     "name": "stdout",
     "output_type": "stream",
     "text": [
      "110821.5846197025\n",
      "88881.57219781778\n"
     ]
    },
    {
     "data": {
      "text/plain": [
       "<Figure size 1000x600 with 1 Axes>"
      ],
      "image/png": "[encoded data removed]"
     },
     "metadata": {},
     "output_type": "display_data"
    }
   ],
   "execution_count": 12
  },
  {
   "metadata": {
    "ExecuteTime": {
     "end_time": "2024-11-19T01:36:49.916041Z",
     "start_time": "2024-11-19T01:36:47.628440Z"
    }
   },
   "cell_type": "code",
   "source": [
    "import h5py\n",
    "from transformers import DistilBertTokenizer\n",
    "import matplotlib.pyplot as plt\n",
    "from tqdm import tqdm\n",
    "\n",
    "tokenizer = DistilBertTokenizer.from_pretrained('distilbert-base-uncased')\n",
    "\n",
    "file_path = '/Users/imack/transfer/phishing_output.h5'\n",
    "\n",
    "with h5py.File(file_path, 'r') as h5_file:\n",
    "    html_content_dataset = h5_file['dev/urls']\n",
    "    \n",
    "    token_lengths = []\n",
    "    \n",
    "    for idx in tqdm(range(len(html_content_dataset)), desc=f'Tokenizing', unit='entry'):\n",
    "        content = html_content_dataset[idx]\n",
    "        token_lengths.append(len(tokenizer.tokenize(str(content.decode('utf-8')))))\n"
   ],
   "id": "676311c21d5505fd",
   "outputs": [
    {
     "name": "stderr",
     "output_type": "stream",
     "text": [
      "/opt/homebrew/Caskroom/miniforge/base/envs/phishing-edge/lib/python3.10/site-packages/huggingface_hub/file_download.py:797: FutureWarning: `resume_download` is deprecated and will be removed in version 1.0.0. Downloads always resume when possible. If you want to force a new download, use `force_download=True`.\n",
      "  warnings.warn(\n",
      "Tokenizing: 100%|██████████| 7126/7126 [00:00<00:00, 8178.92entry/s]\n"
     ]
    }
   ],
   "execution_count": 1
  },
  {
   "metadata": {
    "ExecuteTime": {
     "end_time": "2024-11-19T02:52:21.879682Z",
     "start_time": "2024-11-19T02:52:21.629383Z"
    }
   },
   "cell_type": "code",
   "source": [
    "print(sum(token_lengths)/len(token_lengths))\n",
    "\n",
    "plt.figure(figsize=(10, 6))\n",
    "plt.hist(token_lengths, bins=50, alpha=0.75, edgecolor='black')\n",
    "plt.xlabel(\"Number of Tokens\", fontsize=12)\n",
    "plt.ylabel(\"Frequency\", fontsize=12)\n",
    "plt.grid(axis='y', linestyle='--', alpha=0.7)\n",
    "plt.show()"
   ],
   "id": "94c501b16d6885ae",
   "outputs": [
    {
     "name": "stdout",
     "output_type": "stream",
     "text": [
      "110821.5846197025\n"
     ]
    },
    {
     "ename": "TypeError",
     "evalue": "'<=' not supported between instances of 'list' and 'int'",
     "output_type": "error",
     "traceback": [
      "\u001B[0;31m---------------------------------------------------------------------------\u001B[0m",
      "\u001B[0;31mTypeError\u001B[0m                                 Traceback (most recent call last)",
      "Cell \u001B[0;32mIn[8], line 3\u001B[0m\n\u001B[1;32m      1\u001B[0m \u001B[38;5;28mprint\u001B[39m(\u001B[38;5;28msum\u001B[39m(token_lengths)\u001B[38;5;241m/\u001B[39m\u001B[38;5;28mlen\u001B[39m(token_lengths))\n\u001B[0;32m----> 3\u001B[0m filtered_lengths \u001B[38;5;241m=\u001B[39m token_lengths[\u001B[43mtoken_lengths\u001B[49m\u001B[43m \u001B[49m\u001B[38;5;241;43m<\u001B[39;49m\u001B[38;5;241;43m=\u001B[39;49m\u001B[43m \u001B[49m\u001B[38;5;241;43m1_000_000\u001B[39;49m]\n\u001B[1;32m      4\u001B[0m \u001B[38;5;28mprint\u001B[39m(\u001B[38;5;28msum\u001B[39m(filtered_lengths)\u001B[38;5;241m/\u001B[39m\u001B[38;5;28mlen\u001B[39m(filtered_lengths))\n\u001B[1;32m      6\u001B[0m plt\u001B[38;5;241m.\u001B[39mfigure(figsize\u001B[38;5;241m=\u001B[39m(\u001B[38;5;241m10\u001B[39m, \u001B[38;5;241m6\u001B[39m))\n",
      "\u001B[0;31mTypeError\u001B[0m: '<=' not supported between instances of 'list' and 'int'"
     ]
    }
   ],
   "execution_count": 8
  }
 ],
 "metadata": {
  "kernelspec": {
   "display_name": "Python 3",
   "language": "python",
   "name": "python3"
  },
  "language_info": {
   "codemirror_mode": {
    "name": "ipython",
    "version": 2
   },
   "file_extension": ".py",
   "mimetype": "text/x-python",
   "name": "python",
   "nbconvert_exporter": "python",
   "pygments_lexer": "ipython2",
   "version": "2.7.6"
  }
 },
 "nbformat": 4,
 "nbformat_minor": 5
}
