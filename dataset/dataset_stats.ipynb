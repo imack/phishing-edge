{
 "cells": [
  {
   "metadata": {},
   "cell_type": "markdown",
   "source": "This Notebook is mostly for exploring the hdf5 datasets to get stats about them such as distribution of tokens lengths for URLs and html_content",
   "id": "fd8e6aa44ae4a8d4"
  },
  {
   "metadata": {
    "ExecuteTime": {
     "end_time": "2024-11-23T22:39:39.586733Z",
     "start_time": "2024-11-23T22:31:31.779800Z"
    }
   },
   "cell_type": "code",
   "source": [
    "import h5py\n",
    "from transformers import DistilBertTokenizer\n",
    "import matplotlib.pyplot as plt\n",
    "from tqdm import tqdm\n",
    "\n",
    "tokenizer = DistilBertTokenizer.from_pretrained('distilbert-base-uncased')\n",
    "\n",
    "# Path to the h5py file\n",
    "file_path = '/Users/imack/transfer/phishing_output_tokenized.h5'\n",
    "\n",
    "with h5py.File(file_path, 'r') as h5_file:\n",
    "    html_content_dataset = h5_file['dev/html_content']\n",
    "    \n",
    "    token_lengths = []\n",
    "    \n",
    "    for idx in tqdm(range(len(html_content_dataset)), desc=f'Tokenizing', unit='entry'):\n",
    "        content = html_content_dataset[idx]\n",
    "        token_lengths.append(len(tokenizer.tokenize(str(content.decode('utf-8')))))\n"
   ],
   "id": "59792413b0be55f7",
   "outputs": [
    {
     "name": "stderr",
     "output_type": "stream",
     "text": [
      "/opt/homebrew/Caskroom/miniforge/base/envs/phishing-edge/lib/python3.10/site-packages/huggingface_hub/file_download.py:797: FutureWarning: `resume_download` is deprecated and will be removed in version 1.0.0. Downloads always resume when possible. If you want to force a new download, use `force_download=True`.\n",
      "  warnings.warn(\n",
      "Tokenizing: 100%|██████████| 7126/7126 [08:05<00:00, 14.69entry/s]\n"
     ]
    }
   ],
   "execution_count": 1
  },
  {
   "metadata": {
    "ExecuteTime": {
     "end_time": "2024-11-23T22:40:34.018281Z",
     "start_time": "2024-11-23T22:40:33.943476Z"
    }
   },
   "cell_type": "code",
   "source": [
    "import numpy as np\n",
    "print(sum(token_lengths)/len(token_lengths))\n",
    "token_lengths_np = np.array(token_lengths)\n",
    "filtered_lengths = token_lengths_np[token_lengths_np <= 200_000]\n",
    "print(sum(filtered_lengths)/len(filtered_lengths))\n",
    "\n",
    "plt.figure(figsize=(10, 6))\n",
    "plt.hist(filtered_lengths, bins=50, alpha=0.75, edgecolor='black')\n",
    "plt.xlabel(\"Number of Tokens\", fontsize=12)\n",
    "plt.ylabel(\"Frequency\", fontsize=12)\n",
    "plt.grid(axis='y', linestyle='--', alpha=0.7)\n",
    "plt.show()"
   ],
   "id": "21393b3bb9b36121",
   "outputs": [
    {
     "name": "stdout",
     "output_type": "stream",
     "text": [
      "12018.276031434185\n",
      "10966.892766676048\n"
     ]
    },
    {
     "data": {
      "text/plain": [
       "<Figure size 1000x600 with 1 Axes>"
      ],
      "image/png": "[encoded data removed]"
     },
     "metadata": {},
     "output_type": "display_data"
    }
   ],
   "execution_count": 3
  },
  {
   "metadata": {
    "ExecuteTime": {
     "end_time": "2024-11-28T04:38:31.058839Z",
     "start_time": "2024-11-28T04:13:41.379302Z"
    }
   },
   "cell_type": "code",
   "source": [
    "import torchvision\n",
    "from dataset.phishing_dataset import PhishingDataset\n",
    "from torchvision.transforms import ToPILImage\n",
    "import matplotlib.pyplot as plt\n",
    "import random\n",
    "import os\n",
    "\n",
    "dataset_path = os.path.expanduser(\"~/transfer/phishing_output.h5\")\n",
    "\n",
    "dataset = PhishingDataset(required_data=['image', 'url', 'label'], split='dev', local_file_path=dataset_path)\n",
    "\n",
    "def get_random_image(dataset):\n",
    "\n",
    "    sample = {'label': 0}\n",
    "    while sample['label'] != 1:\n",
    "        random_index = random.randint(0, len(dataset) - 1)\n",
    "        sample = dataset[random_index]\n",
    "\n",
    "    screenshot_image = dataset.screenshots[random_index]\n",
    "    plt.figure(figsize=(256, 170))\n",
    "    plt.imshow(screenshot_image)\n",
    "    plt.axis('off')\n",
    "    plt.savefig('phish_screenshot.png', bbox_inches='tight')\n",
    "    plt.show()\n",
    "    print(sample['url'])\n",
    "\n",
    "    return sample, random_index\n",
    "\n",
    "# Example usage with a sample image\n",
    "tensor_image, class_idx = get_random_image(dataset)\n",
    "print(dataset.labels[class_idx])\n"
   ],
   "id": "226b911912b6d8f8",
   "outputs": [
    {
     "name": "stderr",
     "output_type": "stream",
     "text": [
      "/opt/homebrew/Caskroom/miniforge/base/envs/phishing-edge/lib/python3.10/site-packages/huggingface_hub/file_download.py:797: FutureWarning: `resume_download` is deprecated and will be removed in version 1.0.0. Downloads always resume when possible. If you want to force a new download, use `force_download=True`.\n",
      "  warnings.warn(\n"
     ]
    },
    {
     "ename": "KeyboardInterrupt",
     "evalue": "",
     "output_type": "error",
     "traceback": [
      "\u001B[0;31m---------------------------------------------------------------------------\u001B[0m",
      "\u001B[0;31mKeyboardInterrupt\u001B[0m                         Traceback (most recent call last)",
      "Cell \u001B[0;32mIn[12], line 30\u001B[0m\n\u001B[1;32m     27\u001B[0m     \u001B[38;5;28;01mreturn\u001B[39;00m sample, random_index\n\u001B[1;32m     29\u001B[0m \u001B[38;5;66;03m# Example usage with a sample image\u001B[39;00m\n\u001B[0;32m---> 30\u001B[0m tensor_image, class_idx \u001B[38;5;241m=\u001B[39m \u001B[43mget_random_image\u001B[49m\u001B[43m(\u001B[49m\u001B[43mdataset\u001B[49m\u001B[43m)\u001B[49m\n\u001B[1;32m     31\u001B[0m \u001B[38;5;28mprint\u001B[39m(dataset\u001B[38;5;241m.\u001B[39mlabels[class_idx])\n",
      "Cell \u001B[0;32mIn[12], line 20\u001B[0m, in \u001B[0;36mget_random_image\u001B[0;34m(dataset)\u001B[0m\n\u001B[1;32m     17\u001B[0m     sample \u001B[38;5;241m=\u001B[39m dataset[random_index]\n\u001B[1;32m     19\u001B[0m screenshot_image \u001B[38;5;241m=\u001B[39m dataset\u001B[38;5;241m.\u001B[39mscreenshots[random_index]\n\u001B[0;32m---> 20\u001B[0m \u001B[43mplt\u001B[49m\u001B[38;5;241m.\u001B[39mfigure(figsize\u001B[38;5;241m=\u001B[39m(\u001B[38;5;241m256\u001B[39m, \u001B[38;5;241m170\u001B[39m))\n\u001B[1;32m     21\u001B[0m plt\u001B[38;5;241m.\u001B[39mimshow(screenshot_image)\n\u001B[1;32m     22\u001B[0m plt\u001B[38;5;241m.\u001B[39maxis(\u001B[38;5;124m'\u001B[39m\u001B[38;5;124moff\u001B[39m\u001B[38;5;124m'\u001B[39m)\n",
      "Cell \u001B[0;32mIn[12], line 20\u001B[0m, in \u001B[0;36mget_random_image\u001B[0;34m(dataset)\u001B[0m\n\u001B[1;32m     17\u001B[0m     sample \u001B[38;5;241m=\u001B[39m dataset[random_index]\n\u001B[1;32m     19\u001B[0m screenshot_image \u001B[38;5;241m=\u001B[39m dataset\u001B[38;5;241m.\u001B[39mscreenshots[random_index]\n\u001B[0;32m---> 20\u001B[0m \u001B[43mplt\u001B[49m\u001B[38;5;241m.\u001B[39mfigure(figsize\u001B[38;5;241m=\u001B[39m(\u001B[38;5;241m256\u001B[39m, \u001B[38;5;241m170\u001B[39m))\n\u001B[1;32m     21\u001B[0m plt\u001B[38;5;241m.\u001B[39mimshow(screenshot_image)\n\u001B[1;32m     22\u001B[0m plt\u001B[38;5;241m.\u001B[39maxis(\u001B[38;5;124m'\u001B[39m\u001B[38;5;124moff\u001B[39m\u001B[38;5;124m'\u001B[39m)\n",
      "File \u001B[0;32m_pydevd_bundle/pydevd_cython_darwin_310_64.pyx:1187\u001B[0m, in \u001B[0;36m_pydevd_bundle.pydevd_cython_darwin_310_64.SafeCallWrapper.__call__\u001B[0;34m()\u001B[0m\n",
      "File \u001B[0;32m_pydevd_bundle/pydevd_cython_darwin_310_64.pyx:627\u001B[0m, in \u001B[0;36m_pydevd_bundle.pydevd_cython_darwin_310_64.PyDBFrame.trace_dispatch\u001B[0;34m()\u001B[0m\n",
      "File \u001B[0;32m_pydevd_bundle/pydevd_cython_darwin_310_64.pyx:937\u001B[0m, in \u001B[0;36m_pydevd_bundle.pydevd_cython_darwin_310_64.PyDBFrame.trace_dispatch\u001B[0;34m()\u001B[0m\n",
      "File \u001B[0;32m_pydevd_bundle/pydevd_cython_darwin_310_64.pyx:928\u001B[0m, in \u001B[0;36m_pydevd_bundle.pydevd_cython_darwin_310_64.PyDBFrame.trace_dispatch\u001B[0;34m()\u001B[0m\n",
      "File \u001B[0;32m_pydevd_bundle/pydevd_cython_darwin_310_64.pyx:585\u001B[0m, in \u001B[0;36m_pydevd_bundle.pydevd_cython_darwin_310_64.PyDBFrame.do_wait_suspend\u001B[0;34m()\u001B[0m\n",
      "File \u001B[0;32m~/Applications/PyCharm Professional Edition.app/Contents/plugins/python-ce/helpers/pydev/pydevd.py:1220\u001B[0m, in \u001B[0;36mPyDB.do_wait_suspend\u001B[0;34m(self, thread, frame, event, arg, send_suspend_message, is_unhandled_exception)\u001B[0m\n\u001B[1;32m   1217\u001B[0m         from_this_thread\u001B[38;5;241m.\u001B[39mappend(frame_id)\n\u001B[1;32m   1219\u001B[0m \u001B[38;5;28;01mwith\u001B[39;00m \u001B[38;5;28mself\u001B[39m\u001B[38;5;241m.\u001B[39m_threads_suspended_single_notification\u001B[38;5;241m.\u001B[39mnotify_thread_suspended(thread_id, stop_reason):\n\u001B[0;32m-> 1220\u001B[0m     \u001B[38;5;28;43mself\u001B[39;49m\u001B[38;5;241;43m.\u001B[39;49m\u001B[43m_do_wait_suspend\u001B[49m\u001B[43m(\u001B[49m\u001B[43mthread\u001B[49m\u001B[43m,\u001B[49m\u001B[43m \u001B[49m\u001B[43mframe\u001B[49m\u001B[43m,\u001B[49m\u001B[43m \u001B[49m\u001B[43mevent\u001B[49m\u001B[43m,\u001B[49m\u001B[43m \u001B[49m\u001B[43marg\u001B[49m\u001B[43m,\u001B[49m\u001B[43m \u001B[49m\u001B[43msuspend_type\u001B[49m\u001B[43m,\u001B[49m\u001B[43m \u001B[49m\u001B[43mfrom_this_thread\u001B[49m\u001B[43m)\u001B[49m\n",
      "File \u001B[0;32m~/Applications/PyCharm Professional Edition.app/Contents/plugins/python-ce/helpers/pydev/pydevd.py:1235\u001B[0m, in \u001B[0;36mPyDB._do_wait_suspend\u001B[0;34m(self, thread, frame, event, arg, suspend_type, from_this_thread)\u001B[0m\n\u001B[1;32m   1232\u001B[0m             \u001B[38;5;28mself\u001B[39m\u001B[38;5;241m.\u001B[39m_call_mpl_hook()\n\u001B[1;32m   1234\u001B[0m         \u001B[38;5;28mself\u001B[39m\u001B[38;5;241m.\u001B[39mprocess_internal_commands()\n\u001B[0;32m-> 1235\u001B[0m         \u001B[43mtime\u001B[49m\u001B[38;5;241;43m.\u001B[39;49m\u001B[43msleep\u001B[49m\u001B[43m(\u001B[49m\u001B[38;5;241;43m0.01\u001B[39;49m\u001B[43m)\u001B[49m\n\u001B[1;32m   1237\u001B[0m \u001B[38;5;28mself\u001B[39m\u001B[38;5;241m.\u001B[39mcancel_async_evaluation(get_current_thread_id(thread), \u001B[38;5;28mstr\u001B[39m(\u001B[38;5;28mid\u001B[39m(frame)))\n\u001B[1;32m   1239\u001B[0m \u001B[38;5;66;03m# process any stepping instructions\u001B[39;00m\n",
      "\u001B[0;31mKeyboardInterrupt\u001B[0m: "
     ]
    }
   ],
   "execution_count": 12
  }
 ],
 "metadata": {
  "kernelspec": {
   "display_name": "Python 3",
   "language": "python",
   "name": "python3"
  },
  "language_info": {
   "codemirror_mode": {
    "name": "ipython",
    "version": 2
   },
   "file_extension": ".py",
   "mimetype": "text/x-python",
   "name": "python",
   "nbconvert_exporter": "python",
   "pygments_lexer": "ipython2",
   "version": "2.7.6"
  }
 },
 "nbformat": 4,
 "nbformat_minor": 5
}
