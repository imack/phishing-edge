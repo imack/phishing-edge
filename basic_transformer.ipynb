{
 "cells": [
  {
   "cell_type": "code",
   "id": "initial_id",
   "metadata": {
    "collapsed": true,
    "jupyter": {
     "is_executing": true
    },
    "ExecuteTime": {
     "start_time": "2024-11-08T19:17:00.685640Z"
    }
   },
   "source": [
    "import torch\n",
    "import torch.nn as nn\n",
    "from transformers import DistilBertModel\n",
    "from test_harness import test_harness\n",
    "\n",
    "class PhishingClassifier(nn.Module):\n",
    "    def __init__(self):\n",
    "        super(PhishingClassifier, self).__init__()\n",
    "        self.bert = DistilBertModel.from_pretrained('distilbert-base-uncased')\n",
    "        self.classifier = nn.Linear(self.bert.config.hidden_size, 2)\n",
    "\n",
    "    def forward(self, html_input_ids, html_attention_mask):\n",
    "        outputs = self.bert(input_ids=html_input_ids, attention_mask=html_attention_mask)\n",
    "        logits = self.classifier(outputs.last_hidden_state[:, 0, :])\n",
    "        return logits\n",
    "    \n",
    "    def test_name(self):\n",
    "        return 'basic_html_transformer'\n",
    "\n",
    "device = torch.device('cuda' if torch.cuda.is_available() else 'mps' if torch.backends.mps.is_available() else 'cpu')\n",
    "model = PhishingClassifier().to(device)\n",
    "test_harness(model, epochs=10)\n",
    "torch.save(model.state_dict(), f\"{model.test_name()}_phishing_classifier.pt\")\n",
    "\n"
   ],
   "outputs": [],
   "execution_count": null
  },
  {
   "metadata": {
    "ExecuteTime": {
     "end_time": "2024-11-02T10:08:47.971300Z",
     "start_time": "2024-11-02T10:08:47.969185Z"
    }
   },
   "cell_type": "code",
   "source": "",
   "id": "8968027b030cac0e",
   "outputs": [],
   "execution_count": null
  }
 ],
 "metadata": {
  "kernelspec": {
   "display_name": "Python 3",
   "language": "python",
   "name": "python3"
  },
  "language_info": {
   "codemirror_mode": {
    "name": "ipython",
    "version": 2
   },
   "file_extension": ".py",
   "mimetype": "text/x-python",
   "name": "python",
   "nbconvert_exporter": "python",
   "pygments_lexer": "ipython2",
   "version": "2.7.6"
  }
 },
 "nbformat": 4,
 "nbformat_minor": 5
}
