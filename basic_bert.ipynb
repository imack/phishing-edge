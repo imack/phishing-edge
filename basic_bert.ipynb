{
 "cells": [
  {
   "cell_type": "code",
   "id": "initial_id",
   "metadata": {
    "collapsed": true,
    "jupyter": {
     "is_executing": true
    },
    "ExecuteTime": {
     "start_time": "2024-11-05T04:50:34.730080Z"
    }
   },
   "source": [
    "import torch\n",
    "import torch.nn as nn\n",
    "from transformers import DistilBertModel\n",
    "from test_harness import test_harness\n",
    "\n",
    "class PhishingClassifier(nn.Module):\n",
    "    def __init__(self):\n",
    "        super(PhishingClassifier, self).__init__()\n",
    "\n",
    "        self.bert = DistilBertModel.from_pretrained('distilbert-base-uncased')\n",
    "        \n",
    "        self.classifier = nn.Sequential(\n",
    "            nn.Linear(self.bert.config.hidden_size, 256),\n",
    "            nn.ReLU(),\n",
    "            nn.Dropout(0.3),\n",
    "            nn.Linear(256, 2)\n",
    "        )\n",
    "\n",
    "    def forward(self, url_input_ids, url_attention_mask):\n",
    "        \n",
    "        bert_outputs = self.bert(input_ids=url_input_ids, attention_mask=url_attention_mask)\n",
    "        url_features = bert_outputs.last_hidden_state[:, 0, :]\n",
    "        \n",
    "        logits = self.classifier(url_features)\n",
    "        return logits\n",
    "    \n",
    "    def test_name(self):\n",
    "        return 'basic_url_bert'\n",
    "\n",
    "device = torch.device('cuda' if torch.cuda.is_available() else 'mps' if torch.backends.mps.is_available() else 'cpu')\n",
    "model = PhishingClassifier().to(device)\n",
    "test_harness(model)\n",
    "torch.save(model.state_dict(), \"bert_url_phishing_classifier.pt\")\n",
    "\n"
   ],
   "outputs": [],
   "execution_count": null
  },
  {
   "metadata": {},
   "cell_type": "code",
   "source": "",
   "id": "763541533aeca4ce",
   "outputs": [],
   "execution_count": null
  }
 ],
 "metadata": {
  "kernelspec": {
   "display_name": "Python 3",
   "language": "python",
   "name": "python3"
  },
  "language_info": {
   "codemirror_mode": {
    "name": "ipython",
    "version": 2
   },
   "file_extension": ".py",
   "mimetype": "text/x-python",
   "name": "python",
   "nbconvert_exporter": "python",
   "pygments_lexer": "ipython2",
   "version": "2.7.6"
  }
 },
 "nbformat": 4,
 "nbformat_minor": 5
}
