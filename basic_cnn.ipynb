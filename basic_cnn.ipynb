{
 "cells": [
  {
   "cell_type": "code",
   "id": "initial_id",
   "metadata": {
    "collapsed": true,
    "ExecuteTime": {
     "end_time": "2024-11-05T10:07:37.587068Z",
     "start_time": "2024-11-05T07:12:20.224281Z"
    }
   },
   "source": [
    "import torch\n",
    "import torch.nn as nn\n",
    "from torchvision import models\n",
    "from transformers import DistilBertModel\n",
    "from test_harness import test_harness\n",
    "\n",
    "class PhishingClassifier(nn.Module):\n",
    "    def __init__(self):\n",
    "        super(PhishingClassifier, self).__init__()\n",
    "        self.cnn = models.resnet18(pretrained=True)\n",
    "        self.cnn_fc_features = self.cnn.fc.in_features\n",
    "        self.cnn.fc = nn.Identity() \n",
    "        \n",
    "        # Pre-trained DistilBERT for URL feature extraction\n",
    "        self.bert = DistilBertModel.from_pretrained('distilbert-base-uncased')\n",
    "        \n",
    "        # Classifier combining both CNN and BERT features\n",
    "        self.classifier = nn.Sequential(\n",
    "            nn.Linear(self.cnn_fc_features + self.bert.config.hidden_size, 256),\n",
    "            nn.ReLU(),\n",
    "            nn.Dropout(0.3),\n",
    "            nn.Linear(256, 2)\n",
    "        )\n",
    "\n",
    "    def forward(self, url_input_ids, url_attention_mask, image):\n",
    "        image_features = self.cnn(image)\n",
    "        \n",
    "        bert_outputs = self.bert(input_ids=url_input_ids, attention_mask=url_attention_mask)\n",
    "        url_features = bert_outputs.last_hidden_state[:, 0, :]\n",
    "        \n",
    "        combined_features = torch.cat((image_features, url_features), dim=1)\n",
    "        \n",
    "        logits = self.classifier(combined_features)\n",
    "        return logits\n",
    "    \n",
    "    def test_name(self):\n",
    "        return 'cnn_with_url'\n",
    "\n",
    "device = torch.device('cuda' if torch.cuda.is_available() else 'mps' if torch.backends.mps.is_available() else 'cpu')\n",
    "model = PhishingClassifier().to(device)\n",
    "test_harness(model, epochs=5)\n",
    "torch.save(model.state_dict(), f\"{model.test_name()}_phishing_classifier.pt\")\n",
    "\n"
   ],
   "outputs": [
    {
     "name": "stderr",
     "output_type": "stream",
     "text": [
      "/opt/homebrew/Caskroom/miniforge/base/envs/phishing-edge/lib/python3.10/site-packages/torchvision/models/_utils.py:208: UserWarning: The parameter 'pretrained' is deprecated since 0.13 and may be removed in the future, please use 'weights' instead.\n",
      "  warnings.warn(\n",
      "/opt/homebrew/Caskroom/miniforge/base/envs/phishing-edge/lib/python3.10/site-packages/torchvision/models/_utils.py:223: UserWarning: Arguments other than a weight enum or `None` for 'weights' are deprecated since 0.13 and may be removed in the future. The current behavior is equivalent to passing `weights=ResNet18_Weights.IMAGENET1K_V1`. You can also use `weights=ResNet18_Weights.DEFAULT` to get the most up-to-date weights.\n",
      "  warnings.warn(msg)\n",
      "/opt/homebrew/Caskroom/miniforge/base/envs/phishing-edge/lib/python3.10/site-packages/huggingface_hub/file_download.py:797: FutureWarning: `resume_download` is deprecated and will be removed in version 1.0.0. Downloads always resume when possible. If you want to force a new download, use `force_download=True`.\n",
      "  warnings.warn(\n"
     ]
    },
    {
     "data": {
      "text/plain": [
       "Epoch 1/5:   0%|          | 0/7080 [00:00<?, ?it/s]"
      ],
      "application/vnd.jupyter.widget-view+json": {
       "version_major": 2,
       "version_minor": 0,
       "model_id": "3d1388faf8844c0bb4a5aaf8c6a38458"
      }
     },
     "metadata": {},
     "output_type": "display_data"
    },
    {
     "name": "stdout",
     "output_type": "stream",
     "text": [
      "Epoch 1/5, Average Loss: 0.11199124391476155\n",
      "Epoch 1/5, Test Loss: 0.0626, Precision: 0.9687, Recall: 0.9727, F1 Score: 0.9707, Accuracy: 0.9777\n"
     ]
    },
    {
     "data": {
      "text/plain": [
       "Epoch 2/5:   0%|          | 0/7080 [00:00<?, ?it/s]"
      ],
      "application/vnd.jupyter.widget-view+json": {
       "version_major": 2,
       "version_minor": 0,
       "model_id": "4c03d7a6a08c4752a2bccfa701e74d6a"
      }
     },
     "metadata": {},
     "output_type": "display_data"
    },
    {
     "name": "stdout",
     "output_type": "stream",
     "text": [
      "Epoch 2/5, Average Loss: 0.053912262396750385\n",
      "Epoch 2/5, Test Loss: 0.0619, Precision: 0.9696, Recall: 0.9778, F1 Score: 0.9737, Accuracy: 0.9800\n"
     ]
    },
    {
     "data": {
      "text/plain": [
       "Epoch 3/5:   0%|          | 0/7080 [00:00<?, ?it/s]"
      ],
      "application/vnd.jupyter.widget-view+json": {
       "version_major": 2,
       "version_minor": 0,
       "model_id": "a11f59f64e4848f2ba074aa055863901"
      }
     },
     "metadata": {},
     "output_type": "display_data"
    },
    {
     "name": "stdout",
     "output_type": "stream",
     "text": [
      "Epoch 3/5, Average Loss: 0.03008491509588227\n",
      "Epoch 3/5, Test Loss: 0.0557, Precision: 0.9832, Recall: 0.9708, F1 Score: 0.9770, Accuracy: 0.9826\n"
     ]
    },
    {
     "data": {
      "text/plain": [
       "Epoch 4/5:   0%|          | 0/7080 [00:00<?, ?it/s]"
      ],
      "application/vnd.jupyter.widget-view+json": {
       "version_major": 2,
       "version_minor": 0,
       "model_id": "df68442f30724ff198a8764fdd19fece"
      }
     },
     "metadata": {},
     "output_type": "display_data"
    },
    {
     "name": "stdout",
     "output_type": "stream",
     "text": [
      "Epoch 4/5, Average Loss: 0.019016353558725385\n",
      "Epoch 4/5, Test Loss: 0.0848, Precision: 0.9827, Recall: 0.9634, F1 Score: 0.9730, Accuracy: 0.9797\n"
     ]
    },
    {
     "data": {
      "text/plain": [
       "Epoch 5/5:   0%|          | 0/7080 [00:00<?, ?it/s]"
      ],
      "application/vnd.jupyter.widget-view+json": {
       "version_major": 2,
       "version_minor": 0,
       "model_id": "adff77b52c064773a755a8115c66b793"
      }
     },
     "metadata": {},
     "output_type": "display_data"
    },
    {
     "name": "stdout",
     "output_type": "stream",
     "text": [
      "Epoch 5/5, Average Loss: 0.013983464400673521\n",
      "Epoch 5/5, Test Loss: 0.0857, Precision: 0.9686, Recall: 0.9793, F1 Score: 0.9739, Accuracy: 0.9801\n"
     ]
    }
   ],
   "execution_count": 1
  },
  {
   "metadata": {},
   "cell_type": "code",
   "outputs": [],
   "execution_count": null,
   "source": "",
   "id": "763541533aeca4ce"
  }
 ],
 "metadata": {
  "kernelspec": {
   "display_name": "Python 3",
   "language": "python",
   "name": "python3"
  },
  "language_info": {
   "codemirror_mode": {
    "name": "ipython",
    "version": 2
   },
   "file_extension": ".py",
   "mimetype": "text/x-python",
   "name": "python",
   "nbconvert_exporter": "python",
   "pygments_lexer": "ipython2",
   "version": "2.7.6"
  }
 },
 "nbformat": 4,
 "nbformat_minor": 5
}
