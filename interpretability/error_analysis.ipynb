{
 "cells": [
  {
   "cell_type": "code",
   "id": "initial_id",
   "metadata": {
    "collapsed": true,
    "ExecuteTime": {
     "end_time": "2024-11-28T19:17:14.422215Z",
     "start_time": "2024-11-28T19:16:50.479965Z"
    }
   },
   "source": [
    "from torch.utils.data import DataLoader\n",
    "\n",
    "import torch\n",
    "from classifiers.basic_url_bert_classifier import BasicUrlBertClassifier\n",
    "from dataset.phishing_dataset import PhishingDataset\n",
    "import os\n",
    "from utils import get_filtered_inputs\n",
    "from sklearn.metrics import precision_score, recall_score, f1_score, accuracy_score\n",
    "import torch.nn as nn\n",
    "import pandas as pd\n",
    "\n",
    "dataset_path = os.path.expanduser(\"~/transfer/phishing_output_tokenized_tmp.h5\")\n",
    "\n",
    "test_dataset = PhishingDataset(['url_input_ids', 'url_attention_mask', 'labels', 'url'], split='dev', local_file_path=dataset_path)\n",
    "test_dataloader = DataLoader(test_dataset, batch_size=128, shuffle=False)\n",
    "\n",
    "device = torch.device('cuda' if torch.cuda.is_available() else 'mps' if torch.backends.mps.is_available() else 'cpu')\n",
    "print(device)\n",
    "\n",
    "model = BasicUrlBertClassifier()\n",
    "checkpoint_path = \"../models/basic_url_bert_phishing_classifier.pt\"\n",
    "model.load_state_dict(torch.load(checkpoint_path, map_location=device))\n",
    "model.to(device)\n",
    "model.eval()\n",
    "\n",
    "criterion = nn.CrossEntropyLoss()\n",
    "all_preds, all_labels = [], []\n",
    "total_loss = 0.0\n",
    "num_batches = 0\n",
    "false_positives = []\n",
    "false_negatives = []\n",
    "\n",
    "with torch.no_grad():\n",
    "    for batch in test_dataloader:\n",
    "        labels = batch['label'].to(device)\n",
    "        filtered_inputs = get_filtered_inputs(batch)\n",
    "        outputs = model(**filtered_inputs)\n",
    "\n",
    "        loss = criterion(outputs, labels)\n",
    "        total_loss += loss.item()\n",
    "        num_batches += 1\n",
    "\n",
    "        preds = torch.argmax(outputs, dim=1)\n",
    "\n",
    "        all_preds.extend(preds.cpu().numpy())\n",
    "        all_labels.extend(labels.cpu().numpy())\n",
    "\n",
    "        # Track false positives and false negatives\n",
    "        urls = batch['url']\n",
    "        for i in range(len(labels)):\n",
    "            if labels[i].item() == 1 and preds[i].item() == 0:\n",
    "                false_negatives.append(urls[i])\n",
    "            elif labels[i].item() == 0 and preds[i].item() == 1:\n",
    "                false_positives.append(urls[i])\n",
    "\n",
    "avg_loss = total_loss / num_batches if num_batches > 0 else 0.0\n",
    "\n",
    "precision = precision_score(all_labels, all_preds, average='binary')\n",
    "recall = recall_score(all_labels, all_preds, average='binary')\n",
    "f1 = f1_score(all_labels, all_preds, average='binary')\n",
    "accuracy = accuracy_score(all_labels, all_preds)\n",
    "print(f\"Dev Loss: {loss:.4f}, Precision: {precision:.4f}, Recall: {recall:.4f}, F1 Score: {f1:.4f}, Accuracy: {accuracy:.4f}\")\n",
    "\n"
   ],
   "outputs": [
    {
     "name": "stderr",
     "output_type": "stream",
     "text": [
      "/opt/homebrew/Caskroom/miniforge/base/envs/phishing-edge/lib/python3.10/site-packages/huggingface_hub/file_download.py:797: FutureWarning: `resume_download` is deprecated and will be removed in version 1.0.0. Downloads always resume when possible. If you want to force a new download, use `force_download=True`.\n",
      "  warnings.warn(\n"
     ]
    },
    {
     "name": "stdout",
     "output_type": "stream",
     "text": [
      "mps\n"
     ]
    },
    {
     "name": "stderr",
     "output_type": "stream",
     "text": [
      "/var/folders/j1/dctzbvps2w7cgcp3cflmcxm00000gn/T/ipykernel_95574/3053351133.py:22: FutureWarning: You are using `torch.load` with `weights_only=False` (the current default value), which uses the default pickle module implicitly. It is possible to construct malicious pickle data which will execute arbitrary code during unpickling (See https://github.com/pytorch/pytorch/blob/main/SECURITY.md#untrusted-models for more details). In a future release, the default value for `weights_only` will be flipped to `True`. This limits the functions that could be executed during unpickling. Arbitrary objects will no longer be allowed to be loaded via this mode unless they are explicitly allowlisted by the user via `torch.serialization.add_safe_globals`. We recommend you start setting `weights_only=True` for any use case where you don't have full control of the loaded file. Please open an issue on GitHub for any issues related to this experimental feature.\n",
      "  model.load_state_dict(torch.load(checkpoint_path, map_location=device))\n"
     ]
    },
    {
     "name": "stdout",
     "output_type": "stream",
     "text": [
      "Dev Loss: 0.3683, Precision: 0.9297, Recall: 0.9528, F1 Score: 0.9411, Accuracy: 0.9554\n"
     ]
    }
   ],
   "execution_count": 2
  },
  {
   "metadata": {
    "ExecuteTime": {
     "end_time": "2024-11-28T19:17:45.132123Z",
     "start_time": "2024-11-28T19:17:45.129785Z"
    }
   },
   "cell_type": "code",
   "source": [
    "print(len(false_positives), len(false_negatives))\n",
    "\n",
    "print(false_positives)\n",
    "print(false_negatives)"
   ],
   "id": "f53dc079e9649c9",
   "outputs": [
    {
     "name": "stdout",
     "output_type": "stream",
     "text": [
      "192 126\n",
      "['https://mine.fennecblockchain.com/', 'https://businessangelsummit.at/page.cfm', 'https://1000.menu/', 'https://login.squarespace.com/api/1/login/oauth/provider/authorize', 'https://naver.worksmobile.com/', 'https://www.credem.it/content/credem/it/home.html', 'https://gladly.io/', 'https://methocarbamol.site/', 'https://rustoria-topnews.ru/', 'http://www.100bt.com/', 'https://ataulswebdesigns.com/', 'https://msprivatecars.com/', 'https://drcarloschacon.mystrikingly.com/', 'https://www.qr-code-generator.com/', 'http://portloechurch.org.uk/', 'https://globalk9protectiongroup.com/', 'https://www.active24.cz/servery/virtualni-privatni-servery', 'https://bankofmaharashtra.in/', 'https://allin-mke.com/', 'https://trennungsfaq.com/', 'https://www.clickminded.com/button-generator/', 'https://tigerdave.wixsite.com/website', 'https://data4cure.com/', 'https://lakemartinlocations.com/', 'https://misrecursosdidacticosparaparvulos.blogspot.com/', 'https://unprojects.net/', 'https://discoinfernoband.com/', 'https://bancodevenezuela.com/', 'https://cargo.site', 'https://stampingjoy.blogspot.com/', 'https://hwupgrade.it/', 'https://antibullyingcentre.b-cdn.net/', 'https://cloud.tencent.com/', 'https://celebjihad.com/main6', 'https://bochk.com/', 'https://www.banorte.com/wps/portal/banorte/Home/inicio', 'https://fullh4rd.com.ar/', 'https://freestreet.games/', 'https://upmovies.net/new.html', 'https://www.amazon.com/fabric/b/', 'https://venture.com/domains/customerfeedback.com', 'https://toppsnfts.com/', 'https://mxtoolbox.com/', 'https://w3snoop.com/', 'https://prologis.getbynder.com/login/', 'https://donstroy.moscow/objects/serdtse-stolitsy/', 'https://indiatyping.com/', 'https://healthbuy.com/products/zeta-clear', 'https://secure.actblue.com/', 'https://ignitetech.ai:443/', 'https://stocksnap.io/', 'https://crazytimebangladesh.click/', 'https://dragonauthors.com/bookwyrms/', 'https://excnn.xyz/', 'https://deploy-preview-6073--typescript-eslint.netlify.app/', 'https://mydirtyhobby.com/topamateurs', 'https://croco.site/', 'https://portal.kutxabank.es/cs/Satellite', 'https://www.applesfera.com/', 'https://trbonlineexams.in/', 'https://live-streaming.online/', 'http://gossip1.net/', 'http://itaishinja.com/', 'https://veziserialeonline.info/', 'https://api.repkam09.com/', 'https://ytsyify.com/', 'https://mailfoogae.appspot.com/', 'https://winkandatwirl.com/', 'https://shop.5173.com/', 'http://www.liekr.com/', 'https://nikiad.blogspot.com/', 'https://chat-to-strangers.com/', 'https://keenspot.com/', 'https://www.davivienda.com/wps/portal/personas/nuevo', 'https://www.drmartens.com/', 'https://logdown.com/', 'http://ebitsu.net/', 'https://bookwalker.jp/top/', 'https://ydkjs-exercises.com/', 'https://icooon-mono.com/', 'https://acmebail.com/', 'https://en-intuitiv-sommar.confetti.events/', 'https://www.ardmediathek.de/sendung/bavarian-makers/Y3JpZDovL2JyLmRlL2Jyb2FkY2FzdFNlcmllcy9jOTczZjMwYy01ZjRjLTQwM2YtOTA1OC02YzcyZTQ2ZWM1MDM', 'http://www.sd173.com/', 'https://rootproject.pt/', 'https://majix.xyz/yunohost/sso/', 'https://img.ingping.com/cnotice/yp/pc-home.html', 'https://expy.jp/top.php', 'https://chinhq.square.site/', 'https://www.levelupvirginia.org/finance/financial-aid/vasa-application', 'https://quicktrade.com.ar/', 'https://jbvip.net/', 'https://superiorpainsolutions.com/', 'https://tracking.my/', 'https://dt-updates.com/', 'https://waitron.menu/', 'https://www.fayerwayer.com/', 'http://www.bxwx9.org/', 'https://open-match.dev/site/', 'https://imgflare.com/', 'http://www.1-hash.com/', 'https://modiresabz.com/', 'https://surge.sh/', 'https://clicccar.com/', 'https://tecadmin.net/', 'https://xn--72c9ah5dd7a5a9gsbzb.com/', 'https://hotstar.online/', 'http://www.papalouie.com/', 'https://9alami.info/loginto/', 'https://steamid.io/', 'https://digiup.online/', 'https://oppai-doga.info/', 'https://androidoyun.club/apks', 'https://sateraito-apps-sso.appspot.com/', 'https://www.nextmd.com/ud2/Login/Login.aspx', 'http://www.blue3w.com/', 'https://qupu123.com/', 'https://pronosticos.gob.mx/', 'https://zbiornik.tv/accept/Lw==', 'http://www.vapiescortsservice.in/', 'https://verifycontent.net/cl/a41986f8-d5c5-409f-a0e2-ad7961772083', 'https://ergobodypt.com/', 'https://permainanslotcuan.website/', 'https://chasershop.com/', 'https://coink.wang/', 'https://whapl.square.site/', 'https://ccs-ws.net/', 'https://www.netflixparty.pro/', 'https://www.hoffmannworkcomp.com/missouri-workers-compensation-claims-process/', 'https://zo.xyz/', 'https://dnapn.de/', 'https://savein.money/', 'https://app.gen5.digital/', 'https://culture.dotsmark.com/ja-us', 'https://moves.framer.website/', 'https://icb.v2.dedicatedpool.com/', 'https://ignaciomartinez.com.mx/', 'https://serene-leaf.webflow.io/', 'https://www.missnewbootyla.com/', 'https://dudasprogramacion.com/', 'https://bankingonbaghdad.com/', 'https://nxs.gold/', 'https://7altcoins.com/', 'https://www.holdenqigong.com/p/', 'https://sunpumps.com/', 'https://fee-payment.epo.org/en/login', 'https://wordpress-526969-2280362.cloudwaysapps.com/', 'https://iovxw.net/', 'https://pkgs.tailscale.com/', 'https://ocac-choice.com/', 'http://meiga.shop-pro.jp/', 'https://careers-devereux.icims.com/', 'https://www.choosests.com/', 'http://www.chillispot.org/', 'https://ucamps.rpsins.com/', 'https://coinlock.app/', 'http://www.generatorevent.com/', 'https://prairiecedarcreations1.godaddysites.com/', 'https://zeugaz.getxo.eus/', 'http://cs-lords.ru/', 'https://amulet-2oc-h2020.fundingbox.com/', 'https://files.themesuite.com/', 'https://securedocusend.com/', 'https://amioashik.xyz/', 'https://ldarchdesign.com/', 'https://sisonline.uni-due.de/LS/2090317350/INF', 'https://mjtd.com.mm/', 'https://tokenize.exchange/', 'https://yieldification.com/', 'https://cannabisverifications.com/', 'https://bradjames.net/2024/', 'https://help-pohudet.ru/', 'https://usdjpy.fxrec.com/', 'http://www.needles4jukeboxes.com/New%20&%20Used%20Vintage%20Jukebox%20Parts.htm', 'http://www.deutschestiftungschlaf.org/', 'https://deltaveng.com/index.html', 'https://ap-woncep.myshopify.com/password', 'https://ove53sw02e.pixnet.net/blog', 'https://royal-immobilier.com/', 'https://bevspot.com/', 'https://galleries.vidflow.co/login', 'https://periodicorease.pro.br/rease', 'https://buzzwordjp.blogspot.com/', 'https://dellstoragevr.dell.com/', 'https://upanda.life/', 'https://foamholdings.com/', 'https://colchaointeligente.com.br/', 'https://allsoulsnyc.org/', 'https://multistep-component-03.webflow.io/', 'https://bees.aero/uk-UA', 'https://whoswho.eu/', 'https://dualreads.blogspot.com/']\n",
      "['https://mertkarakaslitr.com/', 'https://trken.in/', 'https://taplink.cc/rrrtewjry7', 'https://dbsdeil.com/', 'https://uk-profitai.com/', 'https://url.rw/buc00', 'https://disc.singkr.com/', 'https://synapsesms.com/', 'https://dearvan.biz/fr/sweep/freeiphone/', 'https://mercadobitcoinokl.com/', 'https://xazjm.hp.peraichi.com/', 'https://vargoti.site/', 'https://tccbtrhazegohd10.com/', 'https://sketchco.com.sa/500/sts.rockefeller.edu/', 'http://www.botaomg.com/', 'https://office2024.jinzhouxz.cn/', 'https://www.pousadacapimmelado.com.br/a-pousada/', 'https://rheinfelderrhof.com/', 'https://myucl.xyz/', 'https://www.cryptoglints.com/', 'https://z.smartsdealz.xyz/', 'https://of.on-clik.live/KumpulantiktokMelayuviralterkini/', 'https://shed.eachcinema.shop/', 'https://fr.foguangshan.fr/leboncoin-pay.fr/', 'https://crow-khaki-6btk.squarespace.com/', 'https://www.nhh.ire.mybluehost.me/', 'https://lm.smartsdealz.xyz/', 'https://tcmtrhangohd980.com/', 'https://dd1678.com/', 'https://jiujiub8.com/', 'https://urfamous.com/', 'https://juno.crazywhiteboy.dj/', 'https://jurastudieren.de/wp-content/languages/-/-/AMETA24YY/us/', 'https://www.toknepocket.com/', 'https://www.kipjackson.com/', 'https://thetrustaccountmanage.com/', 'https://tripplettechnologies.com/', 'https://vazlos.com/', 'https://winx7.in/', 'https://sdijiffaad.com/', 'https://sparkasse.de.hivernaldelbages.com/', 'https://torapooh.main.jp/store/auth.sso/auth.sso.biglobe.ne.jp/wms.sso.biglobe.ne.jp/', 'https://emerencianno.com.br/', 'https://simplesocialboost.com.ng/', 'https://yifangfengshun.com/', 'https://www.crt.micrftsht.xyz/', 'https://antivirusassists.com/', 'https://www.parahouma.x10.mx/', 'https://ibailey.cl/web1.plala.or.jp/plala.or.jps/index.html', 'https://main.yakin303.cyou/', 'https://doctormouse.pt/', 'https://ubank.tec.br/', 'https://tracking-omniva.ee.brainsystems-it.com/', 'https://www.gaurswap.org/', 'https://battlegroundsmobileindia.enentmax.com/', 'https://mymall1.com/', 'https://www.derumweltzuliebe.com/', 'https://www.cinefaanblak.com/', 'https://getts.great-deals.site/', 'https://skatdkopdatering.com/informat', 'https://radiofiesta.mx/', 'https://rmail.mslogistics.us/', 'https://hotnotair.homelinux.org/NOTAIRE/', 'https://nextv.tvfsv.online/', 'https://laserinnhyd.com/', 'https://helpclubpositive.com/', 'https://inkspiration.zapto.org/', 'https://lojasmaglulza.com/', 'https://kiounbesxtion.webflow.io/', 'https://shaawww.square.site/', 'https://casadellanatura.com/', 'https://www.ngtienda-ug.site/', 'https://darx789.com/', 'http://wwwyezubuluo.com/', 'https://ainsvll.com/', 'https://emanagement.services/', 'https://elkjhm.com/', 'https://my.govauhelp.cc/myaccount', 'https://dkb-ag.oknari.sk/de/', 'https://kotelegram.org/', 'https://lpsholdings.co.za/bancodepopularvi-region-online.lpsholdings.co.za/', 'https://raqamtasdiqlash.com/', 'https://sopha.de/image/background-image-cropper/freelanding/index.html', 'https://yuodioae.xyz/', 'https://nietflix.nl/', 'https://0cd2.tkurl.link/', 'https://zz.whats.com.lv/', 'https://sen16888sensen888.com/', 'https://www.aavance.pe/error_cgi/gmo/', 'https://www.iflychocolates.com/arvest/', 'https://buyinternational1.xyz/', 'https://ejemplo.com.ar/', 'https://telgaram.com/', 'https://schawabh.nargosliy.com/', 'https://global-fnd.com/', 'https://s-vorgang.de/', 'https://trivision.com.au/cp/alibaba/', 'http://www.kb432.com/', 'https://fxtshn.com/', 'https://linkyway.tripod.com/', 'https://spectahub.net/', 'https://www.ramco-egypt.com/', 'https://standpromo-code.ru/', 'https://hespiriamos.za.com/', 'https://milandingpage.net/bipweb/', 'https://6466758.dkio.sa.com/', 'https://portalcajalosandes.info/', 'https://eletroblindados.com.br/', 'https://unisddtt.com/', 'https://spare1b.com/', 'https://enetflixforyou.blogspot.com/', 'https://noticemygov.com/', 'https://www.ssbancomer.com/', 'https://www.pubgmturkiye.com/', 'https://orionki.eu/strato/login', 'https://tonnga.com/t2.html', 'https://wstewart07.brandaio.com/', 'https://brigadamnistiaclaroprod.online/', 'https://hodgesplc.com/', 'https://danskestage.stoppservice.com/', 'https://krasnodar-arena-kassa.ru/', 'https://hungakiragaming.pw.io.vn/', 'https://hcfministries.com/', 'https://groupmyviral.xyz/', 'https://feedback.workplacesurveys.net/', 'https://codte.com/.home/']\n"
     ]
    }
   ],
   "execution_count": 4
  },
  {
   "metadata": {},
   "cell_type": "code",
   "outputs": [],
   "execution_count": null,
   "source": [
    "# Store false positives and false negatives in CSV files\n",
    "fp_df = pd.DataFrame(false_positives, columns=['False Positive URLs'])\n",
    "fn_df = pd.DataFrame(false_negatives, columns=['False Negative URLs'])\n",
    "\n",
    "fp_df.to_csv('false_positives.csv', index=False)\n",
    "fn_df.to_csv('false_negatives.csv', index=False)\n",
    "\n",
    "print(\"False positives and false negatives have been saved to 'false_positives.csv' and 'false_negatives.csv'\")"
   ],
   "id": "6624831cc8bc4d7e"
  }
 ],
 "metadata": {
  "kernelspec": {
   "display_name": "Python 3",
   "language": "python",
   "name": "python3"
  },
  "language_info": {
   "codemirror_mode": {
    "name": "ipython",
    "version": 2
   },
   "file_extension": ".py",
   "mimetype": "text/x-python",
   "name": "python",
   "nbconvert_exporter": "python",
   "pygments_lexer": "ipython2",
   "version": "2.7.6"
  }
 },
 "nbformat": 4,
 "nbformat_minor": 5
}
