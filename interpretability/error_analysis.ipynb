{
 "cells": [
  {
   "metadata": {},
   "cell_type": "markdown",
   "source": "Helper notebook to run a model against dev set and get list of URLs that were miscategorized as False Negative or False Positive.",
   "id": "dcbb70c40cf260da"
  },
  {
   "cell_type": "code",
   "id": "initial_id",
   "metadata": {
    "collapsed": true,
    "ExecuteTime": {
     "end_time": "2024-11-29T07:04:24.813382Z",
     "start_time": "2024-11-29T07:04:14.321341Z"
    }
   },
   "source": [
    "from torch.utils.data import DataLoader\n",
    "import torch\n",
    "from classifiers.basic_url_skinny_bert_classifier import BasicUrlSkinnyBertClassifier\n",
    "from dataset.phishing_dataset import PhishingDataset\n",
    "import os\n",
    "from utils import get_filtered_inputs\n",
    "import shap\n",
    "from transformers import DistilBertTokenizer\n",
    "\n",
    "# Define dataset path and load the dataset\n",
    "dataset_path = os.path.expanduser(\"~/transfer/phishing_output_tokenized.h5\")\n",
    "\n",
    "test_dataset = PhishingDataset(['url_input_ids', 'url_attention_mask', 'labels', 'url'], split='dev', local_file_path=dataset_path)\n",
    "test_dataloader = DataLoader(test_dataset, batch_size=128, shuffle=False)\n",
    "\n",
    "# Set device\n",
    "device = torch.device('cuda' if torch.cuda.is_available() else 'mps' if torch.backends.mps.is_available() else 'cpu')\n",
    "print(device)\n",
    "\n",
    "# Load the model\n",
    "model = BasicUrlSkinnyBertClassifier()\n",
    "checkpoint_path = \"../models/canonical/basic_url_skinny_bert_phishing_classifier_epoch_1.pt\"\n",
    "model.load_state_dict(torch.load(checkpoint_path, map_location=device))\n",
    "model.to(device)\n",
    "model.eval()\n",
    "\n",
    "# Load tokenizer for encoding\n",
    "tokenizer = DistilBertTokenizer.from_pretrained('distilbert-base-uncased')\n",
    "\n",
    "# Create a prediction function for SHAP\n",
    "def predict(inputs):\n",
    "    if isinstance(inputs, list):\n",
    "        inputs = tokenizer(inputs, return_tensors='pt', padding=True, truncation=True, max_length=128)\n",
    "    else:\n",
    "        inputs = tokenizer([inputs], return_tensors='pt', padding=True, truncation=True, max_length=128)\n",
    "    inputs = {k: v.to(device) for k, v in inputs.items()}\n",
    "    with torch.no_grad():\n",
    "        logits = model(inputs['input_ids'], inputs['attention_mask'])\n",
    "    return torch.softmax(logits, dim=1).cpu().numpy()\n",
    "\n",
    "# Use SHAP to explain the model's predictions\n",
    "explainer = shap.Explainer(predict, tokenizer)\n",
    "\n",
    "# Get the first batch and calculate SHAP values\n",
    "with torch.no_grad():\n",
    "    for batch in test_dataloader:\n",
    "        urls = batch['url']\n",
    "        # Get SHAP values for the first batch\n",
    "        shap_values = explainer(urls[0])\n",
    "        shap.plots.text(shap_values)  # Display SHAP values as a text plot for the first example\n",
    "        break  # Only process the first batch\n"
   ],
   "outputs": [
    {
     "name": "stderr",
     "output_type": "stream",
     "text": [
      "/opt/homebrew/Caskroom/miniforge/base/envs/phishing-edge/lib/python3.10/site-packages/huggingface_hub/file_download.py:797: FutureWarning: `resume_download` is deprecated and will be removed in version 1.0.0. Downloads always resume when possible. If you want to force a new download, use `force_download=True`.\n",
      "  warnings.warn(\n"
     ]
    },
    {
     "name": "stdout",
     "output_type": "stream",
     "text": [
      "mps\n"
     ]
    },
    {
     "name": "stderr",
     "output_type": "stream",
     "text": [
      "/var/folders/j1/dctzbvps2w7cgcp3cflmcxm00000gn/T/ipykernel_44169/600083240.py:23: FutureWarning: You are using `torch.load` with `weights_only=False` (the current default value), which uses the default pickle module implicitly. It is possible to construct malicious pickle data which will execute arbitrary code during unpickling (See https://github.com/pytorch/pytorch/blob/main/SECURITY.md#untrusted-models for more details). In a future release, the default value for `weights_only` will be flipped to `True`. This limits the functions that could be executed during unpickling. Arbitrary objects will no longer be allowed to be loaded via this mode unless they are explicitly allowlisted by the user via `torch.serialization.add_safe_globals`. We recommend you start setting `weights_only=True` for any use case where you don't have full control of the loaded file. Please open an issue on GitHub for any issues related to this experimental feature.\n",
      "  model.load_state_dict(torch.load(checkpoint_path, map_location=device))\n"
     ]
    },
    {
     "ename": "ValueError",
     "evalue": "text input must be of type `str` (single example), `List[str]` (batch or single pretokenized example) or `List[List[str]]` (batch of pretokenized examples).",
     "output_type": "error",
     "traceback": [
      "\u001B[0;31m---------------------------------------------------------------------------\u001B[0m",
      "\u001B[0;31mValueError\u001B[0m                                Traceback (most recent call last)",
      "Cell \u001B[0;32mIn[1], line 49\u001B[0m\n\u001B[1;32m     47\u001B[0m urls \u001B[38;5;241m=\u001B[39m batch[\u001B[38;5;124m'\u001B[39m\u001B[38;5;124murl\u001B[39m\u001B[38;5;124m'\u001B[39m]\n\u001B[1;32m     48\u001B[0m \u001B[38;5;66;03m# Get SHAP values for the first batch\u001B[39;00m\n\u001B[0;32m---> 49\u001B[0m shap_values \u001B[38;5;241m=\u001B[39m \u001B[43mexplainer\u001B[49m\u001B[43m(\u001B[49m\u001B[43murls\u001B[49m\u001B[43m[\u001B[49m\u001B[38;5;241;43m0\u001B[39;49m\u001B[43m]\u001B[49m\u001B[43m)\u001B[49m\n\u001B[1;32m     50\u001B[0m shap\u001B[38;5;241m.\u001B[39mplots\u001B[38;5;241m.\u001B[39mtext(shap_values)  \u001B[38;5;66;03m# Display SHAP values as a text plot for the first example\u001B[39;00m\n\u001B[1;32m     51\u001B[0m \u001B[38;5;28;01mbreak\u001B[39;00m  \u001B[38;5;66;03m# Only process the first batch\u001B[39;00m\n",
      "File \u001B[0;32m/opt/homebrew/Caskroom/miniforge/base/envs/phishing-edge/lib/python3.10/site-packages/shap/explainers/_partition.py:128\u001B[0m, in \u001B[0;36mPartitionExplainer.__call__\u001B[0;34m(self, max_evals, fixed_context, main_effects, error_bounds, batch_size, outputs, silent, *args)\u001B[0m\n\u001B[1;32m    125\u001B[0m \u001B[38;5;28;01mdef\u001B[39;00m \u001B[38;5;21m__call__\u001B[39m(\u001B[38;5;28mself\u001B[39m, \u001B[38;5;241m*\u001B[39margs, max_evals\u001B[38;5;241m=\u001B[39m\u001B[38;5;241m500\u001B[39m, fixed_context\u001B[38;5;241m=\u001B[39m\u001B[38;5;28;01mNone\u001B[39;00m, main_effects\u001B[38;5;241m=\u001B[39m\u001B[38;5;28;01mFalse\u001B[39;00m, error_bounds\u001B[38;5;241m=\u001B[39m\u001B[38;5;28;01mFalse\u001B[39;00m, batch_size\u001B[38;5;241m=\u001B[39m\u001B[38;5;124m\"\u001B[39m\u001B[38;5;124mauto\u001B[39m\u001B[38;5;124m\"\u001B[39m,\n\u001B[1;32m    126\u001B[0m              outputs\u001B[38;5;241m=\u001B[39m\u001B[38;5;28;01mNone\u001B[39;00m, silent\u001B[38;5;241m=\u001B[39m\u001B[38;5;28;01mFalse\u001B[39;00m):\n\u001B[1;32m    127\u001B[0m \u001B[38;5;250m    \u001B[39m\u001B[38;5;124;03m\"\"\"Explain the output of the model on the given arguments.\"\"\"\u001B[39;00m\n\u001B[0;32m--> 128\u001B[0m     \u001B[38;5;28;01mreturn\u001B[39;00m \u001B[38;5;28;43msuper\u001B[39;49m\u001B[43m(\u001B[49m\u001B[43m)\u001B[49m\u001B[38;5;241;43m.\u001B[39;49m\u001B[38;5;21;43m__call__\u001B[39;49m\u001B[43m(\u001B[49m\n\u001B[1;32m    129\u001B[0m \u001B[43m        \u001B[49m\u001B[38;5;241;43m*\u001B[39;49m\u001B[43margs\u001B[49m\u001B[43m,\u001B[49m\u001B[43m \u001B[49m\u001B[43mmax_evals\u001B[49m\u001B[38;5;241;43m=\u001B[39;49m\u001B[43mmax_evals\u001B[49m\u001B[43m,\u001B[49m\u001B[43m \u001B[49m\u001B[43mfixed_context\u001B[49m\u001B[38;5;241;43m=\u001B[39;49m\u001B[43mfixed_context\u001B[49m\u001B[43m,\u001B[49m\u001B[43m \u001B[49m\u001B[43mmain_effects\u001B[49m\u001B[38;5;241;43m=\u001B[39;49m\u001B[43mmain_effects\u001B[49m\u001B[43m,\u001B[49m\u001B[43m \u001B[49m\u001B[43merror_bounds\u001B[49m\u001B[38;5;241;43m=\u001B[39;49m\u001B[43merror_bounds\u001B[49m\u001B[43m,\u001B[49m\u001B[43m \u001B[49m\u001B[43mbatch_size\u001B[49m\u001B[38;5;241;43m=\u001B[39;49m\u001B[43mbatch_size\u001B[49m\u001B[43m,\u001B[49m\n\u001B[1;32m    130\u001B[0m \u001B[43m        \u001B[49m\u001B[43moutputs\u001B[49m\u001B[38;5;241;43m=\u001B[39;49m\u001B[43moutputs\u001B[49m\u001B[43m,\u001B[49m\u001B[43m \u001B[49m\u001B[43msilent\u001B[49m\u001B[38;5;241;43m=\u001B[39;49m\u001B[43msilent\u001B[49m\n\u001B[1;32m    131\u001B[0m \u001B[43m    \u001B[49m\u001B[43m)\u001B[49m\n",
      "File \u001B[0;32m/opt/homebrew/Caskroom/miniforge/base/envs/phishing-edge/lib/python3.10/site-packages/shap/explainers/_explainer.py:266\u001B[0m, in \u001B[0;36mExplainer.__call__\u001B[0;34m(self, max_evals, main_effects, error_bounds, batch_size, outputs, silent, *args, **kwargs)\u001B[0m\n\u001B[1;32m    264\u001B[0m     feature_names \u001B[38;5;241m=\u001B[39m [[] \u001B[38;5;28;01mfor\u001B[39;00m _ \u001B[38;5;129;01min\u001B[39;00m \u001B[38;5;28mrange\u001B[39m(\u001B[38;5;28mlen\u001B[39m(args))]\n\u001B[1;32m    265\u001B[0m \u001B[38;5;28;01mfor\u001B[39;00m row_args \u001B[38;5;129;01min\u001B[39;00m show_progress(\u001B[38;5;28mzip\u001B[39m(\u001B[38;5;241m*\u001B[39margs), num_rows, \u001B[38;5;28mself\u001B[39m\u001B[38;5;241m.\u001B[39m\u001B[38;5;18m__class__\u001B[39m\u001B[38;5;241m.\u001B[39m\u001B[38;5;18m__name__\u001B[39m\u001B[38;5;241m+\u001B[39m\u001B[38;5;124m\"\u001B[39m\u001B[38;5;124m explainer\u001B[39m\u001B[38;5;124m\"\u001B[39m, silent):\n\u001B[0;32m--> 266\u001B[0m     row_result \u001B[38;5;241m=\u001B[39m \u001B[38;5;28;43mself\u001B[39;49m\u001B[38;5;241;43m.\u001B[39;49m\u001B[43mexplain_row\u001B[49m\u001B[43m(\u001B[49m\n\u001B[1;32m    267\u001B[0m \u001B[43m        \u001B[49m\u001B[38;5;241;43m*\u001B[39;49m\u001B[43mrow_args\u001B[49m\u001B[43m,\u001B[49m\u001B[43m \u001B[49m\u001B[43mmax_evals\u001B[49m\u001B[38;5;241;43m=\u001B[39;49m\u001B[43mmax_evals\u001B[49m\u001B[43m,\u001B[49m\u001B[43m \u001B[49m\u001B[43mmain_effects\u001B[49m\u001B[38;5;241;43m=\u001B[39;49m\u001B[43mmain_effects\u001B[49m\u001B[43m,\u001B[49m\u001B[43m \u001B[49m\u001B[43merror_bounds\u001B[49m\u001B[38;5;241;43m=\u001B[39;49m\u001B[43merror_bounds\u001B[49m\u001B[43m,\u001B[49m\n\u001B[1;32m    268\u001B[0m \u001B[43m        \u001B[49m\u001B[43mbatch_size\u001B[49m\u001B[38;5;241;43m=\u001B[39;49m\u001B[43mbatch_size\u001B[49m\u001B[43m,\u001B[49m\u001B[43m \u001B[49m\u001B[43moutputs\u001B[49m\u001B[38;5;241;43m=\u001B[39;49m\u001B[43moutputs\u001B[49m\u001B[43m,\u001B[49m\u001B[43m \u001B[49m\u001B[43msilent\u001B[49m\u001B[38;5;241;43m=\u001B[39;49m\u001B[43msilent\u001B[49m\u001B[43m,\u001B[49m\u001B[43m \u001B[49m\u001B[38;5;241;43m*\u001B[39;49m\u001B[38;5;241;43m*\u001B[39;49m\u001B[43mkwargs\u001B[49m\n\u001B[1;32m    269\u001B[0m \u001B[43m    \u001B[49m\u001B[43m)\u001B[49m\n\u001B[1;32m    270\u001B[0m     values\u001B[38;5;241m.\u001B[39mappend(row_result\u001B[38;5;241m.\u001B[39mget(\u001B[38;5;124m\"\u001B[39m\u001B[38;5;124mvalues\u001B[39m\u001B[38;5;124m\"\u001B[39m, \u001B[38;5;28;01mNone\u001B[39;00m))\n\u001B[1;32m    271\u001B[0m     output_indices\u001B[38;5;241m.\u001B[39mappend(row_result\u001B[38;5;241m.\u001B[39mget(\u001B[38;5;124m\"\u001B[39m\u001B[38;5;124moutput_indices\u001B[39m\u001B[38;5;124m\"\u001B[39m, \u001B[38;5;28;01mNone\u001B[39;00m))\n",
      "File \u001B[0;32m/opt/homebrew/Caskroom/miniforge/base/envs/phishing-edge/lib/python3.10/site-packages/shap/explainers/_partition.py:151\u001B[0m, in \u001B[0;36mPartitionExplainer.explain_row\u001B[0;34m(self, max_evals, main_effects, error_bounds, batch_size, outputs, silent, fixed_context, *row_args)\u001B[0m\n\u001B[1;32m    149\u001B[0m \u001B[38;5;66;03m# if not fixed background or no base value assigned then compute base value for a row\u001B[39;00m\n\u001B[1;32m    150\u001B[0m \u001B[38;5;28;01mif\u001B[39;00m \u001B[38;5;28mself\u001B[39m\u001B[38;5;241m.\u001B[39m_curr_base_value \u001B[38;5;129;01mis\u001B[39;00m \u001B[38;5;28;01mNone\u001B[39;00m \u001B[38;5;129;01mor\u001B[39;00m \u001B[38;5;129;01mnot\u001B[39;00m \u001B[38;5;28mgetattr\u001B[39m(\u001B[38;5;28mself\u001B[39m\u001B[38;5;241m.\u001B[39mmasker, \u001B[38;5;124m\"\u001B[39m\u001B[38;5;124mfixed_background\u001B[39m\u001B[38;5;124m\"\u001B[39m, \u001B[38;5;28;01mFalse\u001B[39;00m):\n\u001B[0;32m--> 151\u001B[0m     \u001B[38;5;28mself\u001B[39m\u001B[38;5;241m.\u001B[39m_curr_base_value \u001B[38;5;241m=\u001B[39m \u001B[43mfm\u001B[49m\u001B[43m(\u001B[49m\u001B[43mm00\u001B[49m\u001B[38;5;241;43m.\u001B[39;49m\u001B[43mreshape\u001B[49m\u001B[43m(\u001B[49m\u001B[38;5;241;43m1\u001B[39;49m\u001B[43m,\u001B[49m\u001B[43m \u001B[49m\u001B[38;5;241;43m-\u001B[39;49m\u001B[38;5;241;43m1\u001B[39;49m\u001B[43m)\u001B[49m\u001B[43m,\u001B[49m\u001B[43m \u001B[49m\u001B[43mzero_index\u001B[49m\u001B[38;5;241;43m=\u001B[39;49m\u001B[38;5;241;43m0\u001B[39;49m\u001B[43m)\u001B[49m[\u001B[38;5;241m0\u001B[39m] \u001B[38;5;66;03m# the zero index param tells the masked model what the baseline is\u001B[39;00m\n\u001B[1;32m    152\u001B[0m f11 \u001B[38;5;241m=\u001B[39m fm(\u001B[38;5;241m~\u001B[39mm00\u001B[38;5;241m.\u001B[39mreshape(\u001B[38;5;241m1\u001B[39m, \u001B[38;5;241m-\u001B[39m\u001B[38;5;241m1\u001B[39m))[\u001B[38;5;241m0\u001B[39m]\n\u001B[1;32m    154\u001B[0m \u001B[38;5;28;01mif\u001B[39;00m \u001B[38;5;28mcallable\u001B[39m(\u001B[38;5;28mself\u001B[39m\u001B[38;5;241m.\u001B[39mmasker\u001B[38;5;241m.\u001B[39mclustering):\n",
      "File \u001B[0;32m/opt/homebrew/Caskroom/miniforge/base/envs/phishing-edge/lib/python3.10/site-packages/shap/utils/_masked_model.py:70\u001B[0m, in \u001B[0;36mMaskedModel.__call__\u001B[0;34m(self, masks, zero_index, batch_size)\u001B[0m\n\u001B[1;32m     67\u001B[0m         \u001B[38;5;28;01mreturn\u001B[39;00m \u001B[38;5;28mself\u001B[39m\u001B[38;5;241m.\u001B[39m_full_masking_call(full_masks, zero_index\u001B[38;5;241m=\u001B[39mzero_index, batch_size\u001B[38;5;241m=\u001B[39mbatch_size)\n\u001B[1;32m     69\u001B[0m \u001B[38;5;28;01melse\u001B[39;00m:\n\u001B[0;32m---> 70\u001B[0m     \u001B[38;5;28;01mreturn\u001B[39;00m \u001B[38;5;28;43mself\u001B[39;49m\u001B[38;5;241;43m.\u001B[39;49m\u001B[43m_full_masking_call\u001B[49m\u001B[43m(\u001B[49m\u001B[43mmasks\u001B[49m\u001B[43m,\u001B[49m\u001B[43m \u001B[49m\u001B[43mbatch_size\u001B[49m\u001B[38;5;241;43m=\u001B[39;49m\u001B[43mbatch_size\u001B[49m\u001B[43m)\u001B[49m\n",
      "File \u001B[0;32m/opt/homebrew/Caskroom/miniforge/base/envs/phishing-edge/lib/python3.10/site-packages/shap/utils/_masked_model.py:147\u001B[0m, in \u001B[0;36mMaskedModel._full_masking_call\u001B[0;34m(self, masks, zero_index, batch_size)\u001B[0m\n\u001B[1;32m    144\u001B[0m         all_masked_inputs[i]\u001B[38;5;241m.\u001B[39mappend(v)\n\u001B[1;32m    146\u001B[0m joined_masked_inputs \u001B[38;5;241m=\u001B[39m \u001B[38;5;28mtuple\u001B[39m([np\u001B[38;5;241m.\u001B[39mconcatenate(v) \u001B[38;5;28;01mfor\u001B[39;00m v \u001B[38;5;129;01min\u001B[39;00m all_masked_inputs])\n\u001B[0;32m--> 147\u001B[0m outputs \u001B[38;5;241m=\u001B[39m \u001B[38;5;28;43mself\u001B[39;49m\u001B[38;5;241;43m.\u001B[39;49m\u001B[43mmodel\u001B[49m\u001B[43m(\u001B[49m\u001B[38;5;241;43m*\u001B[39;49m\u001B[43mjoined_masked_inputs\u001B[49m\u001B[43m)\u001B[49m\n\u001B[1;32m    148\u001B[0m _assert_output_input_match(joined_masked_inputs, outputs)\n\u001B[1;32m    149\u001B[0m all_outputs\u001B[38;5;241m.\u001B[39mappend(outputs)\n",
      "File \u001B[0;32m/opt/homebrew/Caskroom/miniforge/base/envs/phishing-edge/lib/python3.10/site-packages/shap/models/_model.py:21\u001B[0m, in \u001B[0;36mModel.__call__\u001B[0;34m(self, *args)\u001B[0m\n\u001B[1;32m     20\u001B[0m \u001B[38;5;28;01mdef\u001B[39;00m \u001B[38;5;21m__call__\u001B[39m(\u001B[38;5;28mself\u001B[39m, \u001B[38;5;241m*\u001B[39margs):\n\u001B[0;32m---> 21\u001B[0m     out \u001B[38;5;241m=\u001B[39m \u001B[38;5;28;43mself\u001B[39;49m\u001B[38;5;241;43m.\u001B[39;49m\u001B[43minner_model\u001B[49m\u001B[43m(\u001B[49m\u001B[38;5;241;43m*\u001B[39;49m\u001B[43margs\u001B[49m\u001B[43m)\u001B[49m\n\u001B[1;32m     22\u001B[0m     is_tensor \u001B[38;5;241m=\u001B[39m safe_isinstance(out, \u001B[38;5;124m\"\u001B[39m\u001B[38;5;124mtorch.Tensor\u001B[39m\u001B[38;5;124m\"\u001B[39m)\n\u001B[1;32m     23\u001B[0m     out \u001B[38;5;241m=\u001B[39m out\u001B[38;5;241m.\u001B[39mcpu()\u001B[38;5;241m.\u001B[39mdetach()\u001B[38;5;241m.\u001B[39mnumpy() \u001B[38;5;28;01mif\u001B[39;00m is_tensor \u001B[38;5;28;01melse\u001B[39;00m np\u001B[38;5;241m.\u001B[39marray(out)\n",
      "Cell \u001B[0;32mIn[1], line 35\u001B[0m, in \u001B[0;36mpredict\u001B[0;34m(inputs)\u001B[0m\n\u001B[1;32m     33\u001B[0m     inputs \u001B[38;5;241m=\u001B[39m tokenizer(inputs, return_tensors\u001B[38;5;241m=\u001B[39m\u001B[38;5;124m'\u001B[39m\u001B[38;5;124mpt\u001B[39m\u001B[38;5;124m'\u001B[39m, padding\u001B[38;5;241m=\u001B[39m\u001B[38;5;28;01mTrue\u001B[39;00m, truncation\u001B[38;5;241m=\u001B[39m\u001B[38;5;28;01mTrue\u001B[39;00m, max_length\u001B[38;5;241m=\u001B[39m\u001B[38;5;241m128\u001B[39m)\n\u001B[1;32m     34\u001B[0m \u001B[38;5;28;01melse\u001B[39;00m:\n\u001B[0;32m---> 35\u001B[0m     inputs \u001B[38;5;241m=\u001B[39m \u001B[43mtokenizer\u001B[49m\u001B[43m(\u001B[49m\u001B[43m[\u001B[49m\u001B[43minputs\u001B[49m\u001B[43m]\u001B[49m\u001B[43m,\u001B[49m\u001B[43m \u001B[49m\u001B[43mreturn_tensors\u001B[49m\u001B[38;5;241;43m=\u001B[39;49m\u001B[38;5;124;43m'\u001B[39;49m\u001B[38;5;124;43mpt\u001B[39;49m\u001B[38;5;124;43m'\u001B[39;49m\u001B[43m,\u001B[49m\u001B[43m \u001B[49m\u001B[43mpadding\u001B[49m\u001B[38;5;241;43m=\u001B[39;49m\u001B[38;5;28;43;01mTrue\u001B[39;49;00m\u001B[43m,\u001B[49m\u001B[43m \u001B[49m\u001B[43mtruncation\u001B[49m\u001B[38;5;241;43m=\u001B[39;49m\u001B[38;5;28;43;01mTrue\u001B[39;49;00m\u001B[43m,\u001B[49m\u001B[43m \u001B[49m\u001B[43mmax_length\u001B[49m\u001B[38;5;241;43m=\u001B[39;49m\u001B[38;5;241;43m128\u001B[39;49m\u001B[43m)\u001B[49m\n\u001B[1;32m     36\u001B[0m inputs \u001B[38;5;241m=\u001B[39m {k: v\u001B[38;5;241m.\u001B[39mto(device) \u001B[38;5;28;01mfor\u001B[39;00m k, v \u001B[38;5;129;01min\u001B[39;00m inputs\u001B[38;5;241m.\u001B[39mitems()}\n\u001B[1;32m     37\u001B[0m \u001B[38;5;28;01mwith\u001B[39;00m torch\u001B[38;5;241m.\u001B[39mno_grad():\n",
      "File \u001B[0;32m/opt/homebrew/Caskroom/miniforge/base/envs/phishing-edge/lib/python3.10/site-packages/transformers/tokenization_utils_base.py:2829\u001B[0m, in \u001B[0;36mPreTrainedTokenizerBase.__call__\u001B[0;34m(self, text, text_pair, text_target, text_pair_target, add_special_tokens, padding, truncation, max_length, stride, is_split_into_words, pad_to_multiple_of, return_tensors, return_token_type_ids, return_attention_mask, return_overflowing_tokens, return_special_tokens_mask, return_offsets_mapping, return_length, verbose, **kwargs)\u001B[0m\n\u001B[1;32m   2827\u001B[0m     \u001B[38;5;28;01mif\u001B[39;00m \u001B[38;5;129;01mnot\u001B[39;00m \u001B[38;5;28mself\u001B[39m\u001B[38;5;241m.\u001B[39m_in_target_context_manager:\n\u001B[1;32m   2828\u001B[0m         \u001B[38;5;28mself\u001B[39m\u001B[38;5;241m.\u001B[39m_switch_to_input_mode()\n\u001B[0;32m-> 2829\u001B[0m     encodings \u001B[38;5;241m=\u001B[39m \u001B[38;5;28;43mself\u001B[39;49m\u001B[38;5;241;43m.\u001B[39;49m\u001B[43m_call_one\u001B[49m\u001B[43m(\u001B[49m\u001B[43mtext\u001B[49m\u001B[38;5;241;43m=\u001B[39;49m\u001B[43mtext\u001B[49m\u001B[43m,\u001B[49m\u001B[43m \u001B[49m\u001B[43mtext_pair\u001B[49m\u001B[38;5;241;43m=\u001B[39;49m\u001B[43mtext_pair\u001B[49m\u001B[43m,\u001B[49m\u001B[43m \u001B[49m\u001B[38;5;241;43m*\u001B[39;49m\u001B[38;5;241;43m*\u001B[39;49m\u001B[43mall_kwargs\u001B[49m\u001B[43m)\u001B[49m\n\u001B[1;32m   2830\u001B[0m \u001B[38;5;28;01mif\u001B[39;00m text_target \u001B[38;5;129;01mis\u001B[39;00m \u001B[38;5;129;01mnot\u001B[39;00m \u001B[38;5;28;01mNone\u001B[39;00m:\n\u001B[1;32m   2831\u001B[0m     \u001B[38;5;28mself\u001B[39m\u001B[38;5;241m.\u001B[39m_switch_to_target_mode()\n",
      "File \u001B[0;32m/opt/homebrew/Caskroom/miniforge/base/envs/phishing-edge/lib/python3.10/site-packages/transformers/tokenization_utils_base.py:2887\u001B[0m, in \u001B[0;36mPreTrainedTokenizerBase._call_one\u001B[0;34m(self, text, text_pair, add_special_tokens, padding, truncation, max_length, stride, is_split_into_words, pad_to_multiple_of, return_tensors, return_token_type_ids, return_attention_mask, return_overflowing_tokens, return_special_tokens_mask, return_offsets_mapping, return_length, verbose, **kwargs)\u001B[0m\n\u001B[1;32m   2884\u001B[0m         \u001B[38;5;28;01mreturn\u001B[39;00m \u001B[38;5;28;01mFalse\u001B[39;00m\n\u001B[1;32m   2886\u001B[0m \u001B[38;5;28;01mif\u001B[39;00m \u001B[38;5;129;01mnot\u001B[39;00m _is_valid_text_input(text):\n\u001B[0;32m-> 2887\u001B[0m     \u001B[38;5;28;01mraise\u001B[39;00m \u001B[38;5;167;01mValueError\u001B[39;00m(\n\u001B[1;32m   2888\u001B[0m         \u001B[38;5;124m\"\u001B[39m\u001B[38;5;124mtext input must be of type `str` (single example), `List[str]` (batch or single pretokenized example) \u001B[39m\u001B[38;5;124m\"\u001B[39m\n\u001B[1;32m   2889\u001B[0m         \u001B[38;5;124m\"\u001B[39m\u001B[38;5;124mor `List[List[str]]` (batch of pretokenized examples).\u001B[39m\u001B[38;5;124m\"\u001B[39m\n\u001B[1;32m   2890\u001B[0m     )\n\u001B[1;32m   2892\u001B[0m \u001B[38;5;28;01mif\u001B[39;00m text_pair \u001B[38;5;129;01mis\u001B[39;00m \u001B[38;5;129;01mnot\u001B[39;00m \u001B[38;5;28;01mNone\u001B[39;00m \u001B[38;5;129;01mand\u001B[39;00m \u001B[38;5;129;01mnot\u001B[39;00m _is_valid_text_input(text_pair):\n\u001B[1;32m   2893\u001B[0m     \u001B[38;5;28;01mraise\u001B[39;00m \u001B[38;5;167;01mValueError\u001B[39;00m(\n\u001B[1;32m   2894\u001B[0m         \u001B[38;5;124m\"\u001B[39m\u001B[38;5;124mtext input must be of type `str` (single example), `List[str]` (batch or single pretokenized example) \u001B[39m\u001B[38;5;124m\"\u001B[39m\n\u001B[1;32m   2895\u001B[0m         \u001B[38;5;124m\"\u001B[39m\u001B[38;5;124mor `List[List[str]]` (batch of pretokenized examples).\u001B[39m\u001B[38;5;124m\"\u001B[39m\n\u001B[1;32m   2896\u001B[0m     )\n",
      "\u001B[0;31mValueError\u001B[0m: text input must be of type `str` (single example), `List[str]` (batch or single pretokenized example) or `List[List[str]]` (batch of pretokenized examples)."
     ]
    }
   ],
   "execution_count": 1
  },
  {
   "metadata": {
    "ExecuteTime": {
     "end_time": "2024-11-29T06:34:56.305628Z",
     "start_time": "2024-11-29T06:34:56.301825Z"
    }
   },
   "cell_type": "code",
   "source": [
    "print(len(false_positives), len(false_negatives))\n",
    "\n",
    "print(false_positives)\n",
    "print(false_negatives)"
   ],
   "id": "f53dc079e9649c9",
   "outputs": [
    {
     "name": "stdout",
     "output_type": "stream",
     "text": [
      "79 140\n",
      "['https://businessangelsummit.at/page.cfm', 'https://login.squarespace.com/api/1/login/oauth/provider/authorize', 'https://methocarbamol.site/', 'https://mymilestonecard.website/', 'https://globalk9protectiongroup.com/', 'https://24h-emploi-formation.com/', 'https://trennungsfaq.com/', 'https://monitoring-obmennikov-belarus.site/', 'https://tigerdave.wixsite.com/website', 'https://error.alibaba.com/error404.htm', 'https://www.beebella.buzz/', 'https://misrecursosdidacticosparaparvulos.blogspot.com/', 'https://www.irctc.co.in/nget/', 'https://semver.npmjs.com/', 'https://www.th4ts3cur1ty.company/', 'https://celebjihad.com/main6', 'https://help.unicef.org/node/11336', 'https://nubilefilms.com/tube/sfw', 'https://hanabisushi.menu11.com/', 'https://www.banorte.com/wps/portal/banorte/Home/inicio', 'https://prologis.getbynder.com/login/', 'https://embedy.cc/', 'https://donstroy.moscow/objects/serdtse-stolitsy/', 'https://crazytimebangladesh.click/', 'https://deploy-preview-6073--typescript-eslint.netlify.app/', 'https://croco.site/', 'https://portal.kutxabank.es/cs/Satellite', 'https://trbonlineexams.in/', 'https://api.repkam09.com/', 'https://www.davivienda.com/wps/portal/personas/nuevo', 'https://xn--80aacbuczbw9a6a.xn--p1ai/', 'https://ydkjs-exercises.com/', 'https://en-intuitiv-sommar.confetti.events/', 'https://www.ardmediathek.de/sendung/bavarian-makers/Y3JpZDovL2JyLmRlL2Jyb2FkY2FzdFNlcmllcy9jOTczZjMwYy01ZjRjLTQwM2YtOTA1OC02YzcyZTQ2ZWM1MDM', 'http://www.sd173.com/', 'https://majix.xyz/yunohost/sso/', 'https://img.ingping.com/cnotice/yp/pc-home.html', 'https://expy.jp/top.php', 'https://www.sgen-cfdt.fr/', 'https://jbvip.net/', 'http://www.bxwx9.org/', 'https://ip.alsgtg.com/', 'https://open-match.dev/site/', 'http://www.1-hash.com/', 'https://office-qa.com/', 'https://xn--72c9ah5dd7a5a9gsbzb.com/', 'https://www.3asq.site/', 'http://www.papalouie.com/', 'https://9alami.info/loginto/', 'https://digiup.online/', 'https://sateraito-apps-sso.appspot.com/', 'https://qupu123.com/', 'https://zbiornik.tv/accept/Lw==', 'http://www.vapiescortsservice.in/', 'https://verifycontent.net/cl/a41986f8-d5c5-409f-a0e2-ad7961772083', 'http://www.61baobao.com/', 'https://permainanslotcuan.website/', 'https://dyyyl.rocks/', 'https://coink.wang/', 'https://whapl.square.site/', 'https://app.gen5.digital/', 'https://fixitrightplumbing.diowebhost.com/', 'https://moves.framer.website/', 'http://huilletstraub-berlin.net/', 'https://blitz-setup.ahadns.com/', 'https://wordpress-526969-2280362.cloudwaysapps.com/', 'http://meiga.shop-pro.jp/', 'https://coinlock.app/', 'https://prairiecedarcreations1.godaddysites.com/', 'http://cs-lords.ru/', 'https://store.steampowered.com/app/953490', 'https://sisonline.uni-due.de/LS/2090317350/INF', 'https://tokenize.exchange/', 'https://help-pohudet.ru/', 'http://www.needles4jukeboxes.com/New%20&%20Used%20Vintage%20Jukebox%20Parts.htm', 'https://docs.diginext.site/', 'https://ove53sw02e.pixnet.net/blog', 'https://periodicorease.pro.br/rease', 'https://multistep-component-03.webflow.io/']\n",
      "['https://mertkarakaslitr.com/', 'https://www.securemail.inkgraphtechno.com/', 'https://trken.in/', 'https://dbsdeil.com/', 'https://uk-profitai.com/', 'https://disc.singkr.com/', 'https://uphold-log.teachmore.com/', 'https://synapsesms.com/', 'https://w.vip16.win/', 'https://mercadobitcoinokl.com/', 'https://kalkinna.com.tr/', 'https://ai-enzotrading.com/', 'https://sketchco.com.sa/500/sts.rockefeller.edu/', 'https://attyahooneew.mystrikingly.com/', 'https://rocketpumps.info/', 'https://rheinfelderrhof.com/', 'https://www.cryptoglints.com/', 'https://microalpha.com.my/', 'https://fr.foguangshan.fr/leboncoin-pay.fr/', 'https://crow-khaki-6btk.squarespace.com/', 'https://www.nhh.ire.mybluehost.me/', 'https://jiujiub8.com/', 'https://kitashopping.com/index.html', 'https://urfamous.com/', 'https://17dh03.com/', 'https://juno.crazywhiteboy.dj/', 'https://www.toknepocket.com/', 'https://scszdm.com/', 'https://www.kipjackson.com/', 'https://thetrustaccountmanage.com/', 'https://orangeblossomchorus.com/index.php/shawn-mondragon', 'https://tripplettechnologies.com/', 'https://scentofragrances.com/iel/de/', 'https://vazlos.com/', 'https://t.me-join.info/Kacher-Atelier', 'https://winx7.in/', 'https://medicaltrader.com.pe/Iso/', 'https://sdijiffaad.com/', 'https://rare-curve.surge.sh/', 'https://santepharma.com.br/', 'https://sparkasse.de.hivernaldelbages.com/', 'https://torapooh.main.jp/store/auth.sso/auth.sso.biglobe.ne.jp/wms.sso.biglobe.ne.jp/', 'https://promocioneswing.com/', 'https://yunomesowel.stylemarq.com/login', 'https://emerencianno.com.br/', 'https://simplesocialboost.com.ng/', 'https://googg.xyz/', 'https://yifangfengshun.com/', 'https://mit.tempisite.com/', 'https://antivirusassists.com/', 'https://www.parahouma.x10.mx/', 'https://ibailey.cl/web1.plala.or.jp/plala.or.jps/index.html', 'https://roybinwood-login.com/', 'https://doctormouse.pt/', 'https://ubank.tec.br/', 'https://goodnessfoodnetwork.blogspot.com/', 'https://tracking-omniva.ee.brainsystems-it.com/', 'https://microsoft-teams-meetings.com/en-us/microsoft-teams/join-a-meeting/', 'https://www.gaurswap.org/', 'https://battlegroundsmobileindia.enentmax.com/', 'https://mymall1.com/', 'https://www.derumweltzuliebe.com/', 'https://azamtrust.org/hostel-enquiry.php', 'https://www.cinefaanblak.com/', 'https://claropagosfacture.com/', 'https://skyspa-la.com/', 'https://safetyshare-event.com/', 'https://behjdl.net/', 'https://radiofiesta.mx/', 'https://idthwh.com/login/', 'https://rmail.mslogistics.us/', 'https://pancake.otochain.io/', 'https://hotnotair.homelinux.org/NOTAIRE/', 'https://pubgzing.com.tr/', 'https://laserinnhyd.com/', 'https://helpclubpositive.com/', 'https://inkspiration.zapto.org/', 'https://lojasmaglulza.com/', 'http://portalrealize.net/', 'https://connectsawallet.webflow.io/', 'https://anzchat.com/', 'https://kiounbesxtion.webflow.io/', 'https://casadellanatura.com/', 'https://in-50card.ru/wr', 'https://darx789.com/', 'http://wwwyezubuluo.com/', 'https://ainsvll.com/', 'https://emanagement.services/', 'https://elkjhm.com/', 'https://rechargaa.com/', 'https://my.govauhelp.cc/myaccount', 'https://dkb-ag.oknari.sk/de/', 'https://kotelegram.org/', 'http://rms.warinice.ac.th/', 'https://raqamtasdiqlash.com/', 'https://sopha.de/image/background-image-cropper/freelanding/index.html', 'https://nietflix.nl/', 'https://zz.whats.com.lv/', 'https://www.aavance.pe/error_cgi/gmo/', 'https://ejemplo.com.ar/', 'https://telgaram.com/', 'https://vpassid.com/mem/index.jsp', 'https://ecsr.io/ide/studiologin', 'https://s-vorgang.de/', 'https://www.imtokend.com/', 'https://trivision.com.au/cp/alibaba/', 'https://fxtshn.com/', 'https://drmartensthessaloniki.com/', 'https://linkyway.tripod.com/', 'https://spectahub.net/', 'http://www.accountbattlenet.net/', 'https://kbbcsc.edu.bd/wpwww/index/', 'https://www.ramco-egypt.com/', 'https://standpromo-code.ru/', 'https://portalcajalosandes.info/', 'https://eletroblindados.com.br/', 'https://addincart.xyz/', 'https://paymentuser.de/dashboard/', 'https://unisddtt.com/', 'https://spare1b.com/', 'https://enetflixforyou.blogspot.com/', 'https://bankpatriot.youroffice365.com/', 'https://noticemygov.com/', 'https://www.ssbancomer.com/', 'https://www.pubgmturkiye.com/', 'https://shelleys-spectacular-site.webflow.io/', 'https://orionki.eu/strato/login', 'https://workshopsdesigns.com/', 'https://wstewart07.brandaio.com/', 'https://br-coreos.phantm.org/', 'https://hodgesplc.com/', 'https://danskestage.stoppservice.com/', 'https://krasnodar-arena-kassa.ru/', 'https://hungakiragaming.pw.io.vn/', 'https://hcfministries.com/', 'https://groupmyviral.xyz/', 'https://feedback.workplacesurveys.net/', 'https://ebayc2c.net/', 'https://helpipreportingreportcopyright.com/', 'https://codte.com/.home/']\n"
     ]
    }
   ],
   "execution_count": 3
  },
  {
   "metadata": {},
   "cell_type": "code",
   "outputs": [],
   "execution_count": null,
   "source": [
    "# Store false positives and false negatives in CSV files\n",
    "fp_df = pd.DataFrame(false_positives, columns=['False Positive URLs'])\n",
    "fn_df = pd.DataFrame(false_negatives, columns=['False Negative URLs'])\n",
    "\n",
    "fp_df.to_csv('false_positives.csv', index=False)\n",
    "fn_df.to_csv('false_negatives.csv', index=False)\n",
    "\n",
    "print(\"False positives and false negatives have been saved to 'false_positives.csv' and 'false_negatives.csv'\")"
   ],
   "id": "6624831cc8bc4d7e"
  }
 ],
 "metadata": {
  "kernelspec": {
   "display_name": "Python 3",
   "language": "python",
   "name": "python3"
  },
  "language_info": {
   "codemirror_mode": {
    "name": "ipython",
    "version": 2
   },
   "file_extension": ".py",
   "mimetype": "text/x-python",
   "name": "python",
   "nbconvert_exporter": "python",
   "pygments_lexer": "ipython2",
   "version": "2.7.6"
  }
 },
 "nbformat": 4,
 "nbformat_minor": 5
}
