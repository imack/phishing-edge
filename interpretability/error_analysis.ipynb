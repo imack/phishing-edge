{
 "cells": [
  {
   "metadata": {},
   "cell_type": "markdown",
   "source": "Helper notebook to run a model against dev set and get list of URLs that were miscategorized as False Negative or False Positive.",
   "id": "dcbb70c40cf260da"
  },
  {
   "cell_type": "code",
   "id": "initial_id",
   "metadata": {
    "collapsed": true,
    "ExecuteTime": {
     "end_time": "2024-12-01T21:36:37.410673Z",
     "start_time": "2024-12-01T21:36:31.133298Z"
    }
   },
   "source": [
    "from torch.utils.data import DataLoader\n",
    "import torch\n",
    "from classifiers.basic_url_skinny_bert_classifier import BasicUrlSkinnyBertClassifier\n",
    "from classifiers.ensemble_model_classifier import EnsembleModel\n",
    "from dataset.phishing_dataset import PhishingDataset\n",
    "import os\n",
    "from utils import get_filtered_inputs\n",
    "import inspect\n",
    "from transformers import DistilBertTokenizer\n",
    "from sklearn.metrics import precision_score, recall_score, f1_score, accuracy_score\n",
    "\n",
    "dataset_path = os.path.expanduser(\"~/transfer/phishing_output_tokenized.h5\")\n",
    "\n",
    "device = torch.device('cuda' if torch.cuda.is_available() else 'mps' if torch.backends.mps.is_available() else 'cpu')\n",
    "print(device)\n",
    "\n",
    "# Load the model\n",
    "model = EnsembleModel(device).to(device)\n",
    "checkpoint_path = \"models/canonical/ensemble_phishing_classifier.pt\"\n",
    "model.load_state_dict(torch.load(checkpoint_path, map_location=device))\n",
    "model.to(device)\n",
    "model.eval()\n",
    "\n",
    "required_data = inspect.signature(model.forward).parameters.keys()\n",
    "test_dataset = PhishingDataset(required_data, split='dev', local_file_path=dataset_path)\n",
    "test_dataloader = DataLoader(test_dataset, batch_size=128, shuffle=False, pin_memory=True)\n",
    "\n",
    "all_preds, all_labels = [], []\n",
    "total_loss = 0.0\n",
    "num_batches = 0\n",
    "\n",
    "false_positives = {}\n",
    "false_negatives = {}\n",
    "\n",
    "with torch.no_grad():\n",
    "    for batch in test_dataloader:\n",
    "        labels = batch['label'].to(device)\n",
    "        urls = batch['url']  # Assuming 'url' is part of the dataset\n",
    "        filtered_inputs = get_filtered_inputs(batch)\n",
    "        outputs = model(**filtered_inputs)\n",
    "\n",
    "        loss = torch.nn.functional.cross_entropy(outputs, labels)\n",
    "        total_loss += loss.item()\n",
    "        num_batches += 1\n",
    "\n",
    "        preds = torch.argmax(outputs, dim=1)\n",
    "        scores = torch.softmax(outputs, dim=1)  # Get predicted probabilities\n",
    "\n",
    "        all_preds.extend(preds.cpu().numpy())\n",
    "        all_labels.extend(labels.cpu().numpy())\n",
    "\n",
    "        for i in range(len(labels)):\n",
    "            url = urls[i]\n",
    "            label = labels[i].item()\n",
    "            pred = preds[i].item()\n",
    "            score = scores[i].cpu().numpy()\n",
    "\n",
    "            if label == 1 and pred == 0:  # False Negative\n",
    "                false_negatives[url] = score[1]  # Store score for \"phishing\" class\n",
    "            elif label == 0 and pred == 1:  # False Positive\n",
    "                false_positives[url] = score[1]  # Store score for \"phishing\" class\n",
    "\n",
    "avg_loss = total_loss / num_batches if num_batches > 0 else 0.0\n",
    "\n",
    "precision = precision_score(all_labels, all_preds, average='binary')\n",
    "recall = recall_score(all_labels, all_preds, average='binary')\n",
    "f1 = f1_score(all_labels, all_preds, average='binary')\n",
    "accuracy = accuracy_score(all_labels, all_preds)\n",
    "\n",
    "print(f\"Dev Loss: {avg_loss:.4f}, Precision: {precision:.4f}, Recall: {recall:.4f}, F1 Score: {f1:.4f}, Accuracy: {accuracy:.4f}\")\n",
    "\n",
    "print(f\"False Positives: {len(false_positives)}\")\n",
    "print(f\"False Negatives: {len(false_negatives)}\")\n",
    "\n"
   ],
   "outputs": [
    {
     "name": "stderr",
     "output_type": "stream",
     "text": [
      "/opt/homebrew/Caskroom/miniforge/base/envs/phishing-edge/lib/python3.10/site-packages/torchvision/io/image.py:13: UserWarning: Failed to load image Python extension: 'dlopen(/opt/homebrew/Caskroom/miniforge/base/envs/phishing-edge/lib/python3.10/site-packages/torchvision/image.so, 0x0006): Symbol not found: __ZN3c1017RegisterOperatorsD1Ev\n",
      "  Referenced from: <6DFB383A-E1D9-3EC6-8A60-382AF4E3C226> /opt/homebrew/Caskroom/miniforge/base/envs/phishing-edge/lib/python3.10/site-packages/torchvision/image.so\n",
      "  Expected in:     <CC2A0259-414A-3562-95F8-DB0DE0A75BD7> /opt/homebrew/Caskroom/miniforge/base/envs/phishing-edge/lib/python3.10/site-packages/torch/lib/libtorch_cpu.dylib'If you don't plan on using image functionality from `torchvision.io`, you can ignore this warning. Otherwise, there might be something wrong with your environment. Did you have `libjpeg` or `libpng` installed before building `torchvision` from source?\n",
      "  warn(\n"
     ]
    },
    {
     "name": "stdout",
     "output_type": "stream",
     "text": [
      "mps\n"
     ]
    },
    {
     "name": "stderr",
     "output_type": "stream",
     "text": [
      "/opt/homebrew/Caskroom/miniforge/base/envs/phishing-edge/lib/python3.10/site-packages/huggingface_hub/file_download.py:797: FutureWarning: `resume_download` is deprecated and will be removed in version 1.0.0. Downloads always resume when possible. If you want to force a new download, use `force_download=True`.\n",
      "  warnings.warn(\n",
      "/Users/imack/Documents/Stanford/CS230/phishing-edge/classifiers/ensemble_model_classifier.py:30: FutureWarning: You are using `torch.load` with `weights_only=False` (the current default value), which uses the default pickle module implicitly. It is possible to construct malicious pickle data which will execute arbitrary code during unpickling (See https://github.com/pytorch/pytorch/blob/main/SECURITY.md#untrusted-models for more details). In a future release, the default value for `weights_only` will be flipped to `True`. This limits the functions that could be executed during unpickling. Arbitrary objects will no longer be allowed to be loaded via this mode unless they are explicitly allowlisted by the user via `torch.serialization.add_safe_globals`. We recommend you start setting `weights_only=True` for any use case where you don't have full control of the loaded file. Please open an issue on GitHub for any issues related to this experimental feature.\n",
      "  model.load_state_dict(torch.load(model_path, map_location=device), strict=True)\n",
      "/var/folders/j1/dctzbvps2w7cgcp3cflmcxm00000gn/T/ipykernel_26489/463551032.py:20: FutureWarning: You are using `torch.load` with `weights_only=False` (the current default value), which uses the default pickle module implicitly. It is possible to construct malicious pickle data which will execute arbitrary code during unpickling (See https://github.com/pytorch/pytorch/blob/main/SECURITY.md#untrusted-models for more details). In a future release, the default value for `weights_only` will be flipped to `True`. This limits the functions that could be executed during unpickling. Arbitrary objects will no longer be allowed to be loaded via this mode unless they are explicitly allowlisted by the user via `torch.serialization.add_safe_globals`. We recommend you start setting `weights_only=True` for any use case where you don't have full control of the loaded file. Please open an issue on GitHub for any issues related to this experimental feature.\n",
      "  model.load_state_dict(torch.load(checkpoint_path, map_location=device))\n"
     ]
    },
    {
     "ename": "RuntimeError",
     "evalue": "Error(s) in loading state_dict for EnsembleModel:\n\tUnexpected key(s) in state_dict: \"models.BasicCNNClassifier.cnn.conv1.weight\", \"models.BasicCNNClassifier.cnn.bn1.weight\", \"models.BasicCNNClassifier.cnn.bn1.bias\", \"models.BasicCNNClassifier.cnn.bn1.running_mean\", \"models.BasicCNNClassifier.cnn.bn1.running_var\", \"models.BasicCNNClassifier.cnn.bn1.num_batches_tracked\", \"models.BasicCNNClassifier.cnn.layer1.0.conv1.weight\", \"models.BasicCNNClassifier.cnn.layer1.0.bn1.weight\", \"models.BasicCNNClassifier.cnn.layer1.0.bn1.bias\", \"models.BasicCNNClassifier.cnn.layer1.0.bn1.running_mean\", \"models.BasicCNNClassifier.cnn.layer1.0.bn1.running_var\", \"models.BasicCNNClassifier.cnn.layer1.0.bn1.num_batches_tracked\", \"models.BasicCNNClassifier.cnn.layer1.0.conv2.weight\", \"models.BasicCNNClassifier.cnn.layer1.0.bn2.weight\", \"models.BasicCNNClassifier.cnn.layer1.0.bn2.bias\", \"models.BasicCNNClassifier.cnn.layer1.0.bn2.running_mean\", \"models.BasicCNNClassifier.cnn.layer1.0.bn2.running_var\", \"models.BasicCNNClassifier.cnn.layer1.0.bn2.num_batches_tracked\", \"models.BasicCNNClassifier.cnn.layer1.1.conv1.weight\", \"models.BasicCNNClassifier.cnn.layer1.1.bn1.weight\", \"models.BasicCNNClassifier.cnn.layer1.1.bn1.bias\", \"models.BasicCNNClassifier.cnn.layer1.1.bn1.running_mean\", \"models.BasicCNNClassifier.cnn.layer1.1.bn1.running_var\", \"models.BasicCNNClassifier.cnn.layer1.1.bn1.num_batches_tracked\", \"models.BasicCNNClassifier.cnn.layer1.1.conv2.weight\", \"models.BasicCNNClassifier.cnn.layer1.1.bn2.weight\", \"models.BasicCNNClassifier.cnn.layer1.1.bn2.bias\", \"models.BasicCNNClassifier.cnn.layer1.1.bn2.running_mean\", \"models.BasicCNNClassifier.cnn.layer1.1.bn2.running_var\", \"models.BasicCNNClassifier.cnn.layer1.1.bn2.num_batches_tracked\", \"models.BasicCNNClassifier.cnn.layer2.0.conv1.weight\", \"models.BasicCNNClassifier.cnn.layer2.0.bn1.weight\", \"models.BasicCNNClassifier.cnn.layer2.0.bn1.bias\", \"models.BasicCNNClassifier.cnn.layer2.0.bn1.running_mean\", \"models.BasicCNNClassifier.cnn.layer2.0.bn1.running_var\", \"models.BasicCNNClassifier.cnn.layer2.0.bn1.num_batches_tracked\", \"models.BasicCNNClassifier.cnn.layer2.0.conv2.weight\", \"models.BasicCNNClassifier.cnn.layer2.0.bn2.weight\", \"models.BasicCNNClassifier.cnn.layer2.0.bn2.bias\", \"models.BasicCNNClassifier.cnn.layer2.0.bn2.running_mean\", \"models.BasicCNNClassifier.cnn.layer2.0.bn2.running_var\", \"models.BasicCNNClassifier.cnn.layer2.0.bn2.num_batches_tracked\", \"models.BasicCNNClassifier.cnn.layer2.0.downsample.0.weight\", \"models.BasicCNNClassifier.cnn.layer2.0.downsample.1.weight\", \"models.BasicCNNClassifier.cnn.layer2.0.downsample.1.bias\", \"models.BasicCNNClassifier.cnn.layer2.0.downsample.1.running_mean\", \"models.BasicCNNClassifier.cnn.layer2.0.downsample.1.running_var\", \"models.BasicCNNClassifier.cnn.layer2.0.downsample.1.num_batches_tracked\", \"models.BasicCNNClassifier.cnn.layer2.1.conv1.weight\", \"models.BasicCNNClassifier.cnn.layer2.1.bn1.weight\", \"models.BasicCNNClassifier.cnn.layer2.1.bn1.bias\", \"models.BasicCNNClassifier.cnn.layer2.1.bn1.running_mean\", \"models.BasicCNNClassifier.cnn.layer2.1.bn1.running_var\", \"models.BasicCNNClassifier.cnn.layer2.1.bn1.num_batches_tracked\", \"models.BasicCNNClassifier.cnn.layer2.1.conv2.weight\", \"models.BasicCNNClassifier.cnn.layer2.1.bn2.weight\", \"models.BasicCNNClassifier.cnn.layer2.1.bn2.bias\", \"models.BasicCNNClassifier.cnn.layer2.1.bn2.running_mean\", \"models.BasicCNNClassifier.cnn.layer2.1.bn2.running_var\", \"models.BasicCNNClassifier.cnn.layer2.1.bn2.num_batches_tracked\", \"models.BasicCNNClassifier.cnn.layer3.0.conv1.weight\", \"models.BasicCNNClassifier.cnn.layer3.0.bn1.weight\", \"models.BasicCNNClassifier.cnn.layer3.0.bn1.bias\", \"models.BasicCNNClassifier.cnn.layer3.0.bn1.running_mean\", \"models.BasicCNNClassifier.cnn.layer3.0.bn1.running_var\", \"models.BasicCNNClassifier.cnn.layer3.0.bn1.num_batches_tracked\", \"models.BasicCNNClassifier.cnn.layer3.0.conv2.weight\", \"models.BasicCNNClassifier.cnn.layer3.0.bn2.weight\", \"models.BasicCNNClassifier.cnn.layer3.0.bn2.bias\", \"models.BasicCNNClassifier.cnn.layer3.0.bn2.running_mean\", \"models.BasicCNNClassifier.cnn.layer3.0.bn2.running_var\", \"models.BasicCNNClassifier.cnn.layer3.0.bn2.num_batches_tracked\", \"models.BasicCNNClassifier.cnn.layer3.0.downsample.0.weight\", \"models.BasicCNNClassifier.cnn.layer3.0.downsample.1.weight\", \"models.BasicCNNClassifier.cnn.layer3.0.downsample.1.bias\", \"models.BasicCNNClassifier.cnn.layer3.0.downsample.1.running_mean\", \"models.BasicCNNClassifier.cnn.layer3.0.downsample.1.running_var\", \"models.BasicCNNClassifier.cnn.layer3.0.downsample.1.num_batches_tracked\", \"models.BasicCNNClassifier.cnn.layer3.1.conv1.weight\", \"models.BasicCNNClassifier.cnn.layer3.1.bn1.weight\", \"models.BasicCNNClassifier.cnn.layer3.1.bn1.bias\", \"models.BasicCNNClassifier.cnn.layer3.1.bn1.running_mean\", \"models.BasicCNNClassifier.cnn.layer3.1.bn1.running_var\", \"models.BasicCNNClassifier.cnn.layer3.1.bn1.num_batches_tracked\", \"models.BasicCNNClassifier.cnn.layer3.1.conv2.weight\", \"models.BasicCNNClassifier.cnn.layer3.1.bn2.weight\", \"models.BasicCNNClassifier.cnn.layer3.1.bn2.bias\", \"models.BasicCNNClassifier.cnn.layer3.1.bn2.running_mean\", \"models.BasicCNNClassifier.cnn.layer3.1.bn2.running_var\", \"models.BasicCNNClassifier.cnn.layer3.1.bn2.num_batches_tracked\", \"models.BasicCNNClassifier.cnn.layer4.0.conv1.weight\", \"models.BasicCNNClassifier.cnn.layer4.0.bn1.weight\", \"models.BasicCNNClassifier.cnn.layer4.0.bn1.bias\", \"models.BasicCNNClassifier.cnn.layer4.0.bn1.running_mean\", \"models.BasicCNNClassifier.cnn.layer4.0.bn1.running_var\", \"models.BasicCNNClassifier.cnn.layer4.0.bn1.num_batches_tracked\", \"models.BasicCNNClassifier.cnn.layer4.0.conv2.weight\", \"models.BasicCNNClassifier.cnn.layer4.0.bn2.weight\", \"models.BasicCNNClassifier.cnn.layer4.0.bn2.bias\", \"models.BasicCNNClassifier.cnn.layer4.0.bn2.running_mean\", \"models.BasicCNNClassifier.cnn.layer4.0.bn2.running_var\", \"models.BasicCNNClassifier.cnn.layer4.0.bn2.num_batches_tracked\", \"models.BasicCNNClassifier.cnn.layer4.0.downsample.0.weight\", \"models.BasicCNNClassifier.cnn.layer4.0.downsample.1.weight\", \"models.BasicCNNClassifier.cnn.layer4.0.downsample.1.bias\", \"models.BasicCNNClassifier.cnn.layer4.0.downsample.1.running_mean\", \"models.BasicCNNClassifier.cnn.layer4.0.downsample.1.running_var\", \"models.BasicCNNClassifier.cnn.layer4.0.downsample.1.num_batches_tracked\", \"models.BasicCNNClassifier.cnn.layer4.1.conv1.weight\", \"models.BasicCNNClassifier.cnn.layer4.1.bn1.weight\", \"models.BasicCNNClassifier.cnn.layer4.1.bn1.bias\", \"models.BasicCNNClassifier.cnn.layer4.1.bn1.running_mean\", \"models.BasicCNNClassifier.cnn.layer4.1.bn1.running_var\", \"models.BasicCNNClassifier.cnn.layer4.1.bn1.num_batches_tracked\", \"models.BasicCNNClassifier.cnn.layer4.1.conv2.weight\", \"models.BasicCNNClassifier.cnn.layer4.1.bn2.weight\", \"models.BasicCNNClassifier.cnn.layer4.1.bn2.bias\", \"models.BasicCNNClassifier.cnn.layer4.1.bn2.running_mean\", \"models.BasicCNNClassifier.cnn.layer4.1.bn2.running_var\", \"models.BasicCNNClassifier.cnn.layer4.1.bn2.num_batches_tracked\". \n\tsize mismatch for classifier.0.weight: copying a param with shape torch.Size([512, 2048]) from checkpoint, the shape in current model is torch.Size([512, 1536]).",
     "output_type": "error",
     "traceback": [
      "\u001B[0;31m---------------------------------------------------------------------------\u001B[0m",
      "\u001B[0;31mRuntimeError\u001B[0m                              Traceback (most recent call last)",
      "Cell \u001B[0;32mIn[1], line 20\u001B[0m\n\u001B[1;32m     18\u001B[0m model \u001B[38;5;241m=\u001B[39m EnsembleModel(device)\u001B[38;5;241m.\u001B[39mto(device)\n\u001B[1;32m     19\u001B[0m checkpoint_path \u001B[38;5;241m=\u001B[39m \u001B[38;5;124m\"\u001B[39m\u001B[38;5;124mmodels/canonical/ensemble_phishing_classifier.pt\u001B[39m\u001B[38;5;124m\"\u001B[39m\n\u001B[0;32m---> 20\u001B[0m \u001B[43mmodel\u001B[49m\u001B[38;5;241;43m.\u001B[39;49m\u001B[43mload_state_dict\u001B[49m\u001B[43m(\u001B[49m\u001B[43mtorch\u001B[49m\u001B[38;5;241;43m.\u001B[39;49m\u001B[43mload\u001B[49m\u001B[43m(\u001B[49m\u001B[43mcheckpoint_path\u001B[49m\u001B[43m,\u001B[49m\u001B[43m \u001B[49m\u001B[43mmap_location\u001B[49m\u001B[38;5;241;43m=\u001B[39;49m\u001B[43mdevice\u001B[49m\u001B[43m)\u001B[49m\u001B[43m)\u001B[49m\n\u001B[1;32m     21\u001B[0m model\u001B[38;5;241m.\u001B[39mto(device)\n\u001B[1;32m     22\u001B[0m model\u001B[38;5;241m.\u001B[39meval()\n",
      "File \u001B[0;32m/opt/homebrew/Caskroom/miniforge/base/envs/phishing-edge/lib/python3.10/site-packages/torch/nn/modules/module.py:2215\u001B[0m, in \u001B[0;36mModule.load_state_dict\u001B[0;34m(self, state_dict, strict, assign)\u001B[0m\n\u001B[1;32m   2210\u001B[0m         error_msgs\u001B[38;5;241m.\u001B[39minsert(\n\u001B[1;32m   2211\u001B[0m             \u001B[38;5;241m0\u001B[39m, \u001B[38;5;124m'\u001B[39m\u001B[38;5;124mMissing key(s) in state_dict: \u001B[39m\u001B[38;5;132;01m{}\u001B[39;00m\u001B[38;5;124m. \u001B[39m\u001B[38;5;124m'\u001B[39m\u001B[38;5;241m.\u001B[39mformat(\n\u001B[1;32m   2212\u001B[0m                 \u001B[38;5;124m'\u001B[39m\u001B[38;5;124m, \u001B[39m\u001B[38;5;124m'\u001B[39m\u001B[38;5;241m.\u001B[39mjoin(\u001B[38;5;124mf\u001B[39m\u001B[38;5;124m'\u001B[39m\u001B[38;5;124m\"\u001B[39m\u001B[38;5;132;01m{\u001B[39;00mk\u001B[38;5;132;01m}\u001B[39;00m\u001B[38;5;124m\"\u001B[39m\u001B[38;5;124m'\u001B[39m \u001B[38;5;28;01mfor\u001B[39;00m k \u001B[38;5;129;01min\u001B[39;00m missing_keys)))\n\u001B[1;32m   2214\u001B[0m \u001B[38;5;28;01mif\u001B[39;00m \u001B[38;5;28mlen\u001B[39m(error_msgs) \u001B[38;5;241m>\u001B[39m \u001B[38;5;241m0\u001B[39m:\n\u001B[0;32m-> 2215\u001B[0m     \u001B[38;5;28;01mraise\u001B[39;00m \u001B[38;5;167;01mRuntimeError\u001B[39;00m(\u001B[38;5;124m'\u001B[39m\u001B[38;5;124mError(s) in loading state_dict for \u001B[39m\u001B[38;5;132;01m{}\u001B[39;00m\u001B[38;5;124m:\u001B[39m\u001B[38;5;130;01m\\n\u001B[39;00m\u001B[38;5;130;01m\\t\u001B[39;00m\u001B[38;5;132;01m{}\u001B[39;00m\u001B[38;5;124m'\u001B[39m\u001B[38;5;241m.\u001B[39mformat(\n\u001B[1;32m   2216\u001B[0m                        \u001B[38;5;28mself\u001B[39m\u001B[38;5;241m.\u001B[39m\u001B[38;5;18m__class__\u001B[39m\u001B[38;5;241m.\u001B[39m\u001B[38;5;18m__name__\u001B[39m, \u001B[38;5;124m\"\u001B[39m\u001B[38;5;130;01m\\n\u001B[39;00m\u001B[38;5;130;01m\\t\u001B[39;00m\u001B[38;5;124m\"\u001B[39m\u001B[38;5;241m.\u001B[39mjoin(error_msgs)))\n\u001B[1;32m   2217\u001B[0m \u001B[38;5;28;01mreturn\u001B[39;00m _IncompatibleKeys(missing_keys, unexpected_keys)\n",
      "\u001B[0;31mRuntimeError\u001B[0m: Error(s) in loading state_dict for EnsembleModel:\n\tUnexpected key(s) in state_dict: \"models.BasicCNNClassifier.cnn.conv1.weight\", \"models.BasicCNNClassifier.cnn.bn1.weight\", \"models.BasicCNNClassifier.cnn.bn1.bias\", \"models.BasicCNNClassifier.cnn.bn1.running_mean\", \"models.BasicCNNClassifier.cnn.bn1.running_var\", \"models.BasicCNNClassifier.cnn.bn1.num_batches_tracked\", \"models.BasicCNNClassifier.cnn.layer1.0.conv1.weight\", \"models.BasicCNNClassifier.cnn.layer1.0.bn1.weight\", \"models.BasicCNNClassifier.cnn.layer1.0.bn1.bias\", \"models.BasicCNNClassifier.cnn.layer1.0.bn1.running_mean\", \"models.BasicCNNClassifier.cnn.layer1.0.bn1.running_var\", \"models.BasicCNNClassifier.cnn.layer1.0.bn1.num_batches_tracked\", \"models.BasicCNNClassifier.cnn.layer1.0.conv2.weight\", \"models.BasicCNNClassifier.cnn.layer1.0.bn2.weight\", \"models.BasicCNNClassifier.cnn.layer1.0.bn2.bias\", \"models.BasicCNNClassifier.cnn.layer1.0.bn2.running_mean\", \"models.BasicCNNClassifier.cnn.layer1.0.bn2.running_var\", \"models.BasicCNNClassifier.cnn.layer1.0.bn2.num_batches_tracked\", \"models.BasicCNNClassifier.cnn.layer1.1.conv1.weight\", \"models.BasicCNNClassifier.cnn.layer1.1.bn1.weight\", \"models.BasicCNNClassifier.cnn.layer1.1.bn1.bias\", \"models.BasicCNNClassifier.cnn.layer1.1.bn1.running_mean\", \"models.BasicCNNClassifier.cnn.layer1.1.bn1.running_var\", \"models.BasicCNNClassifier.cnn.layer1.1.bn1.num_batches_tracked\", \"models.BasicCNNClassifier.cnn.layer1.1.conv2.weight\", \"models.BasicCNNClassifier.cnn.layer1.1.bn2.weight\", \"models.BasicCNNClassifier.cnn.layer1.1.bn2.bias\", \"models.BasicCNNClassifier.cnn.layer1.1.bn2.running_mean\", \"models.BasicCNNClassifier.cnn.layer1.1.bn2.running_var\", \"models.BasicCNNClassifier.cnn.layer1.1.bn2.num_batches_tracked\", \"models.BasicCNNClassifier.cnn.layer2.0.conv1.weight\", \"models.BasicCNNClassifier.cnn.layer2.0.bn1.weight\", \"models.BasicCNNClassifier.cnn.layer2.0.bn1.bias\", \"models.BasicCNNClassifier.cnn.layer2.0.bn1.running_mean\", \"models.BasicCNNClassifier.cnn.layer2.0.bn1.running_var\", \"models.BasicCNNClassifier.cnn.layer2.0.bn1.num_batches_tracked\", \"models.BasicCNNClassifier.cnn.layer2.0.conv2.weight\", \"models.BasicCNNClassifier.cnn.layer2.0.bn2.weight\", \"models.BasicCNNClassifier.cnn.layer2.0.bn2.bias\", \"models.BasicCNNClassifier.cnn.layer2.0.bn2.running_mean\", \"models.BasicCNNClassifier.cnn.layer2.0.bn2.running_var\", \"models.BasicCNNClassifier.cnn.layer2.0.bn2.num_batches_tracked\", \"models.BasicCNNClassifier.cnn.layer2.0.downsample.0.weight\", \"models.BasicCNNClassifier.cnn.layer2.0.downsample.1.weight\", \"models.BasicCNNClassifier.cnn.layer2.0.downsample.1.bias\", \"models.BasicCNNClassifier.cnn.layer2.0.downsample.1.running_mean\", \"models.BasicCNNClassifier.cnn.layer2.0.downsample.1.running_var\", \"models.BasicCNNClassifier.cnn.layer2.0.downsample.1.num_batches_tracked\", \"models.BasicCNNClassifier.cnn.layer2.1.conv1.weight\", \"models.BasicCNNClassifier.cnn.layer2.1.bn1.weight\", \"models.BasicCNNClassifier.cnn.layer2.1.bn1.bias\", \"models.BasicCNNClassifier.cnn.layer2.1.bn1.running_mean\", \"models.BasicCNNClassifier.cnn.layer2.1.bn1.running_var\", \"models.BasicCNNClassifier.cnn.layer2.1.bn1.num_batches_tracked\", \"models.BasicCNNClassifier.cnn.layer2.1.conv2.weight\", \"models.BasicCNNClassifier.cnn.layer2.1.bn2.weight\", \"models.BasicCNNClassifier.cnn.layer2.1.bn2.bias\", \"models.BasicCNNClassifier.cnn.layer2.1.bn2.running_mean\", \"models.BasicCNNClassifier.cnn.layer2.1.bn2.running_var\", \"models.BasicCNNClassifier.cnn.layer2.1.bn2.num_batches_tracked\", \"models.BasicCNNClassifier.cnn.layer3.0.conv1.weight\", \"models.BasicCNNClassifier.cnn.layer3.0.bn1.weight\", \"models.BasicCNNClassifier.cnn.layer3.0.bn1.bias\", \"models.BasicCNNClassifier.cnn.layer3.0.bn1.running_mean\", \"models.BasicCNNClassifier.cnn.layer3.0.bn1.running_var\", \"models.BasicCNNClassifier.cnn.layer3.0.bn1.num_batches_tracked\", \"models.BasicCNNClassifier.cnn.layer3.0.conv2.weight\", \"models.BasicCNNClassifier.cnn.layer3.0.bn2.weight\", \"models.BasicCNNClassifier.cnn.layer3.0.bn2.bias\", \"models.BasicCNNClassifier.cnn.layer3.0.bn2.running_mean\", \"models.BasicCNNClassifier.cnn.layer3.0.bn2.running_var\", \"models.BasicCNNClassifier.cnn.layer3.0.bn2.num_batches_tracked\", \"models.BasicCNNClassifier.cnn.layer3.0.downsample.0.weight\", \"models.BasicCNNClassifier.cnn.layer3.0.downsample.1.weight\", \"models.BasicCNNClassifier.cnn.layer3.0.downsample.1.bias\", \"models.BasicCNNClassifier.cnn.layer3.0.downsample.1.running_mean\", \"models.BasicCNNClassifier.cnn.layer3.0.downsample.1.running_var\", \"models.BasicCNNClassifier.cnn.layer3.0.downsample.1.num_batches_tracked\", \"models.BasicCNNClassifier.cnn.layer3.1.conv1.weight\", \"models.BasicCNNClassifier.cnn.layer3.1.bn1.weight\", \"models.BasicCNNClassifier.cnn.layer3.1.bn1.bias\", \"models.BasicCNNClassifier.cnn.layer3.1.bn1.running_mean\", \"models.BasicCNNClassifier.cnn.layer3.1.bn1.running_var\", \"models.BasicCNNClassifier.cnn.layer3.1.bn1.num_batches_tracked\", \"models.BasicCNNClassifier.cnn.layer3.1.conv2.weight\", \"models.BasicCNNClassifier.cnn.layer3.1.bn2.weight\", \"models.BasicCNNClassifier.cnn.layer3.1.bn2.bias\", \"models.BasicCNNClassifier.cnn.layer3.1.bn2.running_mean\", \"models.BasicCNNClassifier.cnn.layer3.1.bn2.running_var\", \"models.BasicCNNClassifier.cnn.layer3.1.bn2.num_batches_tracked\", \"models.BasicCNNClassifier.cnn.layer4.0.conv1.weight\", \"models.BasicCNNClassifier.cnn.layer4.0.bn1.weight\", \"models.BasicCNNClassifier.cnn.layer4.0.bn1.bias\", \"models.BasicCNNClassifier.cnn.layer4.0.bn1.running_mean\", \"models.BasicCNNClassifier.cnn.layer4.0.bn1.running_var\", \"models.BasicCNNClassifier.cnn.layer4.0.bn1.num_batches_tracked\", \"models.BasicCNNClassifier.cnn.layer4.0.conv2.weight\", \"models.BasicCNNClassifier.cnn.layer4.0.bn2.weight\", \"models.BasicCNNClassifier.cnn.layer4.0.bn2.bias\", \"models.BasicCNNClassifier.cnn.layer4.0.bn2.running_mean\", \"models.BasicCNNClassifier.cnn.layer4.0.bn2.running_var\", \"models.BasicCNNClassifier.cnn.layer4.0.bn2.num_batches_tracked\", \"models.BasicCNNClassifier.cnn.layer4.0.downsample.0.weight\", \"models.BasicCNNClassifier.cnn.layer4.0.downsample.1.weight\", \"models.BasicCNNClassifier.cnn.layer4.0.downsample.1.bias\", \"models.BasicCNNClassifier.cnn.layer4.0.downsample.1.running_mean\", \"models.BasicCNNClassifier.cnn.layer4.0.downsample.1.running_var\", \"models.BasicCNNClassifier.cnn.layer4.0.downsample.1.num_batches_tracked\", \"models.BasicCNNClassifier.cnn.layer4.1.conv1.weight\", \"models.BasicCNNClassifier.cnn.layer4.1.bn1.weight\", \"models.BasicCNNClassifier.cnn.layer4.1.bn1.bias\", \"models.BasicCNNClassifier.cnn.layer4.1.bn1.running_mean\", \"models.BasicCNNClassifier.cnn.layer4.1.bn1.running_var\", \"models.BasicCNNClassifier.cnn.layer4.1.bn1.num_batches_tracked\", \"models.BasicCNNClassifier.cnn.layer4.1.conv2.weight\", \"models.BasicCNNClassifier.cnn.layer4.1.bn2.weight\", \"models.BasicCNNClassifier.cnn.layer4.1.bn2.bias\", \"models.BasicCNNClassifier.cnn.layer4.1.bn2.running_mean\", \"models.BasicCNNClassifier.cnn.layer4.1.bn2.running_var\", \"models.BasicCNNClassifier.cnn.layer4.1.bn2.num_batches_tracked\". \n\tsize mismatch for classifier.0.weight: copying a param with shape torch.Size([512, 2048]) from checkpoint, the shape in current model is torch.Size([512, 1536])."
     ]
    }
   ],
   "execution_count": 1
  },
  {
   "metadata": {
    "ExecuteTime": {
     "end_time": "2024-11-29T06:34:56.305628Z",
     "start_time": "2024-11-29T06:34:56.301825Z"
    }
   },
   "cell_type": "code",
   "source": [
    "print(len(false_positives), len(false_negatives))\n",
    "\n",
    "print(false_positives)\n",
    "print(false_negatives)"
   ],
   "id": "f53dc079e9649c9",
   "outputs": [
    {
     "name": "stdout",
     "output_type": "stream",
     "text": [
      "79 140\n",
      "['https://businessangelsummit.at/page.cfm', 'https://login.squarespace.com/api/1/login/oauth/provider/authorize', 'https://methocarbamol.site/', 'https://mymilestonecard.website/', 'https://globalk9protectiongroup.com/', 'https://24h-emploi-formation.com/', 'https://trennungsfaq.com/', 'https://monitoring-obmennikov-belarus.site/', 'https://tigerdave.wixsite.com/website', 'https://error.alibaba.com/error404.htm', 'https://www.beebella.buzz/', 'https://misrecursosdidacticosparaparvulos.blogspot.com/', 'https://www.irctc.co.in/nget/', 'https://semver.npmjs.com/', 'https://www.th4ts3cur1ty.company/', 'https://celebjihad.com/main6', 'https://help.unicef.org/node/11336', 'https://nubilefilms.com/tube/sfw', 'https://hanabisushi.menu11.com/', 'https://www.banorte.com/wps/portal/banorte/Home/inicio', 'https://prologis.getbynder.com/login/', 'https://embedy.cc/', 'https://donstroy.moscow/objects/serdtse-stolitsy/', 'https://crazytimebangladesh.click/', 'https://deploy-preview-6073--typescript-eslint.netlify.app/', 'https://croco.site/', 'https://portal.kutxabank.es/cs/Satellite', 'https://trbonlineexams.in/', 'https://api.repkam09.com/', 'https://www.davivienda.com/wps/portal/personas/nuevo', 'https://xn--80aacbuczbw9a6a.xn--p1ai/', 'https://ydkjs-exercises.com/', 'https://en-intuitiv-sommar.confetti.events/', 'https://www.ardmediathek.de/sendung/bavarian-makers/Y3JpZDovL2JyLmRlL2Jyb2FkY2FzdFNlcmllcy9jOTczZjMwYy01ZjRjLTQwM2YtOTA1OC02YzcyZTQ2ZWM1MDM', 'http://www.sd173.com/', 'https://majix.xyz/yunohost/sso/', 'https://img.ingping.com/cnotice/yp/pc-home.html', 'https://expy.jp/top.php', 'https://www.sgen-cfdt.fr/', 'https://jbvip.net/', 'http://www.bxwx9.org/', 'https://ip.alsgtg.com/', 'https://open-match.dev/site/', 'http://www.1-hash.com/', 'https://office-qa.com/', 'https://xn--72c9ah5dd7a5a9gsbzb.com/', 'https://www.3asq.site/', 'http://www.papalouie.com/', 'https://9alami.info/loginto/', 'https://digiup.online/', 'https://sateraito-apps-sso.appspot.com/', 'https://qupu123.com/', 'https://zbiornik.tv/accept/Lw==', 'http://www.vapiescortsservice.in/', 'https://verifycontent.net/cl/a41986f8-d5c5-409f-a0e2-ad7961772083', 'http://www.61baobao.com/', 'https://permainanslotcuan.website/', 'https://dyyyl.rocks/', 'https://coink.wang/', 'https://whapl.square.site/', 'https://app.gen5.digital/', 'https://fixitrightplumbing.diowebhost.com/', 'https://moves.framer.website/', 'http://huilletstraub-berlin.net/', 'https://blitz-setup.ahadns.com/', 'https://wordpress-526969-2280362.cloudwaysapps.com/', 'http://meiga.shop-pro.jp/', 'https://coinlock.app/', 'https://prairiecedarcreations1.godaddysites.com/', 'http://cs-lords.ru/', 'https://store.steampowered.com/app/953490', 'https://sisonline.uni-due.de/LS/2090317350/INF', 'https://tokenize.exchange/', 'https://help-pohudet.ru/', 'http://www.needles4jukeboxes.com/New%20&%20Used%20Vintage%20Jukebox%20Parts.htm', 'https://docs.diginext.site/', 'https://ove53sw02e.pixnet.net/blog', 'https://periodicorease.pro.br/rease', 'https://multistep-component-03.webflow.io/']\n",
      "['https://mertkarakaslitr.com/', 'https://www.securemail.inkgraphtechno.com/', 'https://trken.in/', 'https://dbsdeil.com/', 'https://uk-profitai.com/', 'https://disc.singkr.com/', 'https://uphold-log.teachmore.com/', 'https://synapsesms.com/', 'https://w.vip16.win/', 'https://mercadobitcoinokl.com/', 'https://kalkinna.com.tr/', 'https://ai-enzotrading.com/', 'https://sketchco.com.sa/500/sts.rockefeller.edu/', 'https://attyahooneew.mystrikingly.com/', 'https://rocketpumps.info/', 'https://rheinfelderrhof.com/', 'https://www.cryptoglints.com/', 'https://microalpha.com.my/', 'https://fr.foguangshan.fr/leboncoin-pay.fr/', 'https://crow-khaki-6btk.squarespace.com/', 'https://www.nhh.ire.mybluehost.me/', 'https://jiujiub8.com/', 'https://kitashopping.com/index.html', 'https://urfamous.com/', 'https://17dh03.com/', 'https://juno.crazywhiteboy.dj/', 'https://www.toknepocket.com/', 'https://scszdm.com/', 'https://www.kipjackson.com/', 'https://thetrustaccountmanage.com/', 'https://orangeblossomchorus.com/index.php/shawn-mondragon', 'https://tripplettechnologies.com/', 'https://scentofragrances.com/iel/de/', 'https://vazlos.com/', 'https://t.me-join.info/Kacher-Atelier', 'https://winx7.in/', 'https://medicaltrader.com.pe/Iso/', 'https://sdijiffaad.com/', 'https://rare-curve.surge.sh/', 'https://santepharma.com.br/', 'https://sparkasse.de.hivernaldelbages.com/', 'https://torapooh.main.jp/store/auth.sso/auth.sso.biglobe.ne.jp/wms.sso.biglobe.ne.jp/', 'https://promocioneswing.com/', 'https://yunomesowel.stylemarq.com/login', 'https://emerencianno.com.br/', 'https://simplesocialboost.com.ng/', 'https://googg.xyz/', 'https://yifangfengshun.com/', 'https://mit.tempisite.com/', 'https://antivirusassists.com/', 'https://www.parahouma.x10.mx/', 'https://ibailey.cl/web1.plala.or.jp/plala.or.jps/index.html', 'https://roybinwood-login.com/', 'https://doctormouse.pt/', 'https://ubank.tec.br/', 'https://goodnessfoodnetwork.blogspot.com/', 'https://tracking-omniva.ee.brainsystems-it.com/', 'https://microsoft-teams-meetings.com/en-us/microsoft-teams/join-a-meeting/', 'https://www.gaurswap.org/', 'https://battlegroundsmobileindia.enentmax.com/', 'https://mymall1.com/', 'https://www.derumweltzuliebe.com/', 'https://azamtrust.org/hostel-enquiry.php', 'https://www.cinefaanblak.com/', 'https://claropagosfacture.com/', 'https://skyspa-la.com/', 'https://safetyshare-event.com/', 'https://behjdl.net/', 'https://radiofiesta.mx/', 'https://idthwh.com/login/', 'https://rmail.mslogistics.us/', 'https://pancake.otochain.io/', 'https://hotnotair.homelinux.org/NOTAIRE/', 'https://pubgzing.com.tr/', 'https://laserinnhyd.com/', 'https://helpclubpositive.com/', 'https://inkspiration.zapto.org/', 'https://lojasmaglulza.com/', 'http://portalrealize.net/', 'https://connectsawallet.webflow.io/', 'https://anzchat.com/', 'https://kiounbesxtion.webflow.io/', 'https://casadellanatura.com/', 'https://in-50card.ru/wr', 'https://darx789.com/', 'http://wwwyezubuluo.com/', 'https://ainsvll.com/', 'https://emanagement.services/', 'https://elkjhm.com/', 'https://rechargaa.com/', 'https://my.govauhelp.cc/myaccount', 'https://dkb-ag.oknari.sk/de/', 'https://kotelegram.org/', 'http://rms.warinice.ac.th/', 'https://raqamtasdiqlash.com/', 'https://sopha.de/image/background-image-cropper/freelanding/index.html', 'https://nietflix.nl/', 'https://zz.whats.com.lv/', 'https://www.aavance.pe/error_cgi/gmo/', 'https://ejemplo.com.ar/', 'https://telgaram.com/', 'https://vpassid.com/mem/index.jsp', 'https://ecsr.io/ide/studiologin', 'https://s-vorgang.de/', 'https://www.imtokend.com/', 'https://trivision.com.au/cp/alibaba/', 'https://fxtshn.com/', 'https://drmartensthessaloniki.com/', 'https://linkyway.tripod.com/', 'https://spectahub.net/', 'http://www.accountbattlenet.net/', 'https://kbbcsc.edu.bd/wpwww/index/', 'https://www.ramco-egypt.com/', 'https://standpromo-code.ru/', 'https://portalcajalosandes.info/', 'https://eletroblindados.com.br/', 'https://addincart.xyz/', 'https://paymentuser.de/dashboard/', 'https://unisddtt.com/', 'https://spare1b.com/', 'https://enetflixforyou.blogspot.com/', 'https://bankpatriot.youroffice365.com/', 'https://noticemygov.com/', 'https://www.ssbancomer.com/', 'https://www.pubgmturkiye.com/', 'https://shelleys-spectacular-site.webflow.io/', 'https://orionki.eu/strato/login', 'https://workshopsdesigns.com/', 'https://wstewart07.brandaio.com/', 'https://br-coreos.phantm.org/', 'https://hodgesplc.com/', 'https://danskestage.stoppservice.com/', 'https://krasnodar-arena-kassa.ru/', 'https://hungakiragaming.pw.io.vn/', 'https://hcfministries.com/', 'https://groupmyviral.xyz/', 'https://feedback.workplacesurveys.net/', 'https://ebayc2c.net/', 'https://helpipreportingreportcopyright.com/', 'https://codte.com/.home/']\n"
     ]
    }
   ],
   "execution_count": 3
  },
  {
   "metadata": {},
   "cell_type": "code",
   "outputs": [],
   "execution_count": null,
   "source": [
    "from tabulate import tabulate\n",
    "\n",
    "sorted_false_positives = sorted(false_positives.items(), key=lambda x: x[1], reverse=True)\n",
    "sorted_false_negatives = sorted(false_negatives.items(), key=lambda x: x[1], reverse=True)\n",
    "\n",
    "# Prepare data for tabulate\n",
    "false_positives_table = [[url, f\"{score:.4f}\"] for url, score in sorted_false_positives]\n",
    "false_negatives_table = [[url, f\"{score:.4f}\"] for url, score in sorted_false_negatives]\n",
    "\n",
    "# Print tables\n",
    "print(\"\\nFalse Positives (sorted by score):\")\n",
    "print(tabulate(false_positives_table, headers=[\"URL\", \"Score\"], tablefmt=\"grid\"))\n",
    "\n",
    "print(\"\\nFalse Negatives (sorted by score):\")\n",
    "print(tabulate(false_negatives_table, headers=[\"URL\", \"Score\"], tablefmt=\"grid\"))"
   ],
   "id": "6624831cc8bc4d7e"
  }
 ],
 "metadata": {
  "kernelspec": {
   "display_name": "Python 3",
   "language": "python",
   "name": "python3"
  },
  "language_info": {
   "codemirror_mode": {
    "name": "ipython",
    "version": 2
   },
   "file_extension": ".py",
   "mimetype": "text/x-python",
   "name": "python",
   "nbconvert_exporter": "python",
   "pygments_lexer": "ipython2",
   "version": "2.7.6"
  }
 },
 "nbformat": 4,
 "nbformat_minor": 5
}
