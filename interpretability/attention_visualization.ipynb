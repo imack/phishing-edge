{
 "cells": [
  {
   "metadata": {},
   "cell_type": "markdown",
   "source": "This notebook is for taking our transformer models and applying SHAP explanations to their output to see which tokens contribute to what.",
   "id": "105dd560bfacb173"
  },
  {
   "cell_type": "code",
   "id": "initial_id",
   "metadata": {
    "collapsed": true,
    "ExecuteTime": {
     "end_time": "2024-11-29T21:50:08.398447Z",
     "start_time": "2024-11-29T20:51:37.355922Z"
    }
   },
   "source": [
    "from classifiers.basic_transformer_classifier import BasicTransformerClassifier\n",
    "from torch.utils.data import DataLoader\n",
    "from dataset.phishing_dataset import PhishingDataset\n",
    "\n",
    "from classifiers.basic_url_skinny_bert_classifier import BasicUrlSkinnyBertClassifier\n",
    "import torch\n",
    "import torch.nn as nn\n",
    "from transformers import DistilBertModel, DistilBertTokenizer\n",
    "import shap\n",
    "import scipy as sp\n",
    "import numpy as np\n",
    "import os\n",
    "\n",
    "device = torch.device('cuda' if torch.cuda.is_available() else 'mps' if torch.backends.mps.is_available() else 'cpu')\n",
    "\n",
    "tokenizer = DistilBertTokenizer.from_pretrained('distilbert-base-uncased')\n",
    "\n",
    "model = BasicTransformerClassifier()\n",
    "checkpoint_path = \"../models/canonical/basic_html_transformer_phishing_classifier.pt\"\n",
    "model.load_state_dict(torch.load(checkpoint_path, map_location=device))\n",
    "model.to(device)\n",
    "model.eval()\n",
    "\n",
    "dataset_path = os.path.expanduser(\"~/transfer/phishing_output_tokenized.h5\")\n",
    "test_dataset = PhishingDataset(['html_content'], split='dev', local_file_path=dataset_path)\n",
    "test_dataloader = DataLoader(test_dataset, batch_size=128, shuffle=True)\n",
    "\n",
    "# Define a wrapper for SHAP compatibility\n",
    "class BertClassifierWrapper(nn.Module):\n",
    "    def __init__(self, model):\n",
    "        super(BertClassifierWrapper, self).__init__()\n",
    "        self.model = model\n",
    "\n",
    "    def forward(self, tokenized_inputs):\n",
    "        input_ids = tokenized_inputs.to(device)\n",
    "        attention_mask = (input_ids != 0).long().to(device)\n",
    "        return self.model(input_ids, attention_mask)\n",
    "\n",
    "wrapped_model = BertClassifierWrapper(model)\n",
    "\n",
    "feature_names = tokenizer.convert_ids_to_tokens(range(len(tokenizer)))\n",
    "\n",
    "# prediction function\n",
    "def f(x):\n",
    "    tv = torch.tensor([tokenizer.encode(v, max_length=512, padding='max_length', truncation=True) for v in x])\n",
    "    class_preds = wrapped_model(tv)\n",
    "    outputs = class_preds.detach().cpu().numpy()\n",
    "    scores = (np.exp(outputs).T / np.exp(outputs).sum(-1)).T\n",
    "    val = sp.special.logit(scores[:, 1])\n",
    "    return val\n",
    "\n",
    "batch = test_dataloader.__iter__().__next__()\n",
    "explainer = shap.Explainer(f, tokenizer)\n",
    "html_content = [content[:4000] for content in batch['html_content']]\n",
    "shap_values = explainer(html_content, fixed_context=1)\n",
    "\n"
   ],
   "outputs": [
    {
     "name": "stderr",
     "output_type": "stream",
     "text": [
      "/opt/homebrew/Caskroom/miniforge/base/envs/phishing-edge/lib/python3.10/site-packages/huggingface_hub/file_download.py:797: FutureWarning: `resume_download` is deprecated and will be removed in version 1.0.0. Downloads always resume when possible. If you want to force a new download, use `force_download=True`.\n",
      "  warnings.warn(\n",
      "/var/folders/j1/dctzbvps2w7cgcp3cflmcxm00000gn/T/ipykernel_86915/1057150206.py:20: FutureWarning: You are using `torch.load` with `weights_only=False` (the current default value), which uses the default pickle module implicitly. It is possible to construct malicious pickle data which will execute arbitrary code during unpickling (See https://github.com/pytorch/pytorch/blob/main/SECURITY.md#untrusted-models for more details). In a future release, the default value for `weights_only` will be flipped to `True`. This limits the functions that could be executed during unpickling. Arbitrary objects will no longer be allowed to be loaded via this mode unless they are explicitly allowlisted by the user via `torch.serialization.add_safe_globals`. We recommend you start setting `weights_only=True` for any use case where you don't have full control of the loaded file. Please open an issue on GitHub for any issues related to this experimental feature.\n",
      "  model.load_state_dict(torch.load(checkpoint_path, map_location=device))\n",
      "Token indices sequence length is longer than the specified maximum sequence length for this model (1158 > 512). Running this sequence through the model will result in indexing errors\n"
     ]
    },
    {
     "data": {
      "text/plain": [
       "  0%|          | 0/498 [00:00<?, ?it/s]"
      ],
      "application/vnd.jupyter.widget-view+json": {
       "version_major": 2,
       "version_minor": 0,
       "model_id": "1dc2397b60e14816a668d219f3541cf4"
      }
     },
     "metadata": {},
     "output_type": "display_data"
    },
    {
     "name": "stderr",
     "output_type": "stream",
     "text": [
      "PartitionExplainer explainer:   1%|          | 1/128 [00:00<?, ?it/s]"
     ]
    },
    {
     "data": {
      "text/plain": [
       "  0%|          | 0/498 [00:00<?, ?it/s]"
      ],
      "application/vnd.jupyter.widget-view+json": {
       "version_major": 2,
       "version_minor": 0,
       "model_id": "0e2aedb108a643c0a0cb7b0f6b02ab15"
      }
     },
     "metadata": {},
     "output_type": "display_data"
    },
    {
     "name": "stderr",
     "output_type": "stream",
     "text": [
      "PartitionExplainer explainer:   2%|▏         | 3/128 [00:57<28:55, 13.88s/it]"
     ]
    },
    {
     "data": {
      "text/plain": [
       "  0%|          | 0/498 [00:00<?, ?it/s]"
      ],
      "application/vnd.jupyter.widget-view+json": {
       "version_major": 2,
       "version_minor": 0,
       "model_id": "f93291d11d34431ea8f6e0f46cfcb133"
      }
     },
     "metadata": {},
     "output_type": "display_data"
    },
    {
     "name": "stderr",
     "output_type": "stream",
     "text": [
      "PartitionExplainer explainer:   3%|▎         | 4/128 [01:24<40:12, 19.45s/it]"
     ]
    },
    {
     "data": {
      "text/plain": [
       "  0%|          | 0/498 [00:00<?, ?it/s]"
      ],
      "application/vnd.jupyter.widget-view+json": {
       "version_major": 2,
       "version_minor": 0,
       "model_id": "91310a2c7afe481aa794a75b9dee6d6e"
      }
     },
     "metadata": {},
     "output_type": "display_data"
    },
    {
     "name": "stderr",
     "output_type": "stream",
     "text": [
      "PartitionExplainer explainer:   4%|▍         | 5/128 [01:50<44:56, 21.93s/it]"
     ]
    },
    {
     "data": {
      "text/plain": [
       "  0%|          | 0/498 [00:00<?, ?it/s]"
      ],
      "application/vnd.jupyter.widget-view+json": {
       "version_major": 2,
       "version_minor": 0,
       "model_id": "16b07b6ef9ff4a7885ce8c336c60a9bc"
      }
     },
     "metadata": {},
     "output_type": "display_data"
    },
    {
     "name": "stderr",
     "output_type": "stream",
     "text": [
      "PartitionExplainer explainer:   5%|▍         | 6/128 [02:22<52:01, 25.58s/it]"
     ]
    },
    {
     "data": {
      "text/plain": [
       "  0%|          | 0/498 [00:00<?, ?it/s]"
      ],
      "application/vnd.jupyter.widget-view+json": {
       "version_major": 2,
       "version_minor": 0,
       "model_id": "b6a51f1c43314eb6ab141138bff924b7"
      }
     },
     "metadata": {},
     "output_type": "display_data"
    },
    {
     "name": "stderr",
     "output_type": "stream",
     "text": [
      "PartitionExplainer explainer:   5%|▌         | 7/128 [02:51<53:57, 26.76s/it]"
     ]
    },
    {
     "data": {
      "text/plain": [
       "  0%|          | 0/498 [00:00<?, ?it/s]"
      ],
      "application/vnd.jupyter.widget-view+json": {
       "version_major": 2,
       "version_minor": 0,
       "model_id": "a3c418232b48413aa58bc1b19e58df6a"
      }
     },
     "metadata": {},
     "output_type": "display_data"
    },
    {
     "name": "stderr",
     "output_type": "stream",
     "text": [
      "PartitionExplainer explainer:   6%|▋         | 8/128 [03:18<53:24, 26.70s/it]"
     ]
    },
    {
     "data": {
      "text/plain": [
       "  0%|          | 0/498 [00:00<?, ?it/s]"
      ],
      "application/vnd.jupyter.widget-view+json": {
       "version_major": 2,
       "version_minor": 0,
       "model_id": "e791a1ab7c5e4a77b68ab9f1f20d539f"
      }
     },
     "metadata": {},
     "output_type": "display_data"
    },
    {
     "name": "stderr",
     "output_type": "stream",
     "text": [
      "PartitionExplainer explainer:   7%|▋         | 9/128 [03:43<51:54, 26.17s/it]"
     ]
    },
    {
     "data": {
      "text/plain": [
       "  0%|          | 0/498 [00:00<?, ?it/s]"
      ],
      "application/vnd.jupyter.widget-view+json": {
       "version_major": 2,
       "version_minor": 0,
       "model_id": "db7b139ccf464419982af76189da9898"
      }
     },
     "metadata": {},
     "output_type": "display_data"
    },
    {
     "name": "stderr",
     "output_type": "stream",
     "text": [
      "PartitionExplainer explainer:   8%|▊         | 10/128 [04:09<51:10, 26.02s/it]"
     ]
    },
    {
     "data": {
      "text/plain": [
       "  0%|          | 0/498 [00:00<?, ?it/s]"
      ],
      "application/vnd.jupyter.widget-view+json": {
       "version_major": 2,
       "version_minor": 0,
       "model_id": "3854eb9d74894d28b6fb26c89672245a"
      }
     },
     "metadata": {},
     "output_type": "display_data"
    },
    {
     "name": "stderr",
     "output_type": "stream",
     "text": [
      "PartitionExplainer explainer:   9%|▊         | 11/128 [04:39<53:31, 27.45s/it]"
     ]
    },
    {
     "data": {
      "text/plain": [
       "  0%|          | 0/498 [00:00<?, ?it/s]"
      ],
      "application/vnd.jupyter.widget-view+json": {
       "version_major": 2,
       "version_minor": 0,
       "model_id": "59d4ad82f557492fa74158687a491b5a"
      }
     },
     "metadata": {},
     "output_type": "display_data"
    },
    {
     "name": "stderr",
     "output_type": "stream",
     "text": [
      "PartitionExplainer explainer:   9%|▉         | 12/128 [04:59<48:41, 25.19s/it]"
     ]
    },
    {
     "data": {
      "text/plain": [
       "  0%|          | 0/498 [00:00<?, ?it/s]"
      ],
      "application/vnd.jupyter.widget-view+json": {
       "version_major": 2,
       "version_minor": 0,
       "model_id": "b344022551f54707931ae1c8dab0f400"
      }
     },
     "metadata": {},
     "output_type": "display_data"
    },
    {
     "name": "stderr",
     "output_type": "stream",
     "text": [
      "PartitionExplainer explainer:  10%|█         | 13/128 [05:25<48:15, 25.18s/it]"
     ]
    },
    {
     "data": {
      "text/plain": [
       "  0%|          | 0/498 [00:00<?, ?it/s]"
      ],
      "application/vnd.jupyter.widget-view+json": {
       "version_major": 2,
       "version_minor": 0,
       "model_id": "bd28a8ade8f945b59b0624f32c36104a"
      }
     },
     "metadata": {},
     "output_type": "display_data"
    },
    {
     "name": "stderr",
     "output_type": "stream",
     "text": [
      "PartitionExplainer explainer:  11%|█         | 14/128 [05:52<49:17, 25.95s/it]"
     ]
    },
    {
     "data": {
      "text/plain": [
       "  0%|          | 0/498 [00:00<?, ?it/s]"
      ],
      "application/vnd.jupyter.widget-view+json": {
       "version_major": 2,
       "version_minor": 0,
       "model_id": "71d31557585847d5b3be168fe49d7225"
      }
     },
     "metadata": {},
     "output_type": "display_data"
    },
    {
     "name": "stderr",
     "output_type": "stream",
     "text": [
      "PartitionExplainer explainer:  12%|█▏        | 15/128 [06:18<48:46, 25.90s/it]"
     ]
    },
    {
     "data": {
      "text/plain": [
       "  0%|          | 0/498 [00:00<?, ?it/s]"
      ],
      "application/vnd.jupyter.widget-view+json": {
       "version_major": 2,
       "version_minor": 0,
       "model_id": "52dd2ce7aeb642768a6fd9d7d6bb392a"
      }
     },
     "metadata": {},
     "output_type": "display_data"
    },
    {
     "name": "stderr",
     "output_type": "stream",
     "text": [
      "PartitionExplainer explainer:  12%|█▎        | 16/128 [06:42<47:26, 25.41s/it]"
     ]
    },
    {
     "data": {
      "text/plain": [
       "  0%|          | 0/498 [00:00<?, ?it/s]"
      ],
      "application/vnd.jupyter.widget-view+json": {
       "version_major": 2,
       "version_minor": 0,
       "model_id": "b7cd907862da4bd79f204bbcb1ddb54a"
      }
     },
     "metadata": {},
     "output_type": "display_data"
    },
    {
     "name": "stderr",
     "output_type": "stream",
     "text": [
      "PartitionExplainer explainer:  13%|█▎        | 17/128 [07:10<48:15, 26.08s/it]"
     ]
    },
    {
     "data": {
      "text/plain": [
       "  0%|          | 0/498 [00:00<?, ?it/s]"
      ],
      "application/vnd.jupyter.widget-view+json": {
       "version_major": 2,
       "version_minor": 0,
       "model_id": "07b0730c62224dfc9cc54cbd3b9b2337"
      }
     },
     "metadata": {},
     "output_type": "display_data"
    },
    {
     "name": "stderr",
     "output_type": "stream",
     "text": [
      "PartitionExplainer explainer:  14%|█▍        | 18/128 [07:37<48:33, 26.49s/it]"
     ]
    },
    {
     "data": {
      "text/plain": [
       "  0%|          | 0/498 [00:00<?, ?it/s]"
      ],
      "application/vnd.jupyter.widget-view+json": {
       "version_major": 2,
       "version_minor": 0,
       "model_id": "f1d89c514d814a6cb223c1c6dc4fcab6"
      }
     },
     "metadata": {},
     "output_type": "display_data"
    },
    {
     "name": "stderr",
     "output_type": "stream",
     "text": [
      "PartitionExplainer explainer:  15%|█▍        | 19/128 [08:04<48:03, 26.45s/it]"
     ]
    },
    {
     "data": {
      "text/plain": [
       "  0%|          | 0/498 [00:00<?, ?it/s]"
      ],
      "application/vnd.jupyter.widget-view+json": {
       "version_major": 2,
       "version_minor": 0,
       "model_id": "fbc8fd9271424fb0bed7c189b82c3ea3"
      }
     },
     "metadata": {},
     "output_type": "display_data"
    },
    {
     "name": "stderr",
     "output_type": "stream",
     "text": [
      "PartitionExplainer explainer:  16%|█▌        | 20/128 [08:29<47:06, 26.17s/it]"
     ]
    },
    {
     "data": {
      "text/plain": [
       "  0%|          | 0/498 [00:00<?, ?it/s]"
      ],
      "application/vnd.jupyter.widget-view+json": {
       "version_major": 2,
       "version_minor": 0,
       "model_id": "550db30d84f2428b88cf6602cb4adbf4"
      }
     },
     "metadata": {},
     "output_type": "display_data"
    },
    {
     "name": "stderr",
     "output_type": "stream",
     "text": [
      "PartitionExplainer explainer:  16%|█▋        | 21/128 [08:58<47:53, 26.86s/it]"
     ]
    },
    {
     "data": {
      "text/plain": [
       "  0%|          | 0/498 [00:00<?, ?it/s]"
      ],
      "application/vnd.jupyter.widget-view+json": {
       "version_major": 2,
       "version_minor": 0,
       "model_id": "3278ac25d69d4077a2aff2029a7c95fc"
      }
     },
     "metadata": {},
     "output_type": "display_data"
    },
    {
     "name": "stderr",
     "output_type": "stream",
     "text": [
      "PartitionExplainer explainer:  17%|█▋        | 22/128 [09:26<48:08, 27.25s/it]"
     ]
    },
    {
     "data": {
      "text/plain": [
       "  0%|          | 0/498 [00:00<?, ?it/s]"
      ],
      "application/vnd.jupyter.widget-view+json": {
       "version_major": 2,
       "version_minor": 0,
       "model_id": "b39d6a3f06d144e5a117cc4f18ad220b"
      }
     },
     "metadata": {},
     "output_type": "display_data"
    },
    {
     "name": "stderr",
     "output_type": "stream",
     "text": [
      "PartitionExplainer explainer:  18%|█▊        | 23/128 [09:51<46:22, 26.50s/it]"
     ]
    },
    {
     "data": {
      "text/plain": [
       "  0%|          | 0/498 [00:00<?, ?it/s]"
      ],
      "application/vnd.jupyter.widget-view+json": {
       "version_major": 2,
       "version_minor": 0,
       "model_id": "20c360cb0315479f899e06101bed3c9a"
      }
     },
     "metadata": {},
     "output_type": "display_data"
    },
    {
     "name": "stderr",
     "output_type": "stream",
     "text": [
      "PartitionExplainer explainer:  19%|█▉        | 24/128 [10:26<50:40, 29.23s/it]"
     ]
    },
    {
     "data": {
      "text/plain": [
       "  0%|          | 0/498 [00:00<?, ?it/s]"
      ],
      "application/vnd.jupyter.widget-view+json": {
       "version_major": 2,
       "version_minor": 0,
       "model_id": "8a71c67b738f4738ada5d57b4c55a7c7"
      }
     },
     "metadata": {},
     "output_type": "display_data"
    },
    {
     "name": "stderr",
     "output_type": "stream",
     "text": [
      "PartitionExplainer explainer:  20%|█▉        | 25/128 [11:03<53:48, 31.35s/it]"
     ]
    },
    {
     "data": {
      "text/plain": [
       "  0%|          | 0/498 [00:00<?, ?it/s]"
      ],
      "application/vnd.jupyter.widget-view+json": {
       "version_major": 2,
       "version_minor": 0,
       "model_id": "d84161df9e994076b85079543b62a058"
      }
     },
     "metadata": {},
     "output_type": "display_data"
    },
    {
     "name": "stderr",
     "output_type": "stream",
     "text": [
      "PartitionExplainer explainer:  20%|██        | 26/128 [11:29<50:56, 29.96s/it]"
     ]
    },
    {
     "data": {
      "text/plain": [
       "  0%|          | 0/498 [00:00<?, ?it/s]"
      ],
      "application/vnd.jupyter.widget-view+json": {
       "version_major": 2,
       "version_minor": 0,
       "model_id": "237a4710a6e041949430dc95d6c98a7f"
      }
     },
     "metadata": {},
     "output_type": "display_data"
    },
    {
     "name": "stderr",
     "output_type": "stream",
     "text": [
      "PartitionExplainer explainer:  21%|██        | 27/128 [11:55<48:07, 28.59s/it]"
     ]
    },
    {
     "data": {
      "text/plain": [
       "  0%|          | 0/498 [00:00<?, ?it/s]"
      ],
      "application/vnd.jupyter.widget-view+json": {
       "version_major": 2,
       "version_minor": 0,
       "model_id": "877e77ab688141e69aad771058650f75"
      }
     },
     "metadata": {},
     "output_type": "display_data"
    },
    {
     "name": "stderr",
     "output_type": "stream",
     "text": [
      "PartitionExplainer explainer:  22%|██▏       | 28/128 [12:20<46:03, 27.64s/it]"
     ]
    },
    {
     "data": {
      "text/plain": [
       "  0%|          | 0/498 [00:00<?, ?it/s]"
      ],
      "application/vnd.jupyter.widget-view+json": {
       "version_major": 2,
       "version_minor": 0,
       "model_id": "2b9a28341321426e929cd4f53e2d57ad"
      }
     },
     "metadata": {},
     "output_type": "display_data"
    },
    {
     "name": "stderr",
     "output_type": "stream",
     "text": [
      "PartitionExplainer explainer:  23%|██▎       | 29/128 [12:45<44:02, 26.69s/it]"
     ]
    },
    {
     "data": {
      "text/plain": [
       "  0%|          | 0/498 [00:00<?, ?it/s]"
      ],
      "application/vnd.jupyter.widget-view+json": {
       "version_major": 2,
       "version_minor": 0,
       "model_id": "c5d77a27ec9242e0ab13d27c36a62b93"
      }
     },
     "metadata": {},
     "output_type": "display_data"
    },
    {
     "name": "stderr",
     "output_type": "stream",
     "text": [
      "PartitionExplainer explainer:  23%|██▎       | 30/128 [13:10<43:08, 26.42s/it]"
     ]
    },
    {
     "data": {
      "text/plain": [
       "  0%|          | 0/498 [00:00<?, ?it/s]"
      ],
      "application/vnd.jupyter.widget-view+json": {
       "version_major": 2,
       "version_minor": 0,
       "model_id": "c72f3ad1d99b42aaa08f047fcc02575e"
      }
     },
     "metadata": {},
     "output_type": "display_data"
    },
    {
     "name": "stderr",
     "output_type": "stream",
     "text": [
      "PartitionExplainer explainer:  24%|██▍       | 31/128 [13:41<44:33, 27.56s/it]"
     ]
    },
    {
     "data": {
      "text/plain": [
       "  0%|          | 0/498 [00:00<?, ?it/s]"
      ],
      "application/vnd.jupyter.widget-view+json": {
       "version_major": 2,
       "version_minor": 0,
       "model_id": "e12d9a33d5ed4e7e855ba9e8b21c6960"
      }
     },
     "metadata": {},
     "output_type": "display_data"
    },
    {
     "name": "stderr",
     "output_type": "stream",
     "text": [
      "PartitionExplainer explainer:  25%|██▌       | 32/128 [14:06<43:13, 27.02s/it]"
     ]
    },
    {
     "data": {
      "text/plain": [
       "  0%|          | 0/498 [00:00<?, ?it/s]"
      ],
      "application/vnd.jupyter.widget-view+json": {
       "version_major": 2,
       "version_minor": 0,
       "model_id": "8a26fea0e6e94838b656f6232a35530f"
      }
     },
     "metadata": {},
     "output_type": "display_data"
    },
    {
     "name": "stderr",
     "output_type": "stream",
     "text": [
      "PartitionExplainer explainer:  26%|██▌       | 33/128 [14:33<42:38, 26.93s/it]"
     ]
    },
    {
     "data": {
      "text/plain": [
       "  0%|          | 0/498 [00:00<?, ?it/s]"
      ],
      "application/vnd.jupyter.widget-view+json": {
       "version_major": 2,
       "version_minor": 0,
       "model_id": "b91e8516036e48ecb181a8bf4538c055"
      }
     },
     "metadata": {},
     "output_type": "display_data"
    },
    {
     "name": "stderr",
     "output_type": "stream",
     "text": [
      "PartitionExplainer explainer:  27%|██▋       | 34/128 [15:00<42:05, 26.87s/it]"
     ]
    },
    {
     "data": {
      "text/plain": [
       "  0%|          | 0/498 [00:00<?, ?it/s]"
      ],
      "application/vnd.jupyter.widget-view+json": {
       "version_major": 2,
       "version_minor": 0,
       "model_id": "86ad0fcb3b1a4e07a1bde01820fa8536"
      }
     },
     "metadata": {},
     "output_type": "display_data"
    },
    {
     "name": "stderr",
     "output_type": "stream",
     "text": [
      "PartitionExplainer explainer:  27%|██▋       | 35/128 [15:18<37:50, 24.42s/it]"
     ]
    },
    {
     "data": {
      "text/plain": [
       "  0%|          | 0/498 [00:00<?, ?it/s]"
      ],
      "application/vnd.jupyter.widget-view+json": {
       "version_major": 2,
       "version_minor": 0,
       "model_id": "6916cb5e470644269ae4e9db71aa7db1"
      }
     },
     "metadata": {},
     "output_type": "display_data"
    },
    {
     "name": "stderr",
     "output_type": "stream",
     "text": [
      "PartitionExplainer explainer:  28%|██▊       | 36/128 [15:44<37:53, 24.72s/it]"
     ]
    },
    {
     "data": {
      "text/plain": [
       "  0%|          | 0/498 [00:00<?, ?it/s]"
      ],
      "application/vnd.jupyter.widget-view+json": {
       "version_major": 2,
       "version_minor": 0,
       "model_id": "79f13f62a44d4da091641c57beab9c1b"
      }
     },
     "metadata": {},
     "output_type": "display_data"
    },
    {
     "name": "stderr",
     "output_type": "stream",
     "text": [
      "PartitionExplainer explainer:  29%|██▉       | 37/128 [16:19<42:01, 27.71s/it]"
     ]
    },
    {
     "data": {
      "text/plain": [
       "  0%|          | 0/498 [00:00<?, ?it/s]"
      ],
      "application/vnd.jupyter.widget-view+json": {
       "version_major": 2,
       "version_minor": 0,
       "model_id": "fd5cc74260804dca94848cbb165052b1"
      }
     },
     "metadata": {},
     "output_type": "display_data"
    },
    {
     "name": "stderr",
     "output_type": "stream",
     "text": [
      "PartitionExplainer explainer:  30%|██▉       | 38/128 [16:49<42:53, 28.59s/it]"
     ]
    },
    {
     "data": {
      "text/plain": [
       "  0%|          | 0/498 [00:00<?, ?it/s]"
      ],
      "application/vnd.jupyter.widget-view+json": {
       "version_major": 2,
       "version_minor": 0,
       "model_id": "1194abd496414d33af851516d5da32b2"
      }
     },
     "metadata": {},
     "output_type": "display_data"
    },
    {
     "name": "stderr",
     "output_type": "stream",
     "text": [
      "PartitionExplainer explainer:  30%|███       | 39/128 [17:13<40:28, 27.28s/it]"
     ]
    },
    {
     "data": {
      "text/plain": [
       "  0%|          | 0/498 [00:00<?, ?it/s]"
      ],
      "application/vnd.jupyter.widget-view+json": {
       "version_major": 2,
       "version_minor": 0,
       "model_id": "6b4e83af15bc4da1bde1f1b8f4d9fde6"
      }
     },
     "metadata": {},
     "output_type": "display_data"
    },
    {
     "name": "stderr",
     "output_type": "stream",
     "text": [
      "PartitionExplainer explainer:  31%|███▏      | 40/128 [17:44<41:32, 28.32s/it]"
     ]
    },
    {
     "data": {
      "text/plain": [
       "  0%|          | 0/498 [00:00<?, ?it/s]"
      ],
      "application/vnd.jupyter.widget-view+json": {
       "version_major": 2,
       "version_minor": 0,
       "model_id": "937b2089026b4b568dc22f83a87b5354"
      }
     },
     "metadata": {},
     "output_type": "display_data"
    },
    {
     "name": "stderr",
     "output_type": "stream",
     "text": [
      "PartitionExplainer explainer:  32%|███▏      | 41/128 [18:06<38:07, 26.29s/it]"
     ]
    },
    {
     "data": {
      "text/plain": [
       "  0%|          | 0/498 [00:00<?, ?it/s]"
      ],
      "application/vnd.jupyter.widget-view+json": {
       "version_major": 2,
       "version_minor": 0,
       "model_id": "9a83b5d557694304bdd6c85d3427f225"
      }
     },
     "metadata": {},
     "output_type": "display_data"
    },
    {
     "name": "stderr",
     "output_type": "stream",
     "text": [
      "PartitionExplainer explainer:  33%|███▎      | 42/128 [18:32<37:50, 26.40s/it]"
     ]
    },
    {
     "data": {
      "text/plain": [
       "  0%|          | 0/498 [00:00<?, ?it/s]"
      ],
      "application/vnd.jupyter.widget-view+json": {
       "version_major": 2,
       "version_minor": 0,
       "model_id": "9bc51713681141a8908030bf258ac4bc"
      }
     },
     "metadata": {},
     "output_type": "display_data"
    },
    {
     "name": "stderr",
     "output_type": "stream",
     "text": [
      "PartitionExplainer explainer:  34%|███▎      | 43/128 [18:59<37:20, 26.36s/it]"
     ]
    },
    {
     "data": {
      "text/plain": [
       "  0%|          | 0/498 [00:00<?, ?it/s]"
      ],
      "application/vnd.jupyter.widget-view+json": {
       "version_major": 2,
       "version_minor": 0,
       "model_id": "049fff4fed9f4078b9f867bd405b7518"
      }
     },
     "metadata": {},
     "output_type": "display_data"
    },
    {
     "name": "stderr",
     "output_type": "stream",
     "text": [
      "PartitionExplainer explainer:  34%|███▍      | 44/128 [19:24<36:26, 26.03s/it]"
     ]
    },
    {
     "data": {
      "text/plain": [
       "  0%|          | 0/498 [00:00<?, ?it/s]"
      ],
      "application/vnd.jupyter.widget-view+json": {
       "version_major": 2,
       "version_minor": 0,
       "model_id": "d59049f3d006482dade13a3bd3f0e0e6"
      }
     },
     "metadata": {},
     "output_type": "display_data"
    },
    {
     "name": "stderr",
     "output_type": "stream",
     "text": [
      "PartitionExplainer explainer:  35%|███▌      | 45/128 [19:50<36:09, 26.14s/it]"
     ]
    },
    {
     "data": {
      "text/plain": [
       "  0%|          | 0/498 [00:00<?, ?it/s]"
      ],
      "application/vnd.jupyter.widget-view+json": {
       "version_major": 2,
       "version_minor": 0,
       "model_id": "241f8be0b3634df0836e98ee99523350"
      }
     },
     "metadata": {},
     "output_type": "display_data"
    },
    {
     "name": "stderr",
     "output_type": "stream",
     "text": [
      "PartitionExplainer explainer:  36%|███▌      | 46/128 [20:10<33:04, 24.20s/it]"
     ]
    },
    {
     "data": {
      "text/plain": [
       "  0%|          | 0/498 [00:00<?, ?it/s]"
      ],
      "application/vnd.jupyter.widget-view+json": {
       "version_major": 2,
       "version_minor": 0,
       "model_id": "a2b252f8c587463db6a6ae31e9516f9b"
      }
     },
     "metadata": {},
     "output_type": "display_data"
    },
    {
     "name": "stderr",
     "output_type": "stream",
     "text": [
      "PartitionExplainer explainer:  37%|███▋      | 47/128 [20:37<33:45, 25.01s/it]"
     ]
    },
    {
     "data": {
      "text/plain": [
       "  0%|          | 0/498 [00:00<?, ?it/s]"
      ],
      "application/vnd.jupyter.widget-view+json": {
       "version_major": 2,
       "version_minor": 0,
       "model_id": "afc750061c124c90bc86a50e4e1aa740"
      }
     },
     "metadata": {},
     "output_type": "display_data"
    },
    {
     "name": "stderr",
     "output_type": "stream",
     "text": [
      "PartitionExplainer explainer:  38%|███▊      | 48/128 [21:05<34:44, 26.06s/it]"
     ]
    },
    {
     "data": {
      "text/plain": [
       "  0%|          | 0/498 [00:00<?, ?it/s]"
      ],
      "application/vnd.jupyter.widget-view+json": {
       "version_major": 2,
       "version_minor": 0,
       "model_id": "12458da315ae44348a15aa4097196f74"
      }
     },
     "metadata": {},
     "output_type": "display_data"
    },
    {
     "name": "stderr",
     "output_type": "stream",
     "text": [
      "PartitionExplainer explainer:  38%|███▊      | 49/128 [21:35<35:41, 27.11s/it]"
     ]
    },
    {
     "data": {
      "text/plain": [
       "  0%|          | 0/498 [00:00<?, ?it/s]"
      ],
      "application/vnd.jupyter.widget-view+json": {
       "version_major": 2,
       "version_minor": 0,
       "model_id": "cfbcbe411f7a4d83bdb72d28f7d06e67"
      }
     },
     "metadata": {},
     "output_type": "display_data"
    },
    {
     "name": "stderr",
     "output_type": "stream",
     "text": [
      "PartitionExplainer explainer:  39%|███▉      | 50/128 [22:02<35:11, 27.07s/it]"
     ]
    },
    {
     "data": {
      "text/plain": [
       "  0%|          | 0/498 [00:00<?, ?it/s]"
      ],
      "application/vnd.jupyter.widget-view+json": {
       "version_major": 2,
       "version_minor": 0,
       "model_id": "4fb0610a2b3f4fadb996227eb2f10e77"
      }
     },
     "metadata": {},
     "output_type": "display_data"
    },
    {
     "name": "stderr",
     "output_type": "stream",
     "text": [
      "PartitionExplainer explainer:  40%|███▉      | 51/128 [22:28<34:12, 26.66s/it]"
     ]
    },
    {
     "data": {
      "text/plain": [
       "  0%|          | 0/498 [00:00<?, ?it/s]"
      ],
      "application/vnd.jupyter.widget-view+json": {
       "version_major": 2,
       "version_minor": 0,
       "model_id": "ef7a0d563be84bd59e8067610b8df4b8"
      }
     },
     "metadata": {},
     "output_type": "display_data"
    },
    {
     "name": "stderr",
     "output_type": "stream",
     "text": [
      "PartitionExplainer explainer:  41%|████      | 52/128 [23:09<39:15, 30.99s/it]"
     ]
    },
    {
     "data": {
      "text/plain": [
       "  0%|          | 0/498 [00:00<?, ?it/s]"
      ],
      "application/vnd.jupyter.widget-view+json": {
       "version_major": 2,
       "version_minor": 0,
       "model_id": "b34af5b633dc40e1ae9dd0dbd30d3cf2"
      }
     },
     "metadata": {},
     "output_type": "display_data"
    },
    {
     "name": "stderr",
     "output_type": "stream",
     "text": [
      "PartitionExplainer explainer:  41%|████▏     | 53/128 [23:35<36:55, 29.54s/it]"
     ]
    },
    {
     "data": {
      "text/plain": [
       "  0%|          | 0/498 [00:00<?, ?it/s]"
      ],
      "application/vnd.jupyter.widget-view+json": {
       "version_major": 2,
       "version_minor": 0,
       "model_id": "4f6afbda43d145b689cdeb00b48dca06"
      }
     },
     "metadata": {},
     "output_type": "display_data"
    },
    {
     "name": "stderr",
     "output_type": "stream",
     "text": [
      "PartitionExplainer explainer:  42%|████▏     | 54/128 [23:58<34:06, 27.65s/it]"
     ]
    },
    {
     "data": {
      "text/plain": [
       "  0%|          | 0/498 [00:00<?, ?it/s]"
      ],
      "application/vnd.jupyter.widget-view+json": {
       "version_major": 2,
       "version_minor": 0,
       "model_id": "78932f5f09a5495ca2f43e3053c197fe"
      }
     },
     "metadata": {},
     "output_type": "display_data"
    },
    {
     "name": "stderr",
     "output_type": "stream",
     "text": [
      "PartitionExplainer explainer:  43%|████▎     | 55/128 [24:24<33:09, 27.25s/it]"
     ]
    },
    {
     "data": {
      "text/plain": [
       "  0%|          | 0/498 [00:00<?, ?it/s]"
      ],
      "application/vnd.jupyter.widget-view+json": {
       "version_major": 2,
       "version_minor": 0,
       "model_id": "df8ab3f3ec9f4a9ba5006fdafc099fca"
      }
     },
     "metadata": {},
     "output_type": "display_data"
    },
    {
     "name": "stderr",
     "output_type": "stream",
     "text": [
      "PartitionExplainer explainer:  44%|████▍     | 56/128 [24:45<30:23, 25.32s/it]"
     ]
    },
    {
     "data": {
      "text/plain": [
       "  0%|          | 0/498 [00:00<?, ?it/s]"
      ],
      "application/vnd.jupyter.widget-view+json": {
       "version_major": 2,
       "version_minor": 0,
       "model_id": "ddac7e6a9f8c49d4bafcfe859a71525e"
      }
     },
     "metadata": {},
     "output_type": "display_data"
    },
    {
     "name": "stderr",
     "output_type": "stream",
     "text": [
      "PartitionExplainer explainer:  45%|████▍     | 57/128 [25:12<30:23, 25.68s/it]"
     ]
    },
    {
     "data": {
      "text/plain": [
       "  0%|          | 0/498 [00:00<?, ?it/s]"
      ],
      "application/vnd.jupyter.widget-view+json": {
       "version_major": 2,
       "version_minor": 0,
       "model_id": "abd8bfdd8f20483f9ce15afb98056788"
      }
     },
     "metadata": {},
     "output_type": "display_data"
    },
    {
     "name": "stderr",
     "output_type": "stream",
     "text": [
      "PartitionExplainer explainer:  45%|████▌     | 58/128 [25:38<30:03, 25.77s/it]"
     ]
    },
    {
     "data": {
      "text/plain": [
       "  0%|          | 0/498 [00:00<?, ?it/s]"
      ],
      "application/vnd.jupyter.widget-view+json": {
       "version_major": 2,
       "version_minor": 0,
       "model_id": "677133e7628040f6a5a44cbc8fd99f97"
      }
     },
     "metadata": {},
     "output_type": "display_data"
    },
    {
     "name": "stderr",
     "output_type": "stream",
     "text": [
      "PartitionExplainer explainer:  46%|████▌     | 59/128 [26:06<30:23, 26.42s/it]"
     ]
    },
    {
     "data": {
      "text/plain": [
       "  0%|          | 0/498 [00:00<?, ?it/s]"
      ],
      "application/vnd.jupyter.widget-view+json": {
       "version_major": 2,
       "version_minor": 0,
       "model_id": "87ea8fcb110e45cca5264a9be5111ce0"
      }
     },
     "metadata": {},
     "output_type": "display_data"
    },
    {
     "name": "stderr",
     "output_type": "stream",
     "text": [
      "PartitionExplainer explainer:  47%|████▋     | 60/128 [26:25<27:28, 24.24s/it]"
     ]
    },
    {
     "data": {
      "text/plain": [
       "  0%|          | 0/498 [00:00<?, ?it/s]"
      ],
      "application/vnd.jupyter.widget-view+json": {
       "version_major": 2,
       "version_minor": 0,
       "model_id": "b00ef94eca144751be565ee7ad34663d"
      }
     },
     "metadata": {},
     "output_type": "display_data"
    },
    {
     "name": "stderr",
     "output_type": "stream",
     "text": [
      "PartitionExplainer explainer:  48%|████▊     | 61/128 [26:45<25:41, 23.01s/it]"
     ]
    },
    {
     "data": {
      "text/plain": [
       "  0%|          | 0/498 [00:00<?, ?it/s]"
      ],
      "application/vnd.jupyter.widget-view+json": {
       "version_major": 2,
       "version_minor": 0,
       "model_id": "a2bd95492f98429c965fa4ceb9b32c8c"
      }
     },
     "metadata": {},
     "output_type": "display_data"
    },
    {
     "name": "stderr",
     "output_type": "stream",
     "text": [
      "PartitionExplainer explainer:  48%|████▊     | 62/128 [27:05<24:22, 22.16s/it]"
     ]
    },
    {
     "data": {
      "text/plain": [
       "  0%|          | 0/498 [00:00<?, ?it/s]"
      ],
      "application/vnd.jupyter.widget-view+json": {
       "version_major": 2,
       "version_minor": 0,
       "model_id": "f04e477daae04dbd91a8244236872e1f"
      }
     },
     "metadata": {},
     "output_type": "display_data"
    },
    {
     "name": "stderr",
     "output_type": "stream",
     "text": [
      "PartitionExplainer explainer:  49%|████▉     | 63/128 [27:24<22:56, 21.17s/it]"
     ]
    },
    {
     "data": {
      "text/plain": [
       "  0%|          | 0/498 [00:00<?, ?it/s]"
      ],
      "application/vnd.jupyter.widget-view+json": {
       "version_major": 2,
       "version_minor": 0,
       "model_id": "957f070a77014bf29436b1c5d47b4697"
      }
     },
     "metadata": {},
     "output_type": "display_data"
    },
    {
     "name": "stderr",
     "output_type": "stream",
     "text": [
      "PartitionExplainer explainer:  50%|█████     | 64/128 [27:49<23:40, 22.20s/it]"
     ]
    },
    {
     "data": {
      "text/plain": [
       "  0%|          | 0/498 [00:00<?, ?it/s]"
      ],
      "application/vnd.jupyter.widget-view+json": {
       "version_major": 2,
       "version_minor": 0,
       "model_id": "2f059f5533524202ba08f82efad870a3"
      }
     },
     "metadata": {},
     "output_type": "display_data"
    },
    {
     "name": "stderr",
     "output_type": "stream",
     "text": [
      "PartitionExplainer explainer:  51%|█████     | 65/128 [28:13<24:00, 22.87s/it]"
     ]
    },
    {
     "data": {
      "text/plain": [
       "  0%|          | 0/498 [00:00<?, ?it/s]"
      ],
      "application/vnd.jupyter.widget-view+json": {
       "version_major": 2,
       "version_minor": 0,
       "model_id": "6f1736730bbc471eb1fece624b87a312"
      }
     },
     "metadata": {},
     "output_type": "display_data"
    },
    {
     "name": "stderr",
     "output_type": "stream",
     "text": [
      "PartitionExplainer explainer:  52%|█████▏    | 66/128 [28:39<24:42, 23.92s/it]"
     ]
    },
    {
     "data": {
      "text/plain": [
       "  0%|          | 0/498 [00:00<?, ?it/s]"
      ],
      "application/vnd.jupyter.widget-view+json": {
       "version_major": 2,
       "version_minor": 0,
       "model_id": "10b5cfedcbca40969868dbd868bc53dd"
      }
     },
     "metadata": {},
     "output_type": "display_data"
    },
    {
     "name": "stderr",
     "output_type": "stream",
     "text": [
      "PartitionExplainer explainer:  52%|█████▏    | 67/128 [29:04<24:29, 24.10s/it]"
     ]
    },
    {
     "data": {
      "text/plain": [
       "  0%|          | 0/498 [00:00<?, ?it/s]"
      ],
      "application/vnd.jupyter.widget-view+json": {
       "version_major": 2,
       "version_minor": 0,
       "model_id": "54dd98f2463d400c81dc914b7d09d027"
      }
     },
     "metadata": {},
     "output_type": "display_data"
    },
    {
     "name": "stderr",
     "output_type": "stream",
     "text": [
      "PartitionExplainer explainer:  53%|█████▎    | 68/128 [29:34<25:50, 25.84s/it]"
     ]
    },
    {
     "data": {
      "text/plain": [
       "  0%|          | 0/498 [00:00<?, ?it/s]"
      ],
      "application/vnd.jupyter.widget-view+json": {
       "version_major": 2,
       "version_minor": 0,
       "model_id": "0c2195080a8c4ae7b844f47f800d2cca"
      }
     },
     "metadata": {},
     "output_type": "display_data"
    },
    {
     "name": "stderr",
     "output_type": "stream",
     "text": [
      "PartitionExplainer explainer:  54%|█████▍    | 69/128 [29:53<23:19, 23.73s/it]"
     ]
    },
    {
     "data": {
      "text/plain": [
       "  0%|          | 0/498 [00:00<?, ?it/s]"
      ],
      "application/vnd.jupyter.widget-view+json": {
       "version_major": 2,
       "version_minor": 0,
       "model_id": "f87ccb3fdea145009fdec1b57c28ce20"
      }
     },
     "metadata": {},
     "output_type": "display_data"
    },
    {
     "name": "stderr",
     "output_type": "stream",
     "text": [
      "PartitionExplainer explainer:  55%|█████▍    | 70/128 [30:19<23:44, 24.56s/it]"
     ]
    },
    {
     "data": {
      "text/plain": [
       "  0%|          | 0/498 [00:00<?, ?it/s]"
      ],
      "application/vnd.jupyter.widget-view+json": {
       "version_major": 2,
       "version_minor": 0,
       "model_id": "e3d13f38a5054df59b7076f198e6f8c6"
      }
     },
     "metadata": {},
     "output_type": "display_data"
    },
    {
     "name": "stderr",
     "output_type": "stream",
     "text": [
      "PartitionExplainer explainer:  55%|█████▌    | 71/128 [30:43<23:11, 24.41s/it]"
     ]
    },
    {
     "data": {
      "text/plain": [
       "  0%|          | 0/498 [00:00<?, ?it/s]"
      ],
      "application/vnd.jupyter.widget-view+json": {
       "version_major": 2,
       "version_minor": 0,
       "model_id": "e23daf7f80964101b651c70d5584fcdd"
      }
     },
     "metadata": {},
     "output_type": "display_data"
    },
    {
     "name": "stderr",
     "output_type": "stream",
     "text": [
      "PartitionExplainer explainer:  56%|█████▋    | 72/128 [31:10<23:30, 25.19s/it]"
     ]
    },
    {
     "data": {
      "text/plain": [
       "  0%|          | 0/498 [00:00<?, ?it/s]"
      ],
      "application/vnd.jupyter.widget-view+json": {
       "version_major": 2,
       "version_minor": 0,
       "model_id": "5ea3066a5b7044faa633f60502aa4ad7"
      }
     },
     "metadata": {},
     "output_type": "display_data"
    },
    {
     "name": "stderr",
     "output_type": "stream",
     "text": [
      "PartitionExplainer explainer:  57%|█████▋    | 73/128 [31:35<23:04, 25.18s/it]"
     ]
    },
    {
     "data": {
      "text/plain": [
       "  0%|          | 0/498 [00:00<?, ?it/s]"
      ],
      "application/vnd.jupyter.widget-view+json": {
       "version_major": 2,
       "version_minor": 0,
       "model_id": "61a8e3c92ec747f1acd406ec93523212"
      }
     },
     "metadata": {},
     "output_type": "display_data"
    },
    {
     "name": "stderr",
     "output_type": "stream",
     "text": [
      "PartitionExplainer explainer:  58%|█████▊    | 74/128 [32:02<23:08, 25.72s/it]"
     ]
    },
    {
     "data": {
      "text/plain": [
       "  0%|          | 0/498 [00:00<?, ?it/s]"
      ],
      "application/vnd.jupyter.widget-view+json": {
       "version_major": 2,
       "version_minor": 0,
       "model_id": "394463c118c048c3a115d429d422f1c7"
      }
     },
     "metadata": {},
     "output_type": "display_data"
    },
    {
     "name": "stderr",
     "output_type": "stream",
     "text": [
      "PartitionExplainer explainer:  59%|█████▊    | 75/128 [32:30<23:18, 26.39s/it]"
     ]
    },
    {
     "data": {
      "text/plain": [
       "  0%|          | 0/498 [00:00<?, ?it/s]"
      ],
      "application/vnd.jupyter.widget-view+json": {
       "version_major": 2,
       "version_minor": 0,
       "model_id": "ed9149af71dd4062a8725dc46bff2430"
      }
     },
     "metadata": {},
     "output_type": "display_data"
    },
    {
     "name": "stderr",
     "output_type": "stream",
     "text": [
      "PartitionExplainer explainer:  59%|█████▉    | 76/128 [32:56<22:38, 26.12s/it]"
     ]
    },
    {
     "data": {
      "text/plain": [
       "  0%|          | 0/498 [00:00<?, ?it/s]"
      ],
      "application/vnd.jupyter.widget-view+json": {
       "version_major": 2,
       "version_minor": 0,
       "model_id": "17c80a78fd544f62870ea51a2f70fa98"
      }
     },
     "metadata": {},
     "output_type": "display_data"
    },
    {
     "name": "stderr",
     "output_type": "stream",
     "text": [
      "PartitionExplainer explainer:  60%|██████    | 77/128 [33:22<22:10, 26.09s/it]"
     ]
    },
    {
     "data": {
      "text/plain": [
       "  0%|          | 0/498 [00:00<?, ?it/s]"
      ],
      "application/vnd.jupyter.widget-view+json": {
       "version_major": 2,
       "version_minor": 0,
       "model_id": "7456f73cc0af41da94abfe80b7e0c164"
      }
     },
     "metadata": {},
     "output_type": "display_data"
    },
    {
     "name": "stderr",
     "output_type": "stream",
     "text": [
      "PartitionExplainer explainer:  61%|██████    | 78/128 [33:43<20:35, 24.71s/it]"
     ]
    },
    {
     "data": {
      "text/plain": [
       "  0%|          | 0/498 [00:00<?, ?it/s]"
      ],
      "application/vnd.jupyter.widget-view+json": {
       "version_major": 2,
       "version_minor": 0,
       "model_id": "a5cddfb86d59488ba3e33444869b2f0d"
      }
     },
     "metadata": {},
     "output_type": "display_data"
    },
    {
     "name": "stderr",
     "output_type": "stream",
     "text": [
      "PartitionExplainer explainer:  62%|██████▏   | 79/128 [34:08<20:11, 24.72s/it]"
     ]
    },
    {
     "data": {
      "text/plain": [
       "  0%|          | 0/498 [00:00<?, ?it/s]"
      ],
      "application/vnd.jupyter.widget-view+json": {
       "version_major": 2,
       "version_minor": 0,
       "model_id": "3ec8a38917054cadbb72d91d541f9d97"
      }
     },
     "metadata": {},
     "output_type": "display_data"
    },
    {
     "name": "stderr",
     "output_type": "stream",
     "text": [
      "PartitionExplainer explainer:  62%|██████▎   | 80/128 [34:45<22:41, 28.36s/it]"
     ]
    },
    {
     "data": {
      "text/plain": [
       "  0%|          | 0/498 [00:00<?, ?it/s]"
      ],
      "application/vnd.jupyter.widget-view+json": {
       "version_major": 2,
       "version_minor": 0,
       "model_id": "c9a1cf5317d84109bfff0aabab664691"
      }
     },
     "metadata": {},
     "output_type": "display_data"
    },
    {
     "name": "stderr",
     "output_type": "stream",
     "text": [
      "PartitionExplainer explainer:  63%|██████▎   | 81/128 [35:21<23:55, 30.54s/it]"
     ]
    },
    {
     "data": {
      "text/plain": [
       "  0%|          | 0/498 [00:00<?, ?it/s]"
      ],
      "application/vnd.jupyter.widget-view+json": {
       "version_major": 2,
       "version_minor": 0,
       "model_id": "9409be6edcd044c683ac77037e2dadb7"
      }
     },
     "metadata": {},
     "output_type": "display_data"
    },
    {
     "name": "stderr",
     "output_type": "stream",
     "text": [
      "PartitionExplainer explainer:  64%|██████▍   | 82/128 [35:49<22:53, 29.86s/it]"
     ]
    },
    {
     "data": {
      "text/plain": [
       "  0%|          | 0/498 [00:00<?, ?it/s]"
      ],
      "application/vnd.jupyter.widget-view+json": {
       "version_major": 2,
       "version_minor": 0,
       "model_id": "5d8d7069f3af46a28b37125ffc44998a"
      }
     },
     "metadata": {},
     "output_type": "display_data"
    },
    {
     "name": "stderr",
     "output_type": "stream",
     "text": [
      "PartitionExplainer explainer:  65%|██████▍   | 83/128 [36:16<21:44, 28.98s/it]"
     ]
    },
    {
     "data": {
      "text/plain": [
       "  0%|          | 0/498 [00:00<?, ?it/s]"
      ],
      "application/vnd.jupyter.widget-view+json": {
       "version_major": 2,
       "version_minor": 0,
       "model_id": "9e57a0d0c05141fba454b415bda94c55"
      }
     },
     "metadata": {},
     "output_type": "display_data"
    },
    {
     "name": "stderr",
     "output_type": "stream",
     "text": [
      "PartitionExplainer explainer:  66%|██████▌   | 84/128 [36:42<20:32, 28.01s/it]"
     ]
    },
    {
     "data": {
      "text/plain": [
       "  0%|          | 0/498 [00:00<?, ?it/s]"
      ],
      "application/vnd.jupyter.widget-view+json": {
       "version_major": 2,
       "version_minor": 0,
       "model_id": "01bb59a13c3c4552b4b2ab2b4cf0eadb"
      }
     },
     "metadata": {},
     "output_type": "display_data"
    },
    {
     "name": "stderr",
     "output_type": "stream",
     "text": [
      "PartitionExplainer explainer:  66%|██████▋   | 85/128 [37:16<21:29, 29.99s/it]"
     ]
    },
    {
     "data": {
      "text/plain": [
       "  0%|          | 0/498 [00:00<?, ?it/s]"
      ],
      "application/vnd.jupyter.widget-view+json": {
       "version_major": 2,
       "version_minor": 0,
       "model_id": "bb0a8bbfd6174aa9a593a3c7ee8a23a7"
      }
     },
     "metadata": {},
     "output_type": "display_data"
    },
    {
     "name": "stderr",
     "output_type": "stream",
     "text": [
      "PartitionExplainer explainer:  67%|██████▋   | 86/128 [37:43<20:20, 29.07s/it]"
     ]
    },
    {
     "data": {
      "text/plain": [
       "  0%|          | 0/498 [00:00<?, ?it/s]"
      ],
      "application/vnd.jupyter.widget-view+json": {
       "version_major": 2,
       "version_minor": 0,
       "model_id": "3db8ad7c3768437ca24c3b7462241098"
      }
     },
     "metadata": {},
     "output_type": "display_data"
    },
    {
     "name": "stderr",
     "output_type": "stream",
     "text": [
      "PartitionExplainer explainer:  68%|██████▊   | 87/128 [38:10<19:30, 28.56s/it]"
     ]
    },
    {
     "data": {
      "text/plain": [
       "  0%|          | 0/498 [00:00<?, ?it/s]"
      ],
      "application/vnd.jupyter.widget-view+json": {
       "version_major": 2,
       "version_minor": 0,
       "model_id": "fc334a4406b84fc795113ca55e74be7d"
      }
     },
     "metadata": {},
     "output_type": "display_data"
    },
    {
     "name": "stderr",
     "output_type": "stream",
     "text": [
      "PartitionExplainer explainer:  69%|██████▉   | 88/128 [38:35<18:10, 27.27s/it]"
     ]
    },
    {
     "data": {
      "text/plain": [
       "  0%|          | 0/498 [00:00<?, ?it/s]"
      ],
      "application/vnd.jupyter.widget-view+json": {
       "version_major": 2,
       "version_minor": 0,
       "model_id": "c1078deb4f7c46dc8e786e370dd4158e"
      }
     },
     "metadata": {},
     "output_type": "display_data"
    },
    {
     "name": "stderr",
     "output_type": "stream",
     "text": [
      "PartitionExplainer explainer:  70%|██████▉   | 89/128 [38:53<16:04, 24.72s/it]"
     ]
    },
    {
     "data": {
      "text/plain": [
       "  0%|          | 0/498 [00:00<?, ?it/s]"
      ],
      "application/vnd.jupyter.widget-view+json": {
       "version_major": 2,
       "version_minor": 0,
       "model_id": "cfe1fbbf22dd45a9920020b239933ee3"
      }
     },
     "metadata": {},
     "output_type": "display_data"
    },
    {
     "name": "stderr",
     "output_type": "stream",
     "text": [
      "PartitionExplainer explainer:  70%|███████   | 90/128 [39:19<15:52, 25.06s/it]"
     ]
    },
    {
     "data": {
      "text/plain": [
       "  0%|          | 0/498 [00:00<?, ?it/s]"
      ],
      "application/vnd.jupyter.widget-view+json": {
       "version_major": 2,
       "version_minor": 0,
       "model_id": "b9138f6288a4432f879ac50be4780536"
      }
     },
     "metadata": {},
     "output_type": "display_data"
    },
    {
     "name": "stderr",
     "output_type": "stream",
     "text": [
      "PartitionExplainer explainer:  71%|███████   | 91/128 [39:51<16:40, 27.04s/it]"
     ]
    },
    {
     "data": {
      "text/plain": [
       "  0%|          | 0/498 [00:00<?, ?it/s]"
      ],
      "application/vnd.jupyter.widget-view+json": {
       "version_major": 2,
       "version_minor": 0,
       "model_id": "402be225d02c4a628f59ce80c0205d03"
      }
     },
     "metadata": {},
     "output_type": "display_data"
    },
    {
     "name": "stderr",
     "output_type": "stream",
     "text": [
      "PartitionExplainer explainer:  72%|███████▏  | 92/128 [40:18<16:09, 26.93s/it]"
     ]
    },
    {
     "data": {
      "text/plain": [
       "  0%|          | 0/498 [00:00<?, ?it/s]"
      ],
      "application/vnd.jupyter.widget-view+json": {
       "version_major": 2,
       "version_minor": 0,
       "model_id": "b5a39c7f36354dbd93cb16812925aeae"
      }
     },
     "metadata": {},
     "output_type": "display_data"
    },
    {
     "name": "stderr",
     "output_type": "stream",
     "text": [
      "PartitionExplainer explainer:  73%|███████▎  | 93/128 [40:46<16:01, 27.46s/it]"
     ]
    },
    {
     "data": {
      "text/plain": [
       "  0%|          | 0/498 [00:00<?, ?it/s]"
      ],
      "application/vnd.jupyter.widget-view+json": {
       "version_major": 2,
       "version_minor": 0,
       "model_id": "ce64ac06988345dbb2a1fdbe6347b3d6"
      }
     },
     "metadata": {},
     "output_type": "display_data"
    },
    {
     "name": "stderr",
     "output_type": "stream",
     "text": [
      "PartitionExplainer explainer:  73%|███████▎  | 94/128 [41:14<15:37, 27.57s/it]"
     ]
    },
    {
     "data": {
      "text/plain": [
       "  0%|          | 0/498 [00:00<?, ?it/s]"
      ],
      "application/vnd.jupyter.widget-view+json": {
       "version_major": 2,
       "version_minor": 0,
       "model_id": "5e5d9d33e3894d87805bdc9659350830"
      }
     },
     "metadata": {},
     "output_type": "display_data"
    },
    {
     "name": "stderr",
     "output_type": "stream",
     "text": [
      "PartitionExplainer explainer:  74%|███████▍  | 95/128 [41:39<14:46, 26.87s/it]"
     ]
    },
    {
     "data": {
      "text/plain": [
       "  0%|          | 0/498 [00:00<?, ?it/s]"
      ],
      "application/vnd.jupyter.widget-view+json": {
       "version_major": 2,
       "version_minor": 0,
       "model_id": "2bcf4f351871492ca581c4eefe1614cf"
      }
     },
     "metadata": {},
     "output_type": "display_data"
    },
    {
     "name": "stderr",
     "output_type": "stream",
     "text": [
      "PartitionExplainer explainer:  75%|███████▌  | 96/128 [42:18<16:15, 30.49s/it]"
     ]
    },
    {
     "data": {
      "text/plain": [
       "  0%|          | 0/498 [00:00<?, ?it/s]"
      ],
      "application/vnd.jupyter.widget-view+json": {
       "version_major": 2,
       "version_minor": 0,
       "model_id": "7ef59d08c4cc464187847b2dc2975259"
      }
     },
     "metadata": {},
     "output_type": "display_data"
    },
    {
     "name": "stderr",
     "output_type": "stream",
     "text": [
      "PartitionExplainer explainer:  76%|███████▌  | 97/128 [42:51<16:01, 31.03s/it]"
     ]
    },
    {
     "data": {
      "text/plain": [
       "  0%|          | 0/498 [00:00<?, ?it/s]"
      ],
      "application/vnd.jupyter.widget-view+json": {
       "version_major": 2,
       "version_minor": 0,
       "model_id": "8083287b74ae47aebdd0b154222a1273"
      }
     },
     "metadata": {},
     "output_type": "display_data"
    },
    {
     "name": "stderr",
     "output_type": "stream",
     "text": [
      "PartitionExplainer explainer:  77%|███████▋  | 98/128 [43:21<15:24, 30.80s/it]"
     ]
    },
    {
     "data": {
      "text/plain": [
       "  0%|          | 0/498 [00:00<?, ?it/s]"
      ],
      "application/vnd.jupyter.widget-view+json": {
       "version_major": 2,
       "version_minor": 0,
       "model_id": "b7e1bd6abd3c4ed59065d3e30fc5940b"
      }
     },
     "metadata": {},
     "output_type": "display_data"
    },
    {
     "name": "stderr",
     "output_type": "stream",
     "text": [
      "PartitionExplainer explainer:  77%|███████▋  | 99/128 [44:18<18:40, 38.65s/it]"
     ]
    },
    {
     "data": {
      "text/plain": [
       "  0%|          | 0/498 [00:00<?, ?it/s]"
      ],
      "application/vnd.jupyter.widget-view+json": {
       "version_major": 2,
       "version_minor": 0,
       "model_id": "a093dd21b5d04060a8518242bb7402c3"
      }
     },
     "metadata": {},
     "output_type": "display_data"
    },
    {
     "name": "stderr",
     "output_type": "stream",
     "text": [
      "PartitionExplainer explainer:  78%|███████▊  | 100/128 [44:50<17:10, 36.81s/it]"
     ]
    },
    {
     "data": {
      "text/plain": [
       "  0%|          | 0/498 [00:00<?, ?it/s]"
      ],
      "application/vnd.jupyter.widget-view+json": {
       "version_major": 2,
       "version_minor": 0,
       "model_id": "b3703a96b3054fa3a2c95dd9158b10b6"
      }
     },
     "metadata": {},
     "output_type": "display_data"
    },
    {
     "name": "stderr",
     "output_type": "stream",
     "text": [
      "PartitionExplainer explainer:  79%|███████▉  | 101/128 [45:20<15:35, 34.65s/it]"
     ]
    },
    {
     "data": {
      "text/plain": [
       "  0%|          | 0/498 [00:00<?, ?it/s]"
      ],
      "application/vnd.jupyter.widget-view+json": {
       "version_major": 2,
       "version_minor": 0,
       "model_id": "e0a4e1769c6f4cabb5cf409ede2441bd"
      }
     },
     "metadata": {},
     "output_type": "display_data"
    },
    {
     "name": "stderr",
     "output_type": "stream",
     "text": [
      "PartitionExplainer explainer:  80%|███████▉  | 102/128 [45:46<13:56, 32.16s/it]"
     ]
    },
    {
     "data": {
      "text/plain": [
       "  0%|          | 0/498 [00:00<?, ?it/s]"
      ],
      "application/vnd.jupyter.widget-view+json": {
       "version_major": 2,
       "version_minor": 0,
       "model_id": "5ddc865ce83c438bad53a6d16156b95b"
      }
     },
     "metadata": {},
     "output_type": "display_data"
    },
    {
     "name": "stderr",
     "output_type": "stream",
     "text": [
      "PartitionExplainer explainer:  80%|████████  | 103/128 [46:13<12:44, 30.58s/it]"
     ]
    },
    {
     "data": {
      "text/plain": [
       "  0%|          | 0/498 [00:00<?, ?it/s]"
      ],
      "application/vnd.jupyter.widget-view+json": {
       "version_major": 2,
       "version_minor": 0,
       "model_id": "5e5f9ed7ca624f378e228d45f55d03b8"
      }
     },
     "metadata": {},
     "output_type": "display_data"
    },
    {
     "name": "stderr",
     "output_type": "stream",
     "text": [
      "PartitionExplainer explainer:  81%|████████▏ | 104/128 [46:42<11:59, 30.00s/it]"
     ]
    },
    {
     "data": {
      "text/plain": [
       "  0%|          | 0/498 [00:00<?, ?it/s]"
      ],
      "application/vnd.jupyter.widget-view+json": {
       "version_major": 2,
       "version_minor": 0,
       "model_id": "b073ce8ea3f44bcc986883fcb5b037b9"
      }
     },
     "metadata": {},
     "output_type": "display_data"
    },
    {
     "name": "stderr",
     "output_type": "stream",
     "text": [
      "PartitionExplainer explainer:  82%|████████▏ | 105/128 [47:10<11:14, 29.33s/it]"
     ]
    },
    {
     "data": {
      "text/plain": [
       "  0%|          | 0/498 [00:00<?, ?it/s]"
      ],
      "application/vnd.jupyter.widget-view+json": {
       "version_major": 2,
       "version_minor": 0,
       "model_id": "35d037f43e564e76b1929c3aa2b1dbf3"
      }
     },
     "metadata": {},
     "output_type": "display_data"
    },
    {
     "name": "stderr",
     "output_type": "stream",
     "text": [
      "PartitionExplainer explainer:  83%|████████▎ | 106/128 [47:42<11:07, 30.35s/it]"
     ]
    },
    {
     "data": {
      "text/plain": [
       "  0%|          | 0/498 [00:00<?, ?it/s]"
      ],
      "application/vnd.jupyter.widget-view+json": {
       "version_major": 2,
       "version_minor": 0,
       "model_id": "cf98b2de933145f3b74cc5a1cbceca73"
      }
     },
     "metadata": {},
     "output_type": "display_data"
    },
    {
     "name": "stderr",
     "output_type": "stream",
     "text": [
      "PartitionExplainer explainer:  84%|████████▎ | 107/128 [48:09<10:15, 29.30s/it]"
     ]
    },
    {
     "data": {
      "text/plain": [
       "  0%|          | 0/498 [00:00<?, ?it/s]"
      ],
      "application/vnd.jupyter.widget-view+json": {
       "version_major": 2,
       "version_minor": 0,
       "model_id": "96109e9f1fc1483db84e79514e8eb3af"
      }
     },
     "metadata": {},
     "output_type": "display_data"
    },
    {
     "name": "stderr",
     "output_type": "stream",
     "text": [
      "PartitionExplainer explainer:  84%|████████▍ | 108/128 [48:51<10:58, 32.94s/it]"
     ]
    },
    {
     "data": {
      "text/plain": [
       "  0%|          | 0/498 [00:00<?, ?it/s]"
      ],
      "application/vnd.jupyter.widget-view+json": {
       "version_major": 2,
       "version_minor": 0,
       "model_id": "d4112a54fbbc4b248fc6fa80ce0dcae6"
      }
     },
     "metadata": {},
     "output_type": "display_data"
    },
    {
     "name": "stderr",
     "output_type": "stream",
     "text": [
      "PartitionExplainer explainer:  85%|████████▌ | 109/128 [49:30<10:59, 34.73s/it]"
     ]
    },
    {
     "data": {
      "text/plain": [
       "  0%|          | 0/498 [00:00<?, ?it/s]"
      ],
      "application/vnd.jupyter.widget-view+json": {
       "version_major": 2,
       "version_minor": 0,
       "model_id": "1169373c30ae4e3fb270fb1d78f3b072"
      }
     },
     "metadata": {},
     "output_type": "display_data"
    },
    {
     "name": "stderr",
     "output_type": "stream",
     "text": [
      "PartitionExplainer explainer:  86%|████████▌ | 110/128 [49:50<09:06, 30.35s/it]"
     ]
    },
    {
     "data": {
      "text/plain": [
       "  0%|          | 0/498 [00:00<?, ?it/s]"
      ],
      "application/vnd.jupyter.widget-view+json": {
       "version_major": 2,
       "version_minor": 0,
       "model_id": "fe23789b51e04ef2a0f56cc60b50fdff"
      }
     },
     "metadata": {},
     "output_type": "display_data"
    },
    {
     "name": "stderr",
     "output_type": "stream",
     "text": [
      "PartitionExplainer explainer:  87%|████████▋ | 111/128 [50:11<07:48, 27.58s/it]"
     ]
    },
    {
     "data": {
      "text/plain": [
       "  0%|          | 0/498 [00:00<?, ?it/s]"
      ],
      "application/vnd.jupyter.widget-view+json": {
       "version_major": 2,
       "version_minor": 0,
       "model_id": "ae3a5f827f404770a1a0f47a903a485b"
      }
     },
     "metadata": {},
     "output_type": "display_data"
    },
    {
     "name": "stderr",
     "output_type": "stream",
     "text": [
      "PartitionExplainer explainer:  88%|████████▊ | 112/128 [50:38<07:20, 27.53s/it]"
     ]
    },
    {
     "data": {
      "text/plain": [
       "  0%|          | 0/498 [00:00<?, ?it/s]"
      ],
      "application/vnd.jupyter.widget-view+json": {
       "version_major": 2,
       "version_minor": 0,
       "model_id": "c2f3576a58da4447bd5071b9ff8924a0"
      }
     },
     "metadata": {},
     "output_type": "display_data"
    },
    {
     "name": "stderr",
     "output_type": "stream",
     "text": [
      "PartitionExplainer explainer:  88%|████████▊ | 113/128 [51:07<07:00, 28.03s/it]"
     ]
    },
    {
     "data": {
      "text/plain": [
       "  0%|          | 0/498 [00:00<?, ?it/s]"
      ],
      "application/vnd.jupyter.widget-view+json": {
       "version_major": 2,
       "version_minor": 0,
       "model_id": "605a36fbbcf9468ba936e01a4ab39351"
      }
     },
     "metadata": {},
     "output_type": "display_data"
    },
    {
     "name": "stderr",
     "output_type": "stream",
     "text": [
      "PartitionExplainer explainer:  89%|████████▉ | 114/128 [51:32<06:17, 26.99s/it]"
     ]
    },
    {
     "data": {
      "text/plain": [
       "  0%|          | 0/498 [00:00<?, ?it/s]"
      ],
      "application/vnd.jupyter.widget-view+json": {
       "version_major": 2,
       "version_minor": 0,
       "model_id": "4d1b6d0fab334dcf8d68c912af636340"
      }
     },
     "metadata": {},
     "output_type": "display_data"
    },
    {
     "name": "stderr",
     "output_type": "stream",
     "text": [
      "PartitionExplainer explainer:  90%|████████▉ | 115/128 [51:58<05:46, 26.62s/it]"
     ]
    },
    {
     "data": {
      "text/plain": [
       "  0%|          | 0/498 [00:00<?, ?it/s]"
      ],
      "application/vnd.jupyter.widget-view+json": {
       "version_major": 2,
       "version_minor": 0,
       "model_id": "cb2a9885829e457882f7151d7d8c0641"
      }
     },
     "metadata": {},
     "output_type": "display_data"
    },
    {
     "name": "stderr",
     "output_type": "stream",
     "text": [
      "PartitionExplainer explainer:  91%|█████████ | 116/128 [52:28<05:33, 27.78s/it]"
     ]
    },
    {
     "data": {
      "text/plain": [
       "  0%|          | 0/498 [00:00<?, ?it/s]"
      ],
      "application/vnd.jupyter.widget-view+json": {
       "version_major": 2,
       "version_minor": 0,
       "model_id": "4abcddbeaacb4fde9c53bb65385ca619"
      }
     },
     "metadata": {},
     "output_type": "display_data"
    },
    {
     "name": "stderr",
     "output_type": "stream",
     "text": [
      "PartitionExplainer explainer:  91%|█████████▏| 117/128 [52:56<05:04, 27.69s/it]"
     ]
    },
    {
     "data": {
      "text/plain": [
       "  0%|          | 0/498 [00:00<?, ?it/s]"
      ],
      "application/vnd.jupyter.widget-view+json": {
       "version_major": 2,
       "version_minor": 0,
       "model_id": "6118b3a77e86414f81d490dd3eec19d6"
      }
     },
     "metadata": {},
     "output_type": "display_data"
    },
    {
     "name": "stderr",
     "output_type": "stream",
     "text": [
      "PartitionExplainer explainer:  92%|█████████▏| 118/128 [53:22<04:33, 27.40s/it]"
     ]
    },
    {
     "data": {
      "text/plain": [
       "  0%|          | 0/498 [00:00<?, ?it/s]"
      ],
      "application/vnd.jupyter.widget-view+json": {
       "version_major": 2,
       "version_minor": 0,
       "model_id": "aa68313ca03d433eb38e0185c8bb704d"
      }
     },
     "metadata": {},
     "output_type": "display_data"
    },
    {
     "name": "stderr",
     "output_type": "stream",
     "text": [
      "PartitionExplainer explainer:  93%|█████████▎| 119/128 [53:50<04:06, 27.44s/it]"
     ]
    },
    {
     "data": {
      "text/plain": [
       "  0%|          | 0/498 [00:00<?, ?it/s]"
      ],
      "application/vnd.jupyter.widget-view+json": {
       "version_major": 2,
       "version_minor": 0,
       "model_id": "2ef8ebd109e5445e837f4f2040720e18"
      }
     },
     "metadata": {},
     "output_type": "display_data"
    },
    {
     "name": "stderr",
     "output_type": "stream",
     "text": [
      "PartitionExplainer explainer:  94%|█████████▍| 120/128 [54:15<03:34, 26.79s/it]"
     ]
    },
    {
     "data": {
      "text/plain": [
       "  0%|          | 0/498 [00:00<?, ?it/s]"
      ],
      "application/vnd.jupyter.widget-view+json": {
       "version_major": 2,
       "version_minor": 0,
       "model_id": "68b895d18893451bb3c85b26c770487c"
      }
     },
     "metadata": {},
     "output_type": "display_data"
    },
    {
     "name": "stderr",
     "output_type": "stream",
     "text": [
      "PartitionExplainer explainer:  95%|█████████▍| 121/128 [54:42<03:06, 26.71s/it]"
     ]
    },
    {
     "data": {
      "text/plain": [
       "  0%|          | 0/498 [00:00<?, ?it/s]"
      ],
      "application/vnd.jupyter.widget-view+json": {
       "version_major": 2,
       "version_minor": 0,
       "model_id": "3b4c2749cf5245cfb1fc20e964fc4211"
      }
     },
     "metadata": {},
     "output_type": "display_data"
    },
    {
     "name": "stderr",
     "output_type": "stream",
     "text": [
      "PartitionExplainer explainer:  95%|█████████▌| 122/128 [55:08<02:38, 26.50s/it]"
     ]
    },
    {
     "data": {
      "text/plain": [
       "  0%|          | 0/498 [00:00<?, ?it/s]"
      ],
      "application/vnd.jupyter.widget-view+json": {
       "version_major": 2,
       "version_minor": 0,
       "model_id": "e13642e28c7942b9bc2107cdbbeb4f5b"
      }
     },
     "metadata": {},
     "output_type": "display_data"
    },
    {
     "name": "stderr",
     "output_type": "stream",
     "text": [
      "PartitionExplainer explainer:  96%|█████████▌| 123/128 [55:34<02:11, 26.36s/it]"
     ]
    },
    {
     "data": {
      "text/plain": [
       "  0%|          | 0/498 [00:00<?, ?it/s]"
      ],
      "application/vnd.jupyter.widget-view+json": {
       "version_major": 2,
       "version_minor": 0,
       "model_id": "5c1e0f5f3cba480ab9f3e9cbdd38d603"
      }
     },
     "metadata": {},
     "output_type": "display_data"
    },
    {
     "name": "stderr",
     "output_type": "stream",
     "text": [
      "PartitionExplainer explainer:  97%|█████████▋| 124/128 [56:01<01:46, 26.50s/it]"
     ]
    },
    {
     "data": {
      "text/plain": [
       "  0%|          | 0/498 [00:00<?, ?it/s]"
      ],
      "application/vnd.jupyter.widget-view+json": {
       "version_major": 2,
       "version_minor": 0,
       "model_id": "bb62326f54bb41d59629a41e4d34deaa"
      }
     },
     "metadata": {},
     "output_type": "display_data"
    },
    {
     "name": "stderr",
     "output_type": "stream",
     "text": [
      "PartitionExplainer explainer:  98%|█████████▊| 125/128 [56:25<01:17, 25.95s/it]"
     ]
    },
    {
     "data": {
      "text/plain": [
       "  0%|          | 0/498 [00:00<?, ?it/s]"
      ],
      "application/vnd.jupyter.widget-view+json": {
       "version_major": 2,
       "version_minor": 0,
       "model_id": "e0ab8e3b403240638dc695495e49bc89"
      }
     },
     "metadata": {},
     "output_type": "display_data"
    },
    {
     "name": "stderr",
     "output_type": "stream",
     "text": [
      "PartitionExplainer explainer:  98%|█████████▊| 126/128 [56:51<00:51, 25.90s/it]"
     ]
    },
    {
     "data": {
      "text/plain": [
       "  0%|          | 0/498 [00:00<?, ?it/s]"
      ],
      "application/vnd.jupyter.widget-view+json": {
       "version_major": 2,
       "version_minor": 0,
       "model_id": "8fc26d1d02124008bb1a058841ceb0b8"
      }
     },
     "metadata": {},
     "output_type": "display_data"
    },
    {
     "name": "stderr",
     "output_type": "stream",
     "text": [
      "PartitionExplainer explainer:  99%|█████████▉| 127/128 [57:18<00:26, 26.09s/it]"
     ]
    },
    {
     "data": {
      "text/plain": [
       "  0%|          | 0/498 [00:00<?, ?it/s]"
      ],
      "application/vnd.jupyter.widget-view+json": {
       "version_major": 2,
       "version_minor": 0,
       "model_id": "70a74304ce5145cca0475ab6af1e2d1d"
      }
     },
     "metadata": {},
     "output_type": "display_data"
    },
    {
     "name": "stderr",
     "output_type": "stream",
     "text": [
      "PartitionExplainer explainer: 100%|██████████| 128/128 [57:42<00:00, 25.65s/it]"
     ]
    },
    {
     "data": {
      "text/plain": [
       "  0%|          | 0/498 [00:00<?, ?it/s]"
      ],
      "application/vnd.jupyter.widget-view+json": {
       "version_major": 2,
       "version_minor": 0,
       "model_id": "9a6496d94dcd4c4bbea5ae8c27c3efa2"
      }
     },
     "metadata": {},
     "output_type": "display_data"
    },
    {
     "name": "stderr",
     "output_type": "stream",
     "text": [
      "PartitionExplainer explainer: 129it [58:12, 27.28s/it]                         \n"
     ]
    }
   ],
   "execution_count": 1
  },
  {
   "metadata": {
    "ExecuteTime": {
     "end_time": "2024-11-29T22:04:52.386850Z",
     "start_time": "2024-11-29T22:04:52.119049Z"
    }
   },
   "cell_type": "code",
   "source": [
    "file = open('temp.html','w')\n",
    "file.write(shap.plots.text(shap_values[34], display=False))\n",
    "file.close\n",
    "#shap.plots.text(shap_values[34])"
   ],
   "id": "b129d58b6706012d",
   "outputs": [
    {
     "data": {
      "text/plain": [
       "<function TextIOWrapper.close()>"
      ]
     },
     "execution_count": 17,
     "metadata": {},
     "output_type": "execute_result"
    }
   ],
   "execution_count": 17
  },
  {
   "metadata": {
    "ExecuteTime": {
     "end_time": "2024-11-29T19:49:29.333088Z",
     "start_time": "2024-11-29T19:49:29.316969Z"
    }
   },
   "cell_type": "code",
   "source": "",
   "id": "afe5d5480ebc305a",
   "outputs": [],
   "execution_count": null
  }
 ],
 "metadata": {
  "kernelspec": {
   "display_name": "Python 3",
   "language": "python",
   "name": "python3"
  },
  "language_info": {
   "codemirror_mode": {
    "name": "ipython",
    "version": 2
   },
   "file_extension": ".py",
   "mimetype": "text/x-python",
   "name": "python",
   "nbconvert_exporter": "python",
   "pygments_lexer": "ipython2",
   "version": "2.7.6"
  }
 },
 "nbformat": 4,
 "nbformat_minor": 5
}
