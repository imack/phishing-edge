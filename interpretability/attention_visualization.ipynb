{
 "cells": [
  {
   "metadata": {},
   "cell_type": "markdown",
   "source": "This notebook is for taking our transformer models and applying SHAP explanations to their output to see which tokens contribute to what.",
   "id": "105dd560bfacb173"
  },
  {
   "cell_type": "code",
   "id": "initial_id",
   "metadata": {
    "collapsed": true,
    "ExecuteTime": {
     "end_time": "2024-11-29T19:43:53.874357Z",
     "start_time": "2024-11-29T19:42:05.681469Z"
    }
   },
   "source": [
    "from torch.utils.data import DataLoader\n",
    "from dataset.phishing_dataset import PhishingDataset\n",
    "\n",
    "from classifiers.basic_url_skinny_bert_classifier import BasicUrlSkinnyBertClassifier\n",
    "import torch\n",
    "import torch.nn as nn\n",
    "from transformers import DistilBertModel, DistilBertTokenizer\n",
    "import shap\n",
    "import scipy as sp\n",
    "import numpy as np\n",
    "import os\n",
    "\n",
    "device = torch.device('cuda' if torch.cuda.is_available() else 'mps' if torch.backends.mps.is_available() else 'cpu')\n",
    "\n",
    "tokenizer = DistilBertTokenizer.from_pretrained('distilbert-base-uncased')\n",
    "\n",
    "model = BasicUrlSkinnyBertClassifier()\n",
    "checkpoint_path = \"../models/canonical/basic_url_skinny_bert_phishing_classifier_epoch_1.pt\"\n",
    "model.load_state_dict(torch.load(checkpoint_path, map_location=device))\n",
    "model.to(device)\n",
    "model.eval()\n",
    "\n",
    "dataset_path = os.path.expanduser(\"~/transfer/phishing_output_tokenized.h5\")\n",
    "test_dataset = PhishingDataset(['url'], split='dev', local_file_path=dataset_path)\n",
    "test_dataloader = DataLoader(test_dataset, batch_size=512, shuffle=True)\n",
    "\n",
    "# Define a wrapper for SHAP compatibility\n",
    "class BertClassifierWrapper(nn.Module):\n",
    "    def __init__(self, model):\n",
    "        super(BertClassifierWrapper, self).__init__()\n",
    "        self.model = model\n",
    "\n",
    "    def forward(self, tokenized_inputs):\n",
    "        input_ids = tokenized_inputs.to(device)\n",
    "        attention_mask = (input_ids != 0).long().to(device)\n",
    "        return self.model(input_ids, attention_mask)\n",
    "\n",
    "wrapped_model = BertClassifierWrapper(model)\n",
    "\n",
    "feature_names = tokenizer.convert_ids_to_tokens(range(len(tokenizer)))\n",
    "\n",
    "# prediction function\n",
    "def f(x):\n",
    "    tv = torch.tensor([tokenizer.encode(v, max_length=128, padding='max_length', truncation=True) for v in x])\n",
    "    class_preds = wrapped_model(tv)\n",
    "    outputs = class_preds.detach().cpu().numpy()\n",
    "    scores = (np.exp(outputs).T / np.exp(outputs).sum(-1)).T\n",
    "    val = sp.special.logit(scores[:, 1])\n",
    "    return val\n",
    "\n",
    "batch = test_dataloader.__iter__().__next__()\n",
    "explainer = shap.Explainer(f, tokenizer)\n",
    "urls = batch['url']\n",
    "shap_values = explainer(urls, fixed_context=1)\n",
    "\n"
   ],
   "outputs": [
    {
     "name": "stderr",
     "output_type": "stream",
     "text": [
      "/opt/homebrew/Caskroom/miniforge/base/envs/phishing-edge/lib/python3.10/site-packages/huggingface_hub/file_download.py:797: FutureWarning: `resume_download` is deprecated and will be removed in version 1.0.0. Downloads always resume when possible. If you want to force a new download, use `force_download=True`.\n",
      "  warnings.warn(\n",
      "/var/folders/j1/dctzbvps2w7cgcp3cflmcxm00000gn/T/ipykernel_76972/2025486221.py:19: FutureWarning: You are using `torch.load` with `weights_only=False` (the current default value), which uses the default pickle module implicitly. It is possible to construct malicious pickle data which will execute arbitrary code during unpickling (See https://github.com/pytorch/pytorch/blob/main/SECURITY.md#untrusted-models for more details). In a future release, the default value for `weights_only` will be flipped to `True`. This limits the functions that could be executed during unpickling. Arbitrary objects will no longer be allowed to be loaded via this mode unless they are explicitly allowlisted by the user via `torch.serialization.add_safe_globals`. We recommend you start setting `weights_only=True` for any use case where you don't have full control of the loaded file. Please open an issue on GitHub for any issues related to this experimental feature.\n",
      "  model.load_state_dict(torch.load(checkpoint_path, map_location=device))\n",
      "PartitionExplainer explainer: 513it [01:34,  4.60it/s]                         \n"
     ]
    }
   ],
   "execution_count": 61
  },
  {
   "metadata": {
    "ExecuteTime": {
     "end_time": "2024-11-29T19:46:49.194759Z",
     "start_time": "2024-11-29T19:46:49.158077Z"
    }
   },
   "cell_type": "code",
   "source": [
    "file = open('temp.html','w')\n",
    "file.write(shap.plots.text(shap_values[:6], display=False))\n",
    "file.close"
   ],
   "id": "b129d58b6706012d",
   "outputs": [
    {
     "ename": "TypeError",
     "evalue": "text() got an unexpected keyword argument 'show'",
     "output_type": "error",
     "traceback": [
      "\u001B[0;31m---------------------------------------------------------------------------\u001B[0m",
      "\u001B[0;31mTypeError\u001B[0m                                 Traceback (most recent call last)",
      "Cell \u001B[0;32mIn[69], line 2\u001B[0m\n\u001B[1;32m      1\u001B[0m \u001B[38;5;28;01mimport\u001B[39;00m \u001B[38;5;21;01mmatplotlib\u001B[39;00m\u001B[38;5;21;01m.\u001B[39;00m\u001B[38;5;21;01mpyplot\u001B[39;00m \u001B[38;5;28;01mas\u001B[39;00m \u001B[38;5;21;01mplt\u001B[39;00m\n\u001B[0;32m----> 2\u001B[0m \u001B[43mshap\u001B[49m\u001B[38;5;241;43m.\u001B[39;49m\u001B[43mplots\u001B[49m\u001B[38;5;241;43m.\u001B[39;49m\u001B[43mtext\u001B[49m\u001B[43m(\u001B[49m\u001B[43mshap_values\u001B[49m\u001B[43m[\u001B[49m\u001B[43m:\u001B[49m\u001B[38;5;241;43m6\u001B[39;49m\u001B[43m]\u001B[49m\u001B[43m,\u001B[49m\u001B[43m \u001B[49m\u001B[43mshow\u001B[49m\u001B[38;5;241;43m=\u001B[39;49m\u001B[38;5;28;43;01mFalse\u001B[39;49;00m\u001B[43m)\u001B[49m\n\u001B[1;32m      3\u001B[0m plt\u001B[38;5;241m.\u001B[39msavefig(\u001B[38;5;124m\"\u001B[39m\u001B[38;5;124mshap_text_plot.png\u001B[39m\u001B[38;5;124m\"\u001B[39m)\n\u001B[1;32m      4\u001B[0m plt\u001B[38;5;241m.\u001B[39mclose()\n",
      "\u001B[0;31mTypeError\u001B[0m: text() got an unexpected keyword argument 'show'"
     ]
    }
   ],
   "execution_count": 69
  },
  {
   "metadata": {
    "ExecuteTime": {
     "end_time": "2024-11-29T19:49:29.333088Z",
     "start_time": "2024-11-29T19:49:29.316969Z"
    }
   },
   "cell_type": "code",
   "source": "",
   "id": "afe5d5480ebc305a",
   "outputs": [],
   "execution_count": null
  }
 ],
 "metadata": {
  "kernelspec": {
   "display_name": "Python 3",
   "language": "python",
   "name": "python3"
  },
  "language_info": {
   "codemirror_mode": {
    "name": "ipython",
    "version": 2
   },
   "file_extension": ".py",
   "mimetype": "text/x-python",
   "name": "python",
   "nbconvert_exporter": "python",
   "pygments_lexer": "ipython2",
   "version": "2.7.6"
  }
 },
 "nbformat": 4,
 "nbformat_minor": 5
}
