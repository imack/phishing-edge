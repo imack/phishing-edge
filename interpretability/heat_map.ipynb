{
 "cells": [
  {
   "metadata": {
    "collapsed": true,
    "jupyter": {
     "is_executing": true
    },
    "ExecuteTime": {
     "start_time": "2024-11-15T18:13:02.982547Z"
    }
   },
   "cell_type": "code",
   "source": [
    "from dataset.phishing_dataset import PhishingDataset\n",
    "import torchcam\n",
    "\n",
    "import torch\n",
    "from torchcam.methods import GradCAM, SmoothGradCAMpp\n",
    "from torchcam.utils import overlay_mask\n",
    "from torchvision.transforms import ToPILImage\n",
    "from PIL import Image\n",
    "import matplotlib.pyplot as plt\n",
    "from classifiers.only_cnn_classifier import PhishingClassifier\n",
    "import random\n",
    "import os\n",
    "\n",
    "model = PhishingClassifier()\n",
    "model.load_state_dict(torch.load(\"../models/cnn_only_phishing_classifier.pt\"))\n",
    "model.eval()\n",
    "\n",
    "dataset_path = os.path.expanduser(\"~/transfer/phishing_output.h5\")\n",
    "\n",
    "# Here, we use the last convolutional layer in ResNet18, which is 'layer4'\n",
    "cam_extractor = SmoothGradCAMpp(model.cnn, target_layer=\"layer4\")\n",
    "\n",
    "dataset = PhishingDataset(required_data=['image', 'url'], split='test', local_file_path=dataset_path)\n",
    "\n",
    "# Define a function to get a random image from the dataset\n",
    "def get_random_image(dataset):\n",
    "    random_index = random.randint(0, len(dataset) - 1)\n",
    "    \n",
    "    sample = dataset[random_index]    \n",
    "    tensor_image = sample['image']  \n",
    "    \n",
    "    return tensor_image, random_index\n",
    "\n",
    "def generate_heatmap(image_tensor, item_idx=None):\n",
    "    image_tensor.requires_grad = True\n",
    "    \n",
    "    logits = model(image_tensor.unsqueeze(0)) \n",
    "    \n",
    "    activation_map = cam_extractor(logits.argmax().item(), logits)\n",
    "    \n",
    "    to_pil = ToPILImage()\n",
    "    \n",
    "    screenshot_image = dataset.screenshots[item_idx]\n",
    "    result = overlay_mask(to_pil(screenshot_image), to_pil(activation_map[0]), alpha=0.5)\n",
    "    \n",
    "    \n",
    "    plt.figure(figsize=(341, 226))\n",
    "    plt.imshow(screenshot_image)\n",
    "    plt.title(\"Original Image\")\n",
    "    plt.axis('off')\n",
    "    plt.savefig('original_image.png', bbox_inches='tight')  # Save as a file\n",
    "    plt.show()\n",
    "    \n",
    "    # Save the heatmap overlay image\n",
    "    plt.figure(figsize=(341, 226))\n",
    "    plt.imshow(result)\n",
    "    plt.title(\"Heatmap Overlay\")\n",
    "    plt.axis('off')\n",
    "    plt.savefig('heatmap_overlay.png', bbox_inches='tight')  # Save as a file\n",
    "    plt.show()\n",
    "\n",
    "# Example usage with a sample image\n",
    "tensor_image, class_idx = get_random_image(dataset)\n",
    "print(dataset.labels[class_idx])\n",
    "generate_heatmap(tensor_image, class_idx)\n"
   ],
   "id": "initial_id",
   "outputs": [
    {
     "name": "stderr",
     "output_type": "stream",
     "text": [
      "/opt/homebrew/Caskroom/miniforge/base/envs/phishing-edge/lib/python3.10/site-packages/torchvision/models/_utils.py:208: UserWarning: The parameter 'pretrained' is deprecated since 0.13 and may be removed in the future, please use 'weights' instead.\n",
      "  warnings.warn(\n",
      "/opt/homebrew/Caskroom/miniforge/base/envs/phishing-edge/lib/python3.10/site-packages/torchvision/models/_utils.py:223: UserWarning: Arguments other than a weight enum or `None` for 'weights' are deprecated since 0.13 and may be removed in the future. The current behavior is equivalent to passing `weights=ResNet18_Weights.IMAGENET1K_V1`. You can also use `weights=ResNet18_Weights.DEFAULT` to get the most up-to-date weights.\n",
      "  warnings.warn(msg)\n",
      "/opt/homebrew/Caskroom/miniforge/base/envs/phishing-edge/lib/python3.10/site-packages/huggingface_hub/file_download.py:797: FutureWarning: `resume_download` is deprecated and will be removed in version 1.0.0. Downloads always resume when possible. If you want to force a new download, use `force_download=True`.\n",
      "  warnings.warn(\n"
     ]
    }
   ],
   "execution_count": null
  }
 ],
 "metadata": {
  "kernelspec": {
   "display_name": "Python 3",
   "language": "python",
   "name": "python3"
  },
  "language_info": {
   "codemirror_mode": {
    "name": "ipython",
    "version": 2
   },
   "file_extension": ".py",
   "mimetype": "text/x-python",
   "name": "python",
   "nbconvert_exporter": "python",
   "pygments_lexer": "ipython2",
   "version": "2.7.6"
  }
 },
 "nbformat": 4,
 "nbformat_minor": 5
}
