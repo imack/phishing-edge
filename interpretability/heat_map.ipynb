{
 "cells": [
  {
   "metadata": {},
   "cell_type": "markdown",
   "source": "This notebook is what we use to visualize attention on some test images by using the torchcam library.\n",
   "id": "5aaf94c85022c30c"
  },
  {
   "metadata": {
    "collapsed": true,
    "ExecuteTime": {
     "end_time": "2024-12-01T17:15:51.702916Z",
     "start_time": "2024-12-01T17:15:50.026783Z"
    }
   },
   "cell_type": "code",
   "source": [
    "from dataset.phishing_dataset import PhishingDataset\n",
    "\n",
    "import torch\n",
    "from torchcam.methods import SmoothGradCAMpp\n",
    "from torchcam.utils import overlay_mask\n",
    "from torchvision.transforms import ToPILImage\n",
    "import matplotlib.pyplot as plt\n",
    "from classifiers.only_cnn_classifier import BasicCNNClassifier\n",
    "import random\n",
    "import os\n",
    "\n",
    "model = BasicCNNClassifier()\n",
    "model.load_state_dict(torch.load(\"../models/canonical/cnn_only_phishing_classifier.pt\"))\n",
    "model.eval()\n",
    "\n",
    "dataset_path = os.path.expanduser(\"~/transfer/phishing_output.h5\")\n",
    "\n",
    "# Here, we use the last convolutional layer in ResNet18, which is 'layer4'\n",
    "cam_extractor = SmoothGradCAMpp(model.cnn, target_layer=\"layer4\")\n",
    "\n",
    "dataset = PhishingDataset(required_data=['image', 'url'], split='test', local_file_path=dataset_path)\n",
    "\n",
    "def get_random_image(dataset):\n",
    "    random_index = random.randint(0, len(dataset) - 1)\n",
    "    \n",
    "    sample = dataset[random_index]    \n",
    "    tensor_image = sample['image']  \n",
    "    \n",
    "    return tensor_image, random_index\n",
    "\n",
    "def generate_heatmap(image_tensor, item_idx=None):\n",
    "    image_tensor.requires_grad = True\n",
    "    \n",
    "    logits = model(image_tensor.unsqueeze(0)) \n",
    "    \n",
    "    activation_map = cam_extractor(logits.argmax().item(), logits)\n",
    "    \n",
    "    to_pil = ToPILImage()\n",
    "    \n",
    "    screenshot_image = dataset.screenshots[item_idx]\n",
    "    result = overlay_mask(to_pil(screenshot_image), to_pil(activation_map[0]), alpha=0.5)\n",
    "    \n",
    "    \n",
    "    plt.figure(figsize=(341, 226))\n",
    "    plt.imshow(screenshot_image)\n",
    "    plt.title(\"Original Image\")\n",
    "    plt.axis('off')\n",
    "    plt.savefig('original_image.png', bbox_inches='tight')  # Save as a file\n",
    "    plt.show()\n",
    "    \n",
    "    # Save the heatmap overlay image\n",
    "    plt.figure(figsize=(341, 226))\n",
    "    plt.imshow(result)\n",
    "    plt.title(\"Heatmap Overlay\")\n",
    "    plt.axis('off')\n",
    "    plt.savefig('heatmap_overlay.png', bbox_inches='tight')  # Save as a file\n",
    "    plt.show()\n",
    "\n",
    "# Example usage with a sample image\n",
    "tensor_image, class_idx = get_random_image(dataset)\n",
    "print(dataset.labels[class_idx])\n",
    "generate_heatmap(tensor_image, class_idx)\n"
   ],
   "id": "initial_id",
   "outputs": [
    {
     "name": "stderr",
     "output_type": "stream",
     "text": [
      "/opt/homebrew/Caskroom/miniforge/base/envs/phishing-edge/lib/python3.10/site-packages/torchvision/io/image.py:13: UserWarning: Failed to load image Python extension: 'dlopen(/opt/homebrew/Caskroom/miniforge/base/envs/phishing-edge/lib/python3.10/site-packages/torchvision/image.so, 0x0006): Symbol not found: __ZN3c1017RegisterOperatorsD1Ev\n",
      "  Referenced from: <6DFB383A-E1D9-3EC6-8A60-382AF4E3C226> /opt/homebrew/Caskroom/miniforge/base/envs/phishing-edge/lib/python3.10/site-packages/torchvision/image.so\n",
      "  Expected in:     <CC2A0259-414A-3562-95F8-DB0DE0A75BD7> /opt/homebrew/Caskroom/miniforge/base/envs/phishing-edge/lib/python3.10/site-packages/torch/lib/libtorch_cpu.dylib'If you don't plan on using image functionality from `torchvision.io`, you can ignore this warning. Otherwise, there might be something wrong with your environment. Did you have `libjpeg` or `libpng` installed before building `torchvision` from source?\n",
      "  warn(\n",
      "Exception ignored in: <bound method IPythonKernel._clean_thread_parent_frames of <ipykernel.ipkernel.IPythonKernel object at 0x1105f4ca0>>\n",
      "Traceback (most recent call last):\n",
      "  File \"/opt/homebrew/Caskroom/miniforge/base/envs/phishing-edge/lib/python3.10/site-packages/ipykernel/ipkernel.py\", line 775, in _clean_thread_parent_frames\n",
      "    def _clean_thread_parent_frames(\n",
      "KeyboardInterrupt: \n"
     ]
    },
    {
     "ename": "ImportError",
     "evalue": "cannot import name 'PhishingClassifier' from 'classifiers.only_cnn_classifier' (/Users/imack/Documents/Stanford/CS230/phishing-edge/classifiers/only_cnn_classifier.py)",
     "output_type": "error",
     "traceback": [
      "\u001B[0;31m---------------------------------------------------------------------------\u001B[0m",
      "\u001B[0;31mImportError\u001B[0m                               Traceback (most recent call last)",
      "Cell \u001B[0;32mIn[1], line 8\u001B[0m\n\u001B[1;32m      6\u001B[0m \u001B[38;5;28;01mfrom\u001B[39;00m \u001B[38;5;21;01mtorchvision\u001B[39;00m\u001B[38;5;21;01m.\u001B[39;00m\u001B[38;5;21;01mtransforms\u001B[39;00m \u001B[38;5;28;01mimport\u001B[39;00m ToPILImage\n\u001B[1;32m      7\u001B[0m \u001B[38;5;28;01mimport\u001B[39;00m \u001B[38;5;21;01mmatplotlib\u001B[39;00m\u001B[38;5;21;01m.\u001B[39;00m\u001B[38;5;21;01mpyplot\u001B[39;00m \u001B[38;5;28;01mas\u001B[39;00m \u001B[38;5;21;01mplt\u001B[39;00m\n\u001B[0;32m----> 8\u001B[0m \u001B[38;5;28;01mfrom\u001B[39;00m \u001B[38;5;21;01mclassifiers\u001B[39;00m\u001B[38;5;21;01m.\u001B[39;00m\u001B[38;5;21;01monly_cnn_classifier\u001B[39;00m \u001B[38;5;28;01mimport\u001B[39;00m PhishingClassifier\n\u001B[1;32m      9\u001B[0m \u001B[38;5;28;01mimport\u001B[39;00m \u001B[38;5;21;01mrandom\u001B[39;00m\n\u001B[1;32m     10\u001B[0m \u001B[38;5;28;01mimport\u001B[39;00m \u001B[38;5;21;01mos\u001B[39;00m\n",
      "\u001B[0;31mImportError\u001B[0m: cannot import name 'PhishingClassifier' from 'classifiers.only_cnn_classifier' (/Users/imack/Documents/Stanford/CS230/phishing-edge/classifiers/only_cnn_classifier.py)"
     ]
    }
   ],
   "execution_count": 1
  }
 ],
 "metadata": {
  "kernelspec": {
   "display_name": "Python 3",
   "language": "python",
   "name": "python3"
  },
  "language_info": {
   "codemirror_mode": {
    "name": "ipython",
    "version": 2
   },
   "file_extension": ".py",
   "mimetype": "text/x-python",
   "name": "python",
   "nbconvert_exporter": "python",
   "pygments_lexer": "ipython2",
   "version": "2.7.6"
  }
 },
 "nbformat": 4,
 "nbformat_minor": 5
}
